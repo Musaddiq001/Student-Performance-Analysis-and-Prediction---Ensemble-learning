{
  "nbformat": 4,
  "nbformat_minor": 0,
  "metadata": {
    "colab": {
      "provenance": []
    },
    "kernelspec": {
      "name": "python3",
      "display_name": "Python 3"
    },
    "language_info": {
      "name": "python"
    }
  },
  "cells": [
    {
      "cell_type": "code",
      "execution_count": null,
      "metadata": {
        "id": "NAvVSMzR6kOI"
      },
      "outputs": [],
      "source": [
        "import numpy as np\n",
        "import matplotlib.pyplot as plt\n",
        "import pandas as pd"
      ]
    },
    {
      "cell_type": "code",
      "source": [
        "from google.colab import drive\n",
        "drive.mount('/content/drive')"
      ],
      "metadata": {
        "id": "CI-vtSm663Jl",
        "colab": {
          "base_uri": "https://localhost:8080/"
        },
        "outputId": "701b20ca-99ed-4e1e-ee6c-443700b1f59d"
      },
      "execution_count": null,
      "outputs": [
        {
          "output_type": "stream",
          "name": "stdout",
          "text": [
            "Mounted at /content/drive\n"
          ]
        }
      ]
    },
    {
      "cell_type": "code",
      "source": [
        "dataset = pd.read_csv('/content/drive/MyDrive/OFFLINE DATA/OFFLINE DATASETS/Final Dataset.csv')"
      ],
      "metadata": {
        "id": "hQ5fb6Cy72qA"
      },
      "execution_count": null,
      "outputs": []
    },
    {
      "cell_type": "code",
      "source": [
        "dataset.head()"
      ],
      "metadata": {
        "colab": {
          "base_uri": "https://localhost:8080/",
          "height": 206
        },
        "id": "pAD-7WDZ8KD_",
        "outputId": "eb5cce26-7ece-460e-b4fa-05447b2e4a95"
      },
      "execution_count": null,
      "outputs": [
        {
          "output_type": "execute_result",
          "data": {
            "text/html": [
              "\n",
              "  <div id=\"df-334c60e8-713f-4d11-ba5b-78503e19d602\">\n",
              "    <div class=\"colab-df-container\">\n",
              "      <div>\n",
              "<style scoped>\n",
              "    .dataframe tbody tr th:only-of-type {\n",
              "        vertical-align: middle;\n",
              "    }\n",
              "\n",
              "    .dataframe tbody tr th {\n",
              "        vertical-align: top;\n",
              "    }\n",
              "\n",
              "    .dataframe thead th {\n",
              "        text-align: right;\n",
              "    }\n",
              "</style>\n",
              "<table border=\"1\" class=\"dataframe\">\n",
              "  <thead>\n",
              "    <tr style=\"text-align: right;\">\n",
              "      <th></th>\n",
              "      <th>Gender</th>\n",
              "      <th>Attendance</th>\n",
              "      <th>Absence</th>\n",
              "      <th>Midterm for 2019-2020, Fall [ 100 / 40% ]</th>\n",
              "      <th>Finalterm for 2019-2020, Fall [ 100 / 60% ]</th>\n",
              "      <th>Total</th>\n",
              "      <th>Class</th>\n",
              "    </tr>\n",
              "  </thead>\n",
              "  <tbody>\n",
              "    <tr>\n",
              "      <th>0</th>\n",
              "      <td>Male</td>\n",
              "      <td>5.0</td>\n",
              "      <td>5.0</td>\n",
              "      <td>90</td>\n",
              "      <td>73.0</td>\n",
              "      <td>81.5</td>\n",
              "      <td>Medium performer</td>\n",
              "    </tr>\n",
              "    <tr>\n",
              "      <th>1</th>\n",
              "      <td>Female</td>\n",
              "      <td>4.0</td>\n",
              "      <td>6.0</td>\n",
              "      <td>70</td>\n",
              "      <td>78.0</td>\n",
              "      <td>74.0</td>\n",
              "      <td>Medium performer</td>\n",
              "    </tr>\n",
              "    <tr>\n",
              "      <th>2</th>\n",
              "      <td>Male</td>\n",
              "      <td>6.0</td>\n",
              "      <td>4.0</td>\n",
              "      <td>-2</td>\n",
              "      <td>-2.0</td>\n",
              "      <td>-2.0</td>\n",
              "      <td>Dropped</td>\n",
              "    </tr>\n",
              "    <tr>\n",
              "      <th>3</th>\n",
              "      <td>Male</td>\n",
              "      <td>8.0</td>\n",
              "      <td>2.0</td>\n",
              "      <td>45</td>\n",
              "      <td>73.0</td>\n",
              "      <td>59.0</td>\n",
              "      <td>Low Performer</td>\n",
              "    </tr>\n",
              "    <tr>\n",
              "      <th>4</th>\n",
              "      <td>Female</td>\n",
              "      <td>9.0</td>\n",
              "      <td>1.0</td>\n",
              "      <td>83</td>\n",
              "      <td>97.0</td>\n",
              "      <td>90.0</td>\n",
              "      <td>High Performer</td>\n",
              "    </tr>\n",
              "  </tbody>\n",
              "</table>\n",
              "</div>\n",
              "      <button class=\"colab-df-convert\" onclick=\"convertToInteractive('df-334c60e8-713f-4d11-ba5b-78503e19d602')\"\n",
              "              title=\"Convert this dataframe to an interactive table.\"\n",
              "              style=\"display:none;\">\n",
              "        \n",
              "  <svg xmlns=\"http://www.w3.org/2000/svg\" height=\"24px\"viewBox=\"0 0 24 24\"\n",
              "       width=\"24px\">\n",
              "    <path d=\"M0 0h24v24H0V0z\" fill=\"none\"/>\n",
              "    <path d=\"M18.56 5.44l.94 2.06.94-2.06 2.06-.94-2.06-.94-.94-2.06-.94 2.06-2.06.94zm-11 1L8.5 8.5l.94-2.06 2.06-.94-2.06-.94L8.5 2.5l-.94 2.06-2.06.94zm10 10l.94 2.06.94-2.06 2.06-.94-2.06-.94-.94-2.06-.94 2.06-2.06.94z\"/><path d=\"M17.41 7.96l-1.37-1.37c-.4-.4-.92-.59-1.43-.59-.52 0-1.04.2-1.43.59L10.3 9.45l-7.72 7.72c-.78.78-.78 2.05 0 2.83L4 21.41c.39.39.9.59 1.41.59.51 0 1.02-.2 1.41-.59l7.78-7.78 2.81-2.81c.8-.78.8-2.07 0-2.86zM5.41 20L4 18.59l7.72-7.72 1.47 1.35L5.41 20z\"/>\n",
              "  </svg>\n",
              "      </button>\n",
              "      \n",
              "  <style>\n",
              "    .colab-df-container {\n",
              "      display:flex;\n",
              "      flex-wrap:wrap;\n",
              "      gap: 12px;\n",
              "    }\n",
              "\n",
              "    .colab-df-convert {\n",
              "      background-color: #E8F0FE;\n",
              "      border: none;\n",
              "      border-radius: 50%;\n",
              "      cursor: pointer;\n",
              "      display: none;\n",
              "      fill: #1967D2;\n",
              "      height: 32px;\n",
              "      padding: 0 0 0 0;\n",
              "      width: 32px;\n",
              "    }\n",
              "\n",
              "    .colab-df-convert:hover {\n",
              "      background-color: #E2EBFA;\n",
              "      box-shadow: 0px 1px 2px rgba(60, 64, 67, 0.3), 0px 1px 3px 1px rgba(60, 64, 67, 0.15);\n",
              "      fill: #174EA6;\n",
              "    }\n",
              "\n",
              "    [theme=dark] .colab-df-convert {\n",
              "      background-color: #3B4455;\n",
              "      fill: #D2E3FC;\n",
              "    }\n",
              "\n",
              "    [theme=dark] .colab-df-convert:hover {\n",
              "      background-color: #434B5C;\n",
              "      box-shadow: 0px 1px 3px 1px rgba(0, 0, 0, 0.15);\n",
              "      filter: drop-shadow(0px 1px 2px rgba(0, 0, 0, 0.3));\n",
              "      fill: #FFFFFF;\n",
              "    }\n",
              "  </style>\n",
              "\n",
              "      <script>\n",
              "        const buttonEl =\n",
              "          document.querySelector('#df-334c60e8-713f-4d11-ba5b-78503e19d602 button.colab-df-convert');\n",
              "        buttonEl.style.display =\n",
              "          google.colab.kernel.accessAllowed ? 'block' : 'none';\n",
              "\n",
              "        async function convertToInteractive(key) {\n",
              "          const element = document.querySelector('#df-334c60e8-713f-4d11-ba5b-78503e19d602');\n",
              "          const dataTable =\n",
              "            await google.colab.kernel.invokeFunction('convertToInteractive',\n",
              "                                                     [key], {});\n",
              "          if (!dataTable) return;\n",
              "\n",
              "          const docLinkHtml = 'Like what you see? Visit the ' +\n",
              "            '<a target=\"_blank\" href=https://colab.research.google.com/notebooks/data_table.ipynb>data table notebook</a>'\n",
              "            + ' to learn more about interactive tables.';\n",
              "          element.innerHTML = '';\n",
              "          dataTable['output_type'] = 'display_data';\n",
              "          await google.colab.output.renderOutput(dataTable, element);\n",
              "          const docLink = document.createElement('div');\n",
              "          docLink.innerHTML = docLinkHtml;\n",
              "          element.appendChild(docLink);\n",
              "        }\n",
              "      </script>\n",
              "    </div>\n",
              "  </div>\n",
              "  "
            ],
            "text/plain": [
              "   Gender  Attendance  ...  Total             Class\n",
              "0    Male         5.0  ...   81.5  Medium performer\n",
              "1  Female         4.0  ...   74.0  Medium performer\n",
              "2    Male         6.0  ...   -2.0           Dropped\n",
              "3    Male         8.0  ...   59.0     Low Performer\n",
              "4  Female         9.0  ...   90.0    High Performer\n",
              "\n",
              "[5 rows x 7 columns]"
            ]
          },
          "metadata": {},
          "execution_count": 4
        }
      ]
    },
    {
      "cell_type": "code",
      "source": [
        "dataset.info()"
      ],
      "metadata": {
        "colab": {
          "base_uri": "https://localhost:8080/"
        },
        "id": "ER3nwc2C8Ow0",
        "outputId": "3d597bd9-16a8-4543-b614-9e10eddfe28b"
      },
      "execution_count": null,
      "outputs": [
        {
          "output_type": "stream",
          "name": "stdout",
          "text": [
            "<class 'pandas.core.frame.DataFrame'>\n",
            "RangeIndex: 384 entries, 0 to 383\n",
            "Data columns (total 7 columns):\n",
            " #   Column                                       Non-Null Count  Dtype  \n",
            "---  ------                                       --------------  -----  \n",
            " 0   Gender                                       384 non-null    object \n",
            " 1   Attendance                                   384 non-null    float64\n",
            " 2   Absence                                      384 non-null    float64\n",
            " 3   Midterm for 2019-2020, Fall [ 100 / 40% ]    384 non-null    int64  \n",
            " 4   Finalterm for 2019-2020, Fall [ 100 / 60% ]  383 non-null    float64\n",
            " 5   Total                                        384 non-null    float64\n",
            " 6   Class                                        384 non-null    object \n",
            "dtypes: float64(4), int64(1), object(2)\n",
            "memory usage: 21.1+ KB\n"
          ]
        }
      ]
    },
    {
      "cell_type": "code",
      "source": [
        "from sklearn.impute import SimpleImputer\n",
        "impute = SimpleImputer(missing_values=np.nan, strategy='mean')\n",
        "impute.fit(dataset[['Finalterm for 2019-2020, Fall [ 100 / 60% ]']])\n",
        "dataset['Finalterm for 2019-2020, Fall [ 100 / 60% ]']=impute.transform(dataset[['Finalterm for 2019-2020, Fall [ 100 / 60% ]']])"
      ],
      "metadata": {
        "id": "QVdNN7GNG6fn"
      },
      "execution_count": null,
      "outputs": []
    },
    {
      "cell_type": "code",
      "source": [
        "dataset['Class'].value_counts()"
      ],
      "metadata": {
        "id": "OhjHEI_F8Sug",
        "outputId": "0247a524-02d8-46b5-a78f-350cbc2bd740",
        "colab": {
          "base_uri": "https://localhost:8080/"
        }
      },
      "execution_count": null,
      "outputs": [
        {
          "output_type": "execute_result",
          "data": {
            "text/plain": [
              "Low Performer       126\n",
              "Medium performer    107\n",
              "High Performer       96\n",
              "Failure              48\n",
              "Dropped               7\n",
              "Name: Class, dtype: int64"
            ]
          },
          "metadata": {},
          "execution_count": 7
        }
      ]
    },
    {
      "cell_type": "code",
      "source": [
        "X = dataset.iloc[:,:-2].values"
      ],
      "metadata": {
        "id": "qf5Ob4Gi8WhN"
      },
      "execution_count": null,
      "outputs": []
    },
    {
      "cell_type": "code",
      "source": [
        "Y = dataset.iloc[:, 6].values"
      ],
      "metadata": {
        "id": "ewWkYsFU8aCC"
      },
      "execution_count": null,
      "outputs": []
    },
    {
      "cell_type": "code",
      "source": [
        "X"
      ],
      "metadata": {
        "id": "-Qj9ODIk8faW",
        "outputId": "9bbfe47b-8da8-4122-fe1d-2792471d7bf8",
        "colab": {
          "base_uri": "https://localhost:8080/"
        }
      },
      "execution_count": null,
      "outputs": [
        {
          "output_type": "execute_result",
          "data": {
            "text/plain": [
              "array([['Male', 5.0, 5.0, 90, 73.0],\n",
              "       ['Female', 4.0, 6.0, 70, 78.0],\n",
              "       ['Male', 6.0, 4.0, -2, -2.0],\n",
              "       ...,\n",
              "       ['Male', 7.0, 3.0, 60, 55.0],\n",
              "       ['Female', 7.0, 3.0, 52, 37.0],\n",
              "       ['Female', 8.5, 1.5, 55, 40.0]], dtype=object)"
            ]
          },
          "metadata": {},
          "execution_count": 10
        }
      ]
    },
    {
      "cell_type": "code",
      "source": [
        "Y"
      ],
      "metadata": {
        "id": "2RtcNw818jnV",
        "outputId": "cc12f759-9396-48e9-ac52-656b71b1b834",
        "colab": {
          "base_uri": "https://localhost:8080/"
        }
      },
      "execution_count": null,
      "outputs": [
        {
          "output_type": "execute_result",
          "data": {
            "text/plain": [
              "array(['Medium performer', 'Medium performer', 'Dropped', 'Low Performer',\n",
              "       'High Performer', 'High Performer', 'Medium performer',\n",
              "       'High Performer', 'Medium performer', 'Medium performer',\n",
              "       'High Performer', 'High Performer', 'High Performer',\n",
              "       'Medium performer', 'High Performer', 'High Performer',\n",
              "       'High Performer', 'Medium performer', 'Medium performer',\n",
              "       'High Performer', 'Low Performer', 'Low Performer',\n",
              "       'High Performer', 'Medium performer', 'Low Performer',\n",
              "       'Medium performer', 'Medium performer', 'High Performer',\n",
              "       'High Performer', 'Medium performer', 'High Performer',\n",
              "       'Low Performer', 'Medium performer', 'Medium performer',\n",
              "       'High Performer', 'High Performer', 'High Performer',\n",
              "       'High Performer', 'High Performer', 'Medium performer',\n",
              "       'Medium performer', 'Medium performer', 'Medium performer',\n",
              "       'High Performer', 'Medium performer', 'High Performer',\n",
              "       'High Performer', 'High Performer', 'Low Performer',\n",
              "       'High Performer', 'High Performer', 'High Performer',\n",
              "       'High Performer', 'High Performer', 'High Performer',\n",
              "       'High Performer', 'Medium performer', 'Medium performer',\n",
              "       'High Performer', 'High Performer', 'High Performer',\n",
              "       'Medium performer', 'High Performer', 'High Performer',\n",
              "       'Medium performer', 'Medium performer', 'Medium performer',\n",
              "       'High Performer', 'High Performer', 'Medium performer',\n",
              "       'High Performer', 'Low Performer', 'Medium performer',\n",
              "       'Medium performer', 'High Performer', 'High Performer',\n",
              "       'High Performer', 'High Performer', 'High Performer',\n",
              "       'Medium performer', 'Medium performer', 'Medium performer',\n",
              "       'Medium performer', 'High Performer', 'Medium performer',\n",
              "       'Medium performer', 'High Performer', 'High Performer',\n",
              "       'Medium performer', 'High Performer', 'High Performer',\n",
              "       'High Performer', 'High Performer', 'Medium performer',\n",
              "       'Medium performer', 'Medium performer', 'Medium performer',\n",
              "       'Medium performer', 'Failure', 'Medium performer', 'Failure',\n",
              "       'Medium performer', 'Low Performer', 'Medium performer', 'Failure',\n",
              "       'Low Performer', 'Low Performer', 'High Performer',\n",
              "       'Medium performer', 'High Performer', 'Failure', 'Low Performer',\n",
              "       'Low Performer', 'Low Performer', 'Low Performer', 'Low Performer',\n",
              "       'Low Performer', 'Medium performer', 'Low Performer', 'Failure',\n",
              "       'High Performer', 'High Performer', 'Failure', 'Medium performer',\n",
              "       'Failure', 'Low Performer', 'Medium performer', 'Low Performer',\n",
              "       'Low Performer', 'Low Performer', 'High Performer',\n",
              "       'Low Performer', 'Failure', 'Low Performer', 'Low Performer',\n",
              "       'Low Performer', 'Failure', 'Low Performer', 'Low Performer',\n",
              "       'Dropped', 'High Performer', 'High Performer', 'Failure',\n",
              "       'Low Performer', 'Low Performer', 'Medium performer',\n",
              "       'High Performer', 'Low Performer', 'Low Performer', 'Failure',\n",
              "       'High Performer', 'High Performer', 'High Performer',\n",
              "       'Low Performer', 'Low Performer', 'Low Performer', 'Low Performer',\n",
              "       'Medium performer', 'High Performer', 'Failure',\n",
              "       'Medium performer', 'Failure', 'Medium performer', 'Low Performer',\n",
              "       'Failure', 'High Performer', 'Failure', 'Low Performer',\n",
              "       'Low Performer', 'High Performer', 'Low Performer', 'Failure',\n",
              "       'Failure', 'Failure', 'Failure', 'Low Performer', 'Dropped',\n",
              "       'Low Performer', 'Low Performer', 'Failure', 'Dropped',\n",
              "       'Low Performer', 'Low Performer', 'Failure', 'High Performer',\n",
              "       'Low Performer', 'Low Performer', 'Low Performer', 'Low Performer',\n",
              "       'Medium performer', 'Low Performer', 'Low Performer',\n",
              "       'Low Performer', 'Low Performer', 'Medium performer',\n",
              "       'High Performer', 'Medium performer', 'High Performer',\n",
              "       'Medium performer', 'Low Performer', 'Failure', 'Medium performer',\n",
              "       'Low Performer', 'Failure', 'Low Performer', 'Medium performer',\n",
              "       'Low Performer', 'Low Performer', 'Low Performer', 'Low Performer',\n",
              "       'Failure', 'Low Performer', 'Low Performer', 'Medium performer',\n",
              "       'Medium performer', 'Failure', 'Medium performer',\n",
              "       'Medium performer', 'Low Performer', 'Failure', 'Medium performer',\n",
              "       'High Performer', 'Low Performer', 'Medium performer',\n",
              "       'Medium performer', 'Medium performer', 'Medium performer',\n",
              "       'High Performer', 'Medium performer', 'High Performer',\n",
              "       'Medium performer', 'High Performer', 'Low Performer', 'Failure',\n",
              "       'Failure', 'Failure', 'Medium performer', 'Medium performer',\n",
              "       'Low Performer', 'Failure', 'Low Performer', 'Medium performer',\n",
              "       'Low Performer', 'Medium performer', 'Low Performer',\n",
              "       'Low Performer', 'Medium performer', 'High Performer',\n",
              "       'Medium performer', 'High Performer', 'Medium performer',\n",
              "       'Low Performer', 'Failure', 'High Performer', 'Medium performer',\n",
              "       'Low Performer', 'Low Performer', 'High Performer',\n",
              "       'Low Performer', 'Medium performer', 'Low Performer',\n",
              "       'Low Performer', 'Medium performer', 'Low Performer',\n",
              "       'High Performer', 'High Performer', 'Failure', 'Low Performer',\n",
              "       'Failure', 'High Performer', 'Low Performer', 'Failure', 'Failure',\n",
              "       'Failure', 'Low Performer', 'Medium performer', 'Low Performer',\n",
              "       'Low Performer', 'Low Performer', 'Low Performer', 'Low Performer',\n",
              "       'Low Performer', 'Low Performer', 'Medium performer',\n",
              "       'Low Performer', 'Dropped', 'Low Performer', 'Medium performer',\n",
              "       'Low Performer', 'Failure', 'Medium performer', 'Medium performer',\n",
              "       'Medium performer', 'Low Performer', 'Medium performer',\n",
              "       'Low Performer', 'Low Performer', 'Low Performer',\n",
              "       'Medium performer', 'Low Performer', 'Low Performer',\n",
              "       'Medium performer', 'Low Performer', 'Failure', 'High Performer',\n",
              "       'High Performer', 'Low Performer', 'Low Performer', 'Failure',\n",
              "       'Low Performer', 'Medium performer', 'Low Performer',\n",
              "       'Low Performer', 'Medium performer', 'Low Performer', 'Dropped',\n",
              "       'Medium performer', 'High Performer', 'Failure', 'Low Performer',\n",
              "       'Low Performer', 'High Performer', 'High Performer',\n",
              "       'Medium performer', 'Low Performer', 'Low Performer',\n",
              "       'High Performer', 'High Performer', 'High Performer', 'Failure',\n",
              "       'High Performer', 'Low Performer', 'Medium performer', 'Dropped',\n",
              "       'High Performer', 'High Performer', 'Failure', 'Medium performer',\n",
              "       'Low Performer', 'High Performer', 'Medium performer',\n",
              "       'Low Performer', 'High Performer', 'Low Performer',\n",
              "       'Medium performer', 'Low Performer', 'High Performer',\n",
              "       'High Performer', 'Low Performer', 'Medium performer',\n",
              "       'Low Performer', 'Low Performer', 'Low Performer',\n",
              "       'Medium performer', 'Low Performer', 'High Performer',\n",
              "       'Medium performer', 'High Performer', 'Low Performer',\n",
              "       'Medium performer', 'Low Performer', 'Medium performer',\n",
              "       'Low Performer', 'Low Performer', 'Medium performer',\n",
              "       'Medium performer', 'Failure', 'Failure', 'Low Performer',\n",
              "       'Medium performer', 'High Performer', 'Failure', 'Low Performer',\n",
              "       'Failure', 'Medium performer', 'Medium performer', 'Low Performer',\n",
              "       'Low Performer', 'Medium performer', 'Medium performer',\n",
              "       'Low Performer', 'Low Performer', 'Failure', 'Failure'],\n",
              "      dtype=object)"
            ]
          },
          "metadata": {},
          "execution_count": 11
        }
      ]
    },
    {
      "cell_type": "code",
      "source": [
        "from sklearn.compose import ColumnTransformer\n",
        "from sklearn.preprocessing import OneHotEncoder\n",
        "\n",
        "ct = ColumnTransformer(transformers=[('encoder', OneHotEncoder(), [0])], remainder = 'passthrough')\n",
        "X = np.array(ct.fit_transform(X))"
      ],
      "metadata": {
        "id": "UhsnS8iB8owO"
      },
      "execution_count": null,
      "outputs": []
    },
    {
      "cell_type": "code",
      "source": [
        "print(X)"
      ],
      "metadata": {
        "id": "WSNMs7gU8sHr",
        "outputId": "66e7e36e-31e3-4326-b5e5-aee4a3c1217c",
        "colab": {
          "base_uri": "https://localhost:8080/"
        }
      },
      "execution_count": null,
      "outputs": [
        {
          "output_type": "stream",
          "name": "stdout",
          "text": [
            "[[0.0 1.0 5.0 5.0 90 73.0]\n",
            " [1.0 0.0 4.0 6.0 70 78.0]\n",
            " [0.0 1.0 6.0 4.0 -2 -2.0]\n",
            " ...\n",
            " [0.0 1.0 7.0 3.0 60 55.0]\n",
            " [1.0 0.0 7.0 3.0 52 37.0]\n",
            " [1.0 0.0 8.5 1.5 55 40.0]]\n"
          ]
        }
      ]
    },
    {
      "cell_type": "code",
      "source": [
        "from sklearn.preprocessing import LabelEncoder\n",
        "labelencoder_Y = LabelEncoder()\n",
        "Y = labelencoder_Y.fit_transform(Y)"
      ],
      "metadata": {
        "id": "rNTCSpz18vrS"
      },
      "execution_count": null,
      "outputs": []
    },
    {
      "cell_type": "code",
      "source": [
        "print(Y)"
      ],
      "metadata": {
        "id": "Kgf8BFMS8y6k",
        "outputId": "6e337ba2-0309-4695-8e8f-40a11441882c",
        "colab": {
          "base_uri": "https://localhost:8080/"
        }
      },
      "execution_count": null,
      "outputs": [
        {
          "output_type": "stream",
          "name": "stdout",
          "text": [
            "[4 4 0 3 2 2 4 2 4 4 2 2 2 4 2 2 2 4 4 2 3 3 2 4 3 4 4 2 2 4 2 3 4 4 2 2 2\n",
            " 2 2 4 4 4 4 2 4 2 2 2 3 2 2 2 2 2 2 2 4 4 2 2 2 4 2 2 4 4 4 2 2 4 2 3 4 4\n",
            " 2 2 2 2 2 4 4 4 4 2 4 4 2 2 4 2 2 2 2 4 4 4 4 4 1 4 1 4 3 4 1 3 3 2 4 2 1\n",
            " 3 3 3 3 3 3 4 3 1 2 2 1 4 1 3 4 3 3 3 2 3 1 3 3 3 1 3 3 0 2 2 1 3 3 4 2 3\n",
            " 3 1 2 2 2 3 3 3 3 4 2 1 4 1 4 3 1 2 1 3 3 2 3 1 1 1 1 3 0 3 3 1 0 3 3 1 2\n",
            " 3 3 3 3 4 3 3 3 3 4 2 4 2 4 3 1 4 3 1 3 4 3 3 3 3 1 3 3 4 4 1 4 4 3 1 4 2\n",
            " 3 4 4 4 4 2 4 2 4 2 3 1 1 1 4 4 3 1 3 4 3 4 3 3 4 2 4 2 4 3 1 2 4 3 3 2 3\n",
            " 4 3 3 4 3 2 2 1 3 1 2 3 1 1 1 3 4 3 3 3 3 3 3 3 4 3 0 3 4 3 1 4 4 4 3 4 3\n",
            " 3 3 4 3 3 4 3 1 2 2 3 3 1 3 4 3 3 4 3 0 4 2 1 3 3 2 2 4 3 3 2 2 2 1 2 3 4\n",
            " 0 2 2 1 4 3 2 4 3 2 3 4 3 2 2 3 4 3 3 3 4 3 2 4 2 3 4 3 4 3 3 4 4 1 1 3 4\n",
            " 2 1 3 1 4 4 3 3 4 4 3 3 1 1]\n"
          ]
        }
      ]
    },
    {
      "cell_type": "code",
      "source": [
        "from sklearn.model_selection import train_test_split\n",
        "X_train, X_test, Y_train, Y_test = train_test_split(X,Y, test_size = 0.2, random_state= 0)"
      ],
      "metadata": {
        "id": "ghwkfEk783lA"
      },
      "execution_count": null,
      "outputs": []
    },
    {
      "cell_type": "code",
      "source": [
        "X_train"
      ],
      "metadata": {
        "id": "r3_caq_s87wi",
        "outputId": "007402ea-8105-40e9-bea4-88fa7f7c2138",
        "colab": {
          "base_uri": "https://localhost:8080/"
        }
      },
      "execution_count": null,
      "outputs": [
        {
          "output_type": "execute_result",
          "data": {
            "text/plain": [
              "array([[0.0, 1.0, 10.0, 0.0, 77, 69.0],\n",
              "       [0.0, 1.0, 8.5, 1.5, 82, 87.0],\n",
              "       [0.0, 1.0, 9.5, 0.5, 57, 81.0],\n",
              "       ...,\n",
              "       [1.0, 0.0, 8.5, 1.5, 77, 65.0],\n",
              "       [0.0, 1.0, 10.0, 0.0, 90, 100.0],\n",
              "       [0.0, 1.0, 5.5, 4.5, 29, 35.0]], dtype=object)"
            ]
          },
          "metadata": {},
          "execution_count": 17
        }
      ]
    },
    {
      "cell_type": "code",
      "source": [
        "X_test"
      ],
      "metadata": {
        "id": "seBoNhhM89ap",
        "outputId": "fc08fedd-9d20-4753-fc0c-ba9131fdd910",
        "colab": {
          "base_uri": "https://localhost:8080/"
        }
      },
      "execution_count": null,
      "outputs": [
        {
          "output_type": "execute_result",
          "data": {
            "text/plain": [
              "array([[0.0, 1.0, 9.0, 1.0, 58, 89.0],\n",
              "       [1.0, 0.0, 8.0, 2.0, 33, 41.0],\n",
              "       [0.0, 1.0, 9.0, 1.0, 55, 56.0],\n",
              "       [1.0, 0.0, 10.0, 0.0, 86, 99.0],\n",
              "       [0.0, 1.0, 8.5, 1.5, 68, 90.0],\n",
              "       [0.0, 1.0, 10.0, 0.0, 100, 97.0],\n",
              "       [0.0, 1.0, 8.75, 1.25, 71, 28.0],\n",
              "       [0.0, 1.0, 3.0, 7.0, 30, -2.0],\n",
              "       [0.0, 1.0, 10.0, 0.0, 63, 39.0],\n",
              "       [0.0, 1.0, 10.0, 0.0, 85, 69.0],\n",
              "       [1.0, 0.0, 9.0, 1.0, 73, 99.0],\n",
              "       [0.0, 1.0, 9.0, 1.0, 31, 45.0],\n",
              "       [0.0, 1.0, 10.0, 0.0, 79, 51.0],\n",
              "       [0.0, 1.0, 9.0, 1.0, 41, 30.0],\n",
              "       [0.0, 1.0, 9.5, 0.5, 88, 88.0],\n",
              "       [0.0, 1.0, 10.0, 0.0, 88, 86.0],\n",
              "       [0.0, 1.0, 10.0, 0.0, 86, 42.0],\n",
              "       [1.0, 0.0, 3.5, 6.5, 81, 27.0],\n",
              "       [0.0, 1.0, 9.0, 1.0, 48, 57.0],\n",
              "       [0.0, 1.0, 10.0, 0.0, 88, 52.0],\n",
              "       [0.0, 1.0, 6.5, 3.5, 71, 73.0],\n",
              "       [0.0, 1.0, 10.0, 0.0, 48, 49.0],\n",
              "       [0.0, 1.0, 10.0, 0.0, 97, 94.0],\n",
              "       [1.0, 0.0, 8.5, 1.5, 46, 55.0],\n",
              "       [1.0, 0.0, 9.0, 1.0, 72, 82.0],\n",
              "       [0.0, 1.0, 8.0, 2.0, 64, 73.0],\n",
              "       [0.0, 1.0, 10.0, 0.0, 93, 63.0],\n",
              "       [0.0, 1.0, 10.0, 0.0, 87, 92.0],\n",
              "       [1.0, 0.0, 8.75, 1.25, 65, 39.0],\n",
              "       [0.0, 1.0, 9.0, 1.0, 42, 48.0],\n",
              "       [0.0, 1.0, 8.75, 1.25, 52, 46.5],\n",
              "       [0.0, 1.0, 6.5, 3.5, 33, 10.0],\n",
              "       [0.0, 1.0, 9.5, 0.5, 86, 100.0],\n",
              "       [0.0, 1.0, 8.0, 2.0, 68, 97.0],\n",
              "       [1.0, 0.0, 4.0, 6.0, 70, 78.0],\n",
              "       [0.0, 1.0, 9.0, 1.0, 88, 82.0],\n",
              "       [0.0, 1.0, 10.0, 0.0, 83, 100.0],\n",
              "       [0.0, 1.0, 9.0, 1.0, 63, 46.0],\n",
              "       [0.0, 1.0, 9.5, 0.5, 34, 43.0],\n",
              "       [0.0, 1.0, 10.0, 0.0, 85, 100.0],\n",
              "       [0.0, 1.0, 7.5, 2.5, 76, 55.0],\n",
              "       [1.0, 0.0, 10.0, 0.0, 51, 61.0],\n",
              "       [1.0, 0.0, 10.0, 0.0, 86, 92.0],\n",
              "       [1.0, 0.0, 9.5, 0.5, 78, 77.0],\n",
              "       [0.0, 1.0, 7.75, 2.25, 69, 35.0],\n",
              "       [0.0, 1.0, 9.5, 0.5, 85, 89.0],\n",
              "       [0.0, 1.0, 10.0, 0.0, 82, 100.0],\n",
              "       [0.0, 1.0, 9.5, 0.5, 53, 51.0],\n",
              "       [0.0, 1.0, 10.5, -0.5, 85, 92.0],\n",
              "       [1.0, 0.0, 9.0, 1.0, 83, 96.0],\n",
              "       [0.0, 1.0, 10.0, 0.0, 93, 83.0],\n",
              "       [0.0, 1.0, 10.0, 0.0, 84, 88.0],\n",
              "       [0.0, 1.0, 10.0, 0.0, 88, 87.0],\n",
              "       [0.0, 1.0, 8.5, 1.5, 76, 100.0],\n",
              "       [1.0, 0.0, 10.0, 0.0, 88, 86.0],\n",
              "       [1.0, 0.0, 9.0, 1.0, 90, 92.0],\n",
              "       [1.0, 0.0, 9.5, 0.5, 78, 90.0],\n",
              "       [0.0, 1.0, 8.5, 1.5, 56, 72.0],\n",
              "       [1.0, 0.0, 10.0, 0.0, 72, 56.5],\n",
              "       [0.0, 1.0, 10.0, 0.0, 74, 43.0],\n",
              "       [1.0, 0.0, 9.5, 0.5, 73, 79.0],\n",
              "       [0.0, 1.0, 9.5, 0.5, 73, 64.0],\n",
              "       [0.0, 1.0, 9.0, 1.0, 44, 43.0],\n",
              "       [0.0, 1.0, 8.0, 2.0, 59, 66.0],\n",
              "       [0.0, 1.0, 7.0, 3.0, 58, 30.0],\n",
              "       [0.0, 1.0, 9.5, 0.5, 83, 90.0],\n",
              "       [0.0, 1.0, 8.5, 1.5, 78, 100.0],\n",
              "       [0.0, 1.0, 10.0, 0.0, 58, 95.0],\n",
              "       [0.0, 1.0, 10.0, 0.0, 69, 44.0],\n",
              "       [0.0, 1.0, 9.0, 1.0, 91, 77.0],\n",
              "       [0.0, 1.0, 10.0, 0.0, 90, 83.0],\n",
              "       [0.0, 1.0, 10.0, 0.0, 87, 69.0],\n",
              "       [1.0, 0.0, 9.0, 1.0, 67, 60.0],\n",
              "       [1.0, 0.0, 9.5, 0.5, 45, 73.0],\n",
              "       [1.0, 0.0, 9.5, 0.5, 61, 83.0],\n",
              "       [0.0, 1.0, 9.0, 1.0, 67, 34.0],\n",
              "       [0.0, 1.0, 9.0, 1.0, 60, 84.0]], dtype=object)"
            ]
          },
          "metadata": {},
          "execution_count": 18
        }
      ]
    },
    {
      "cell_type": "code",
      "source": [
        "Y_train"
      ],
      "metadata": {
        "id": "Szj91CM99BZg",
        "outputId": "1204b825-a05d-4746-b7a5-42c5ed9aaadf",
        "colab": {
          "base_uri": "https://localhost:8080/"
        }
      },
      "execution_count": null,
      "outputs": [
        {
          "output_type": "execute_result",
          "data": {
            "text/plain": [
              "array([4, 4, 3, 4, 1, 3, 1, 4, 2, 2, 1, 4, 3, 1, 2, 3, 3, 1, 3, 4, 2, 4,\n",
              "       2, 2, 1, 4, 3, 3, 2, 2, 4, 2, 3, 1, 3, 3, 4, 4, 2, 4, 4, 4, 3, 3,\n",
              "       4, 4, 2, 3, 3, 3, 3, 4, 4, 3, 3, 3, 3, 0, 2, 1, 4, 3, 1, 3, 4, 3,\n",
              "       4, 2, 3, 4, 3, 2, 3, 4, 4, 1, 1, 1, 4, 4, 2, 4, 2, 3, 1, 3, 4, 3,\n",
              "       4, 3, 3, 4, 3, 2, 4, 1, 2, 1, 2, 3, 4, 3, 3, 4, 2, 3, 1, 2, 4, 4,\n",
              "       4, 2, 4, 4, 3, 4, 3, 1, 3, 3, 3, 4, 1, 4, 3, 4, 3, 2, 4, 4, 1, 4,\n",
              "       1, 1, 2, 4, 3, 3, 1, 3, 3, 3, 1, 1, 4, 2, 2, 2, 2, 2, 3, 4, 2, 0,\n",
              "       3, 2, 4, 2, 4, 4, 2, 2, 4, 3, 2, 3, 2, 2, 4, 3, 4, 2, 4, 3, 3, 0,\n",
              "       3, 3, 2, 2, 2, 1, 3, 2, 3, 4, 4, 3, 2, 3, 2, 1, 2, 1, 2, 4, 3, 2,\n",
              "       3, 1, 3, 4, 4, 3, 2, 4, 2, 3, 4, 2, 4, 4, 3, 1, 3, 3, 4, 4, 4, 3,\n",
              "       2, 4, 3, 3, 3, 2, 3, 3, 0, 3, 3, 1, 4, 1, 4, 2, 1, 3, 2, 4, 3, 1,\n",
              "       4, 4, 2, 2, 2, 4, 3, 1, 4, 2, 2, 3, 3, 4, 2, 1, 3, 2, 3, 3, 3, 4,\n",
              "       3, 3, 4, 3, 2, 3, 0, 3, 3, 4, 3, 2, 2, 4, 3, 2, 4, 0, 4, 2, 4, 3,\n",
              "       1, 2, 4, 3, 3, 4, 2, 2, 4, 3, 3, 3, 4, 4, 2, 3, 4, 3, 4, 2, 1])"
            ]
          },
          "metadata": {},
          "execution_count": 19
        }
      ]
    },
    {
      "cell_type": "code",
      "source": [
        "Y_test"
      ],
      "metadata": {
        "id": "0njr0Wen9Ezf",
        "outputId": "15337b4f-94d2-4a8e-da40-2d28deacdce7",
        "colab": {
          "base_uri": "https://localhost:8080/"
        }
      },
      "execution_count": null,
      "outputs": [
        {
          "output_type": "execute_result",
          "data": {
            "text/plain": [
              "array([4, 1, 3, 2, 4, 2, 1, 0, 3, 4, 2, 1, 3, 1, 2, 2, 3, 3, 3, 4, 4, 1,\n",
              "       2, 3, 4, 3, 4, 2, 3, 1, 1, 1, 2, 4, 4, 2, 2, 3, 1, 2, 3, 3, 2, 4,\n",
              "       3, 2, 2, 3, 2, 2, 2, 2, 2, 2, 2, 2, 4, 3, 3, 3, 4, 3, 1, 3, 1, 2,\n",
              "       2, 4, 3, 4, 2, 4, 3, 3, 4, 3, 4])"
            ]
          },
          "metadata": {},
          "execution_count": 20
        }
      ]
    },
    {
      "cell_type": "code",
      "source": [
        "from sklearn.preprocessing import StandardScaler\n",
        "\n",
        "sc_X = StandardScaler()\n",
        "X_train = sc_X.fit_transform(X_train)\n",
        "X_test = sc_X.transform(X_test)"
      ],
      "metadata": {
        "id": "a--XujhP9H_J"
      },
      "execution_count": null,
      "outputs": []
    },
    {
      "cell_type": "code",
      "source": [
        "X_train"
      ],
      "metadata": {
        "id": "Yutk2mhC9L3R",
        "outputId": "91deeee4-d11b-48a0-c69c-9a3fdbab1734",
        "colab": {
          "base_uri": "https://localhost:8080/"
        }
      },
      "execution_count": null,
      "outputs": [
        {
          "output_type": "execute_result",
          "data": {
            "text/plain": [
              "array([[-0.58863506,  0.58863506,  0.87734233, -0.87734233,  0.37204979,\n",
              "         0.0380002 ],\n",
              "       [-0.58863506,  0.58863506, -0.4072877 ,  0.4072877 ,  0.64941572,\n",
              "         0.82359275],\n",
              "       [-0.58863506,  0.58863506,  0.44913232, -0.44913232, -0.7374139 ,\n",
              "         0.56172857],\n",
              "       ...,\n",
              "       [ 1.69884548, -1.69884548, -0.4072877 ,  0.4072877 ,  0.37204979,\n",
              "        -0.13657593],\n",
              "       [-0.58863506,  0.58863506,  0.87734233, -0.87734233,  1.09320119,\n",
              "         1.39096515],\n",
              "       [-0.58863506,  0.58863506, -2.97654776,  2.97654776, -2.29066306,\n",
              "        -1.44589685]])"
            ]
          },
          "metadata": {},
          "execution_count": 22
        }
      ]
    },
    {
      "cell_type": "code",
      "source": [
        "X_test"
      ],
      "metadata": {
        "id": "yxbC3yut9Oxu",
        "outputId": "48b8bb8c-f136-427e-d794-e2616d2d1019",
        "colab": {
          "base_uri": "https://localhost:8080/"
        }
      },
      "execution_count": null,
      "outputs": [
        {
          "output_type": "execute_result",
          "data": {
            "text/plain": [
              "array([[-0.58863506,  0.58863506,  0.02092231, -0.02092231, -0.68194071,\n",
              "         0.91088081],\n",
              "       [ 1.69884548, -1.69884548, -0.83549771,  0.83549771, -2.06877032,\n",
              "        -1.18403266],\n",
              "       [-0.58863506,  0.58863506,  0.02092231, -0.02092231, -0.84836026,\n",
              "        -0.5293722 ],\n",
              "       [ 1.69884548, -1.69884548,  0.87734233, -0.87734233,  0.87130845,\n",
              "         1.34732112],\n",
              "       [-0.58863506,  0.58863506, -0.4072877 ,  0.4072877 , -0.12720887,\n",
              "         0.95452484],\n",
              "       [-0.58863506,  0.58863506,  0.87734233, -0.87734233,  1.64793304,\n",
              "         1.26003306],\n",
              "       [-0.58863506,  0.58863506, -0.19318269,  0.19318269,  0.03921069,\n",
              "        -1.75140506],\n",
              "       [-0.58863506,  0.58863506, -5.11759781,  5.11759781, -2.23518988,\n",
              "        -3.06072599],\n",
              "       [-0.58863506,  0.58863506,  0.87734233, -0.87734233, -0.40457479,\n",
              "        -1.27132073],\n",
              "       [-0.58863506,  0.58863506,  0.87734233, -0.87734233,  0.81583527,\n",
              "         0.0380002 ],\n",
              "       [ 1.69884548, -1.69884548,  0.02092231, -0.02092231,  0.15015706,\n",
              "         1.34732112],\n",
              "       [-0.58863506,  0.58863506,  0.02092231, -0.02092231, -2.17971669,\n",
              "        -1.00945654],\n",
              "       [-0.58863506,  0.58863506,  0.87734233, -0.87734233,  0.48299616,\n",
              "        -0.74759236],\n",
              "       [-0.58863506,  0.58863506,  0.02092231, -0.02092231, -1.62498485,\n",
              "        -1.664117  ],\n",
              "       [-0.58863506,  0.58863506,  0.44913232, -0.44913232,  0.98225482,\n",
              "         0.86723678],\n",
              "       [-0.58863506,  0.58863506,  0.87734233, -0.87734233,  0.98225482,\n",
              "         0.77994872],\n",
              "       [-0.58863506,  0.58863506,  0.87734233, -0.87734233,  0.87130845,\n",
              "        -1.14038863],\n",
              "       [ 1.69884548, -1.69884548, -4.6893878 ,  4.6893878 ,  0.59394253,\n",
              "        -1.79504909],\n",
              "       [-0.58863506,  0.58863506,  0.02092231, -0.02092231, -1.23667256,\n",
              "        -0.48572817],\n",
              "       [-0.58863506,  0.58863506,  0.87734233, -0.87734233,  0.98225482,\n",
              "        -0.70394833],\n",
              "       [-0.58863506,  0.58863506, -2.12012774,  2.12012774,  0.03921069,\n",
              "         0.21257632],\n",
              "       [-0.58863506,  0.58863506,  0.87734233, -0.87734233, -1.23667256,\n",
              "        -0.83488042],\n",
              "       [-0.58863506,  0.58863506,  0.87734233, -0.87734233,  1.48151348,\n",
              "         1.12910097],\n",
              "       [ 1.69884548, -1.69884548, -0.4072877 ,  0.4072877 , -1.34761892,\n",
              "        -0.57301623],\n",
              "       [ 1.69884548, -1.69884548,  0.02092231, -0.02092231,  0.09468387,\n",
              "         0.6053726 ],\n",
              "       [-0.58863506,  0.58863506, -0.83549771,  0.83549771, -0.3491016 ,\n",
              "         0.21257632],\n",
              "       [-0.58863506,  0.58863506,  0.87734233, -0.87734233,  1.25962075,\n",
              "        -0.22386399],\n",
              "       [-0.58863506,  0.58863506,  0.87734233, -0.87734233,  0.92678164,\n",
              "         1.04181291],\n",
              "       [ 1.69884548, -1.69884548, -0.19318269,  0.19318269, -0.29362842,\n",
              "        -1.27132073],\n",
              "       [-0.58863506,  0.58863506,  0.02092231, -0.02092231, -1.56951166,\n",
              "        -0.87852445],\n",
              "       [-0.58863506,  0.58863506, -0.19318269,  0.19318269, -1.01477982,\n",
              "        -0.94399049],\n",
              "       [-0.58863506,  0.58863506, -2.12012774,  2.12012774, -2.06877032,\n",
              "        -2.53699762],\n",
              "       [-0.58863506,  0.58863506,  0.44913232, -0.44913232,  0.87130845,\n",
              "         1.39096515],\n",
              "       [-0.58863506,  0.58863506, -0.83549771,  0.83549771, -0.12720887,\n",
              "         1.26003306],\n",
              "       [ 1.69884548, -1.69884548, -4.26117779,  4.26117779, -0.0162625 ,\n",
              "         0.43079648],\n",
              "       [-0.58863506,  0.58863506,  0.02092231, -0.02092231,  0.98225482,\n",
              "         0.6053726 ],\n",
              "       [-0.58863506,  0.58863506,  0.87734233, -0.87734233,  0.7048889 ,\n",
              "         1.39096515],\n",
              "       [-0.58863506,  0.58863506,  0.02092231, -0.02092231, -0.40457479,\n",
              "        -0.96581251],\n",
              "       [-0.58863506,  0.58863506,  0.44913232, -0.44913232, -2.01329714,\n",
              "        -1.0967446 ],\n",
              "       [-0.58863506,  0.58863506,  0.87734233, -0.87734233,  0.81583527,\n",
              "         1.39096515],\n",
              "       [-0.58863506,  0.58863506, -1.26370772,  1.26370772,  0.31657661,\n",
              "        -0.57301623],\n",
              "       [ 1.69884548, -1.69884548,  0.87734233, -0.87734233, -1.070253  ,\n",
              "        -0.31115205],\n",
              "       [ 1.69884548, -1.69884548,  0.87734233, -0.87734233,  0.87130845,\n",
              "         1.04181291],\n",
              "       [ 1.69884548, -1.69884548,  0.44913232, -0.44913232,  0.42752298,\n",
              "         0.38715244],\n",
              "       [-0.58863506,  0.58863506, -1.04960271,  1.04960271, -0.07173568,\n",
              "        -1.44589685],\n",
              "       [-0.58863506,  0.58863506,  0.44913232, -0.44913232,  0.81583527,\n",
              "         0.91088081],\n",
              "       [-0.58863506,  0.58863506,  0.87734233, -0.87734233,  0.64941572,\n",
              "         1.39096515],\n",
              "       [-0.58863506,  0.58863506,  0.44913232, -0.44913232, -0.95930663,\n",
              "        -0.74759236],\n",
              "       [-0.58863506,  0.58863506,  1.30555235, -1.30555235,  0.81583527,\n",
              "         1.04181291],\n",
              "       [ 1.69884548, -1.69884548,  0.02092231, -0.02092231,  0.7048889 ,\n",
              "         1.21638903],\n",
              "       [-0.58863506,  0.58863506,  0.87734233, -0.87734233,  1.25962075,\n",
              "         0.64901663],\n",
              "       [-0.58863506,  0.58863506,  0.87734233, -0.87734233,  0.76036209,\n",
              "         0.86723678],\n",
              "       [-0.58863506,  0.58863506,  0.87734233, -0.87734233,  0.98225482,\n",
              "         0.82359275],\n",
              "       [-0.58863506,  0.58863506, -0.4072877 ,  0.4072877 ,  0.31657661,\n",
              "         1.39096515],\n",
              "       [ 1.69884548, -1.69884548,  0.87734233, -0.87734233,  0.98225482,\n",
              "         0.77994872],\n",
              "       [ 1.69884548, -1.69884548,  0.02092231, -0.02092231,  1.09320119,\n",
              "         1.04181291],\n",
              "       [ 1.69884548, -1.69884548,  0.44913232, -0.44913232,  0.42752298,\n",
              "         0.95452484],\n",
              "       [-0.58863506,  0.58863506, -0.4072877 ,  0.4072877 , -0.79288708,\n",
              "         0.16893229],\n",
              "       [ 1.69884548, -1.69884548,  0.87734233, -0.87734233,  0.09468387,\n",
              "        -0.50755019],\n",
              "       [-0.58863506,  0.58863506,  0.87734233, -0.87734233,  0.20563024,\n",
              "        -1.0967446 ],\n",
              "       [ 1.69884548, -1.69884548,  0.44913232, -0.44913232,  0.15015706,\n",
              "         0.47444051],\n",
              "       [-0.58863506,  0.58863506,  0.44913232, -0.44913232,  0.15015706,\n",
              "        -0.18021996],\n",
              "       [-0.58863506,  0.58863506,  0.02092231, -0.02092231, -1.45856529,\n",
              "        -1.0967446 ],\n",
              "       [-0.58863506,  0.58863506, -0.83549771,  0.83549771, -0.62646753,\n",
              "        -0.09293189],\n",
              "       [-0.58863506,  0.58863506, -1.69191773,  1.69191773, -0.68194071,\n",
              "        -1.664117  ],\n",
              "       [-0.58863506,  0.58863506,  0.44913232, -0.44913232,  0.7048889 ,\n",
              "         0.95452484],\n",
              "       [-0.58863506,  0.58863506, -0.4072877 ,  0.4072877 ,  0.42752298,\n",
              "         1.39096515],\n",
              "       [-0.58863506,  0.58863506,  0.87734233, -0.87734233, -0.68194071,\n",
              "         1.172745  ],\n",
              "       [-0.58863506,  0.58863506,  0.87734233, -0.87734233, -0.07173568,\n",
              "        -1.05310057],\n",
              "       [-0.58863506,  0.58863506,  0.02092231, -0.02092231,  1.14867438,\n",
              "         0.38715244],\n",
              "       [-0.58863506,  0.58863506,  0.87734233, -0.87734233,  1.09320119,\n",
              "         0.64901663],\n",
              "       [-0.58863506,  0.58863506,  0.87734233, -0.87734233,  0.92678164,\n",
              "         0.0380002 ],\n",
              "       [ 1.69884548, -1.69884548,  0.02092231, -0.02092231, -0.18268205,\n",
              "        -0.35479608],\n",
              "       [ 1.69884548, -1.69884548,  0.44913232, -0.44913232, -1.40309211,\n",
              "         0.21257632],\n",
              "       [ 1.69884548, -1.69884548,  0.44913232, -0.44913232, -0.51552116,\n",
              "         0.64901663],\n",
              "       [-0.58863506,  0.58863506,  0.02092231, -0.02092231, -0.18268205,\n",
              "        -1.48954088],\n",
              "       [-0.58863506,  0.58863506,  0.02092231, -0.02092231, -0.57099434,\n",
              "         0.69266066]])"
            ]
          },
          "metadata": {},
          "execution_count": 23
        }
      ]
    },
    {
      "cell_type": "markdown",
      "source": [
        "GradientBoost"
      ],
      "metadata": {
        "id": "TJdmsmfN9W5e"
      }
    },
    {
      "cell_type": "code",
      "source": [
        "from sklearn.ensemble import GradientBoostingClassifier\n",
        "from sklearn.tree import DecisionTreeClassifier"
      ],
      "metadata": {
        "id": "Rp5hz1_F9pvQ"
      },
      "execution_count": null,
      "outputs": []
    },
    {
      "cell_type": "code",
      "source": [
        "import joblib\n",
        "from  sklearn.utils import parallel_backend \n",
        "gboost = GradientBoostingClassifier(learning_rate=.1, n_estimators=500,max_depth=5 )"
      ],
      "metadata": {
        "id": "D1hqOrHQF5QG"
      },
      "execution_count": null,
      "outputs": []
    },
    {
      "cell_type": "code",
      "source": [
        "gboost.fit(X_train, Y_train)\n",
        "gboost_pred = gboost.predict(X_test)"
      ],
      "metadata": {
        "id": "Y0IfofB_F8gv"
      },
      "execution_count": null,
      "outputs": []
    },
    {
      "cell_type": "code",
      "source": [
        "from sklearn.metrics import accuracy_score\n",
        "gboost_acc=accuracy_score(Y_test, gboost_pred)\n",
        "print(gboost_acc)"
      ],
      "metadata": {
        "id": "kXrAEnjpF_CF",
        "outputId": "a799cf8f-aee8-44f1-f544-e0a415e80f95",
        "colab": {
          "base_uri": "https://localhost:8080/"
        }
      },
      "execution_count": null,
      "outputs": [
        {
          "output_type": "stream",
          "name": "stdout",
          "text": [
            "0.8961038961038961\n"
          ]
        }
      ]
    },
    {
      "cell_type": "code",
      "source": [
        "from sklearn.metrics import classification_report\n",
        "print(classification_report(Y_test, gboost_pred))"
      ],
      "metadata": {
        "id": "vsRSC-suGCjO",
        "outputId": "64c05f3f-a4c5-41fc-f46e-f4dc10099965",
        "colab": {
          "base_uri": "https://localhost:8080/"
        }
      },
      "execution_count": null,
      "outputs": [
        {
          "output_type": "stream",
          "name": "stdout",
          "text": [
            "              precision    recall  f1-score   support\n",
            "\n",
            "           0       1.00      1.00      1.00         1\n",
            "           1       0.89      0.73      0.80        11\n",
            "           2       1.00      0.96      0.98        25\n",
            "           3       0.81      0.91      0.86        23\n",
            "           4       0.88      0.88      0.88        17\n",
            "\n",
            "    accuracy                           0.90        77\n",
            "   macro avg       0.92      0.90      0.90        77\n",
            "weighted avg       0.90      0.90      0.90        77\n",
            "\n"
          ]
        }
      ]
    },
    {
      "cell_type": "code",
      "source": [
        "from sklearn.metrics import confusion_matrix\n",
        "import seaborn as sns\n",
        "from sklearn.metrics import classification_report\n",
        "Ypred = gboost_pred\n",
        "label=['0','1', '2','3','4']\n",
        "Ytrue = Y_test \n",
        "cm = confusion_matrix(Ytrue, Ypred)\n",
        "plt.figure(figsize=(12, 12))\n",
        "plt.title(\"Confusion Matrix for Gradient Boosting\")\n",
        "ax = sns.heatmap(cm, cmap=\"rocket_r\", fmt=\".01f\",annot_kws={'size':16}, annot=True, square=True, xticklabels=label, yticklabels=label)\n",
        "ax.set_ylabel('Actual', fontsize=20)\n",
        "ax.set_xlabel('Predicted', fontsize=20)"
      ],
      "metadata": {
        "id": "x_jo-UOJGFCt",
        "outputId": "16a067d3-f6c9-46ee-da10-d1862f891521",
        "colab": {
          "base_uri": "https://localhost:8080/",
          "height": 706
        }
      },
      "execution_count": null,
      "outputs": [
        {
          "output_type": "execute_result",
          "data": {
            "text/plain": [
              "Text(0.5, 145.31999999999996, 'Predicted')"
            ]
          },
          "metadata": {},
          "execution_count": 29
        },
        {
          "output_type": "display_data",
          "data": {
            "image/png": "[encoded data removed]",
            "text/plain": [
              "<Figure size 864x864 with 2 Axes>"
            ]
          },
          "metadata": {
            "needs_background": "light"
          }
        }
      ]
    }
  ]
}