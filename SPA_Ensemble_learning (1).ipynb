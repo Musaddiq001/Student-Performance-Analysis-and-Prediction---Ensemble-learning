{
  "nbformat": 4,
  "nbformat_minor": 0,
  "metadata": {
    "colab": {
      "provenance": []
    },
    "kernelspec": {
      "name": "python3",
      "display_name": "Python 3"
    },
    "language_info": {
      "name": "python"
    }
  },
  "cells": [
    {
      "cell_type": "code",
      "execution_count": null,
      "metadata": {
        "id": "ocwTeOleY0-x"
      },
      "outputs": [],
      "source": [
        "import numpy as np\n",
        "import matplotlib.pyplot as plt\n",
        "import pandas as pd"
      ]
    },
    {
      "cell_type": "code",
      "source": [
        "from google.colab import drive\n",
        "drive.mount('/content/drive')"
      ],
      "metadata": {
        "colab": {
          "base_uri": "https://localhost:8080/"
        },
        "id": "B73dSiLmZOnk",
        "outputId": "45522654-7267-4c43-df92-8a6219a9ae06"
      },
      "execution_count": null,
      "outputs": [
        {
          "output_type": "stream",
          "name": "stdout",
          "text": [
            "Mounted at /content/drive\n"
          ]
        }
      ]
    },
    {
      "cell_type": "code",
      "source": [
        "dataset = pd.read_csv('/content/drive/MyDrive/ML/Dataset_V1.csv')"
      ],
      "metadata": {
        "id": "ID3Bc5EKZRc9"
      },
      "execution_count": null,
      "outputs": []
    },
    {
      "cell_type": "code",
      "source": [
        "dataset.head()"
      ],
      "metadata": {
        "colab": {
          "base_uri": "https://localhost:8080/",
          "height": 206
        },
        "id": "nQwGagf_ZfJa",
        "outputId": "ec5d7b86-5496-4476-f840-7de443141fad"
      },
      "execution_count": null,
      "outputs": [
        {
          "output_type": "execute_result",
          "data": {
            "text/html": [
              "\n",
              "  <div id=\"df-7b2e30a1-c992-48bd-b1ab-edaf9c562862\">\n",
              "    <div class=\"colab-df-container\">\n",
              "      <div>\n",
              "<style scoped>\n",
              "    .dataframe tbody tr th:only-of-type {\n",
              "        vertical-align: middle;\n",
              "    }\n",
              "\n",
              "    .dataframe tbody tr th {\n",
              "        vertical-align: top;\n",
              "    }\n",
              "\n",
              "    .dataframe thead th {\n",
              "        text-align: right;\n",
              "    }\n",
              "</style>\n",
              "<table border=\"1\" class=\"dataframe\">\n",
              "  <thead>\n",
              "    <tr style=\"text-align: right;\">\n",
              "      <th></th>\n",
              "      <th>Gender</th>\n",
              "      <th>Attendance(10)</th>\n",
              "      <th>Absence(10)</th>\n",
              "      <th>Mid Term</th>\n",
              "      <th>Final Term</th>\n",
              "      <th>Total Grade</th>\n",
              "      <th>Class</th>\n",
              "    </tr>\n",
              "  </thead>\n",
              "  <tbody>\n",
              "    <tr>\n",
              "      <th>0</th>\n",
              "      <td>F</td>\n",
              "      <td>8.500</td>\n",
              "      <td>1.500</td>\n",
              "      <td>80.0</td>\n",
              "      <td>70.0</td>\n",
              "      <td>74.0</td>\n",
              "      <td>Medium performer</td>\n",
              "    </tr>\n",
              "    <tr>\n",
              "      <th>1</th>\n",
              "      <td>M</td>\n",
              "      <td>5.575</td>\n",
              "      <td>4.425</td>\n",
              "      <td>65.0</td>\n",
              "      <td>65.0</td>\n",
              "      <td>65.0</td>\n",
              "      <td>Low Performer</td>\n",
              "    </tr>\n",
              "    <tr>\n",
              "      <th>2</th>\n",
              "      <td>M</td>\n",
              "      <td>1.550</td>\n",
              "      <td>8.450</td>\n",
              "      <td>60.0</td>\n",
              "      <td>-2.0</td>\n",
              "      <td>-2.0</td>\n",
              "      <td>Dropped</td>\n",
              "    </tr>\n",
              "    <tr>\n",
              "      <th>3</th>\n",
              "      <td>M</td>\n",
              "      <td>8.475</td>\n",
              "      <td>1.525</td>\n",
              "      <td>90.0</td>\n",
              "      <td>85.0</td>\n",
              "      <td>87.0</td>\n",
              "      <td>High Performer</td>\n",
              "    </tr>\n",
              "    <tr>\n",
              "      <th>4</th>\n",
              "      <td>M</td>\n",
              "      <td>9.750</td>\n",
              "      <td>0.250</td>\n",
              "      <td>85.0</td>\n",
              "      <td>90.0</td>\n",
              "      <td>88.0</td>\n",
              "      <td>High Performer</td>\n",
              "    </tr>\n",
              "  </tbody>\n",
              "</table>\n",
              "</div>\n",
              "      <button class=\"colab-df-convert\" onclick=\"convertToInteractive('df-7b2e30a1-c992-48bd-b1ab-edaf9c562862')\"\n",
              "              title=\"Convert this dataframe to an interactive table.\"\n",
              "              style=\"display:none;\">\n",
              "        \n",
              "  <svg xmlns=\"http://www.w3.org/2000/svg\" height=\"24px\"viewBox=\"0 0 24 24\"\n",
              "       width=\"24px\">\n",
              "    <path d=\"M0 0h24v24H0V0z\" fill=\"none\"/>\n",
              "    <path d=\"M18.56 5.44l.94 2.06.94-2.06 2.06-.94-2.06-.94-.94-2.06-.94 2.06-2.06.94zm-11 1L8.5 8.5l.94-2.06 2.06-.94-2.06-.94L8.5 2.5l-.94 2.06-2.06.94zm10 10l.94 2.06.94-2.06 2.06-.94-2.06-.94-.94-2.06-.94 2.06-2.06.94z\"/><path d=\"M17.41 7.96l-1.37-1.37c-.4-.4-.92-.59-1.43-.59-.52 0-1.04.2-1.43.59L10.3 9.45l-7.72 7.72c-.78.78-.78 2.05 0 2.83L4 21.41c.39.39.9.59 1.41.59.51 0 1.02-.2 1.41-.59l7.78-7.78 2.81-2.81c.8-.78.8-2.07 0-2.86zM5.41 20L4 18.59l7.72-7.72 1.47 1.35L5.41 20z\"/>\n",
              "  </svg>\n",
              "      </button>\n",
              "      \n",
              "  <style>\n",
              "    .colab-df-container {\n",
              "      display:flex;\n",
              "      flex-wrap:wrap;\n",
              "      gap: 12px;\n",
              "    }\n",
              "\n",
              "    .colab-df-convert {\n",
              "      background-color: #E8F0FE;\n",
              "      border: none;\n",
              "      border-radius: 50%;\n",
              "      cursor: pointer;\n",
              "      display: none;\n",
              "      fill: #1967D2;\n",
              "      height: 32px;\n",
              "      padding: 0 0 0 0;\n",
              "      width: 32px;\n",
              "    }\n",
              "\n",
              "    .colab-df-convert:hover {\n",
              "      background-color: #E2EBFA;\n",
              "      box-shadow: 0px 1px 2px rgba(60, 64, 67, 0.3), 0px 1px 3px 1px rgba(60, 64, 67, 0.15);\n",
              "      fill: #174EA6;\n",
              "    }\n",
              "\n",
              "    [theme=dark] .colab-df-convert {\n",
              "      background-color: #3B4455;\n",
              "      fill: #D2E3FC;\n",
              "    }\n",
              "\n",
              "    [theme=dark] .colab-df-convert:hover {\n",
              "      background-color: #434B5C;\n",
              "      box-shadow: 0px 1px 3px 1px rgba(0, 0, 0, 0.15);\n",
              "      filter: drop-shadow(0px 1px 2px rgba(0, 0, 0, 0.3));\n",
              "      fill: #FFFFFF;\n",
              "    }\n",
              "  </style>\n",
              "\n",
              "      <script>\n",
              "        const buttonEl =\n",
              "          document.querySelector('#df-7b2e30a1-c992-48bd-b1ab-edaf9c562862 button.colab-df-convert');\n",
              "        buttonEl.style.display =\n",
              "          google.colab.kernel.accessAllowed ? 'block' : 'none';\n",
              "\n",
              "        async function convertToInteractive(key) {\n",
              "          const element = document.querySelector('#df-7b2e30a1-c992-48bd-b1ab-edaf9c562862');\n",
              "          const dataTable =\n",
              "            await google.colab.kernel.invokeFunction('convertToInteractive',\n",
              "                                                     [key], {});\n",
              "          if (!dataTable) return;\n",
              "\n",
              "          const docLinkHtml = 'Like what you see? Visit the ' +\n",
              "            '<a target=\"_blank\" href=https://colab.research.google.com/notebooks/data_table.ipynb>data table notebook</a>'\n",
              "            + ' to learn more about interactive tables.';\n",
              "          element.innerHTML = '';\n",
              "          dataTable['output_type'] = 'display_data';\n",
              "          await google.colab.output.renderOutput(dataTable, element);\n",
              "          const docLink = document.createElement('div');\n",
              "          docLink.innerHTML = docLinkHtml;\n",
              "          element.appendChild(docLink);\n",
              "        }\n",
              "      </script>\n",
              "    </div>\n",
              "  </div>\n",
              "  "
            ],
            "text/plain": [
              "  Gender  Attendance(10)  ...  Total Grade             Class\n",
              "0      F           8.500  ...         74.0  Medium performer\n",
              "1      M           5.575  ...         65.0     Low Performer\n",
              "2      M           1.550  ...         -2.0           Dropped\n",
              "3      M           8.475  ...         87.0    High Performer\n",
              "4      M           9.750  ...         88.0    High Performer\n",
              "\n",
              "[5 rows x 7 columns]"
            ]
          },
          "metadata": {},
          "execution_count": 4
        }
      ]
    },
    {
      "cell_type": "code",
      "source": [
        "dataset.info()"
      ],
      "metadata": {
        "colab": {
          "base_uri": "https://localhost:8080/"
        },
        "id": "2ym2JX18ZhBV",
        "outputId": "77e4e37f-00ac-424e-e77a-b599a9e9d5c5"
      },
      "execution_count": null,
      "outputs": [
        {
          "output_type": "stream",
          "name": "stdout",
          "text": [
            "<class 'pandas.core.frame.DataFrame'>\n",
            "RangeIndex: 589 entries, 0 to 588\n",
            "Data columns (total 7 columns):\n",
            " #   Column          Non-Null Count  Dtype  \n",
            "---  ------          --------------  -----  \n",
            " 0   Gender          589 non-null    object \n",
            " 1   Attendance(10)  589 non-null    float64\n",
            " 2   Absence(10)     589 non-null    float64\n",
            " 3   Mid Term        589 non-null    float64\n",
            " 4   Final Term      589 non-null    float64\n",
            " 5   Total Grade     589 non-null    float64\n",
            " 6   Class           589 non-null    object \n",
            "dtypes: float64(5), object(2)\n",
            "memory usage: 32.3+ KB\n"
          ]
        }
      ]
    },
    {
      "cell_type": "code",
      "source": [
        "dataset['Class'].value_counts()"
      ],
      "metadata": {
        "colab": {
          "base_uri": "https://localhost:8080/"
        },
        "id": "82M5tbCKcKVD",
        "outputId": "7c82fd59-44eb-4118-e5d3-c3962bdd5581"
      },
      "execution_count": null,
      "outputs": [
        {
          "output_type": "execute_result",
          "data": {
            "text/plain": [
              "Medium performer    262\n",
              "High Performer      203\n",
              "Low Performer        93\n",
              "Dropped              23\n",
              "Failure               8\n",
              "Name: Class, dtype: int64"
            ]
          },
          "metadata": {},
          "execution_count": 55
        }
      ]
    },
    {
      "cell_type": "code",
      "source": [
        "X = dataset.iloc[:,:-2].values"
      ],
      "metadata": {
        "id": "OcQ0RHD6aIk3"
      },
      "execution_count": null,
      "outputs": []
    },
    {
      "cell_type": "code",
      "source": [
        "X"
      ],
      "metadata": {
        "colab": {
          "base_uri": "https://localhost:8080/"
        },
        "id": "bCzMJZR7aVO3",
        "outputId": "e9ce3499-2dbb-4252-b85c-650dc305da3f"
      },
      "execution_count": null,
      "outputs": [
        {
          "output_type": "execute_result",
          "data": {
            "text/plain": [
              "array([['F', 8.5, 1.5, 80.0, 70.0, 74.0],\n",
              "       ['M', 5.575, 4.425, 65.0, 65.0, 65.0],\n",
              "       ['M', 1.55, 8.45, 60.0, -2.0, -2.0],\n",
              "       ...,\n",
              "       ['M', 10.0, 0.0, 85.0, 92.0, 90.0],\n",
              "       ['M', 8.0, 2.0, 63.0, 72.0, 75.0],\n",
              "       ['M', 9.0, 1.0, 57.0, 60.0, 65.0]], dtype=object)"
            ]
          },
          "metadata": {},
          "execution_count": 7
        }
      ]
    },
    {
      "cell_type": "code",
      "source": [
        "Y = dataset.iloc[:, 6].values"
      ],
      "metadata": {
        "id": "BHhlNi3maWWI"
      },
      "execution_count": null,
      "outputs": []
    },
    {
      "cell_type": "code",
      "source": [
        "Y"
      ],
      "metadata": {
        "colab": {
          "base_uri": "https://localhost:8080/"
        },
        "id": "m3DuWuCXaheU",
        "outputId": "86fea3da-9b37-42cf-936a-6763e61738d5"
      },
      "execution_count": null,
      "outputs": [
        {
          "output_type": "execute_result",
          "data": {
            "text/plain": [
              "array(['Medium performer', 'Low Performer', 'Dropped', 'High Performer',\n",
              "       'High Performer', 'Low Performer', 'Medium performer',\n",
              "       'Medium performer', 'Low Performer', 'Medium performer', 'Dropped',\n",
              "       'Medium performer', 'Medium performer', 'Low Performer',\n",
              "       'High Performer', 'Medium performer', 'Medium performer',\n",
              "       'Medium performer', 'Low Performer', 'Dropped', 'Medium performer',\n",
              "       'Medium performer', 'High Performer', 'Dropped', 'Dropped',\n",
              "       'Low Performer', 'Failure', 'Low Performer', 'Low Performer',\n",
              "       'Low Performer', 'Low Performer', 'Medium performer',\n",
              "       'Medium performer', 'Medium performer', 'High Performer',\n",
              "       'Medium performer', 'Medium performer', 'High Performer',\n",
              "       'Medium performer', 'Medium performer', 'Medium performer',\n",
              "       'High Performer', 'Low Performer', 'High Performer',\n",
              "       'Medium performer', 'Medium performer', 'Medium performer',\n",
              "       'Medium performer', 'Medium performer', 'Medium performer',\n",
              "       'Medium performer', 'High Performer', 'Low Performer',\n",
              "       'Medium performer', 'Low Performer', 'Medium performer',\n",
              "       'Medium performer', 'Low Performer', 'High Performer',\n",
              "       'Medium performer', 'Medium performer', 'Medium performer',\n",
              "       'Medium performer', 'Medium performer', 'Medium performer',\n",
              "       'High Performer', 'High Performer', 'High Performer',\n",
              "       'Medium performer', 'High Performer', 'High Performer',\n",
              "       'Medium performer', 'High Performer', 'Medium performer',\n",
              "       'Low Performer', 'High Performer', 'High Performer',\n",
              "       'High Performer', 'Medium performer', 'Medium performer',\n",
              "       'Medium performer', 'Medium performer', 'High Performer',\n",
              "       'Medium performer', 'Medium performer', 'Medium performer',\n",
              "       'High Performer', 'Medium performer', 'Medium performer',\n",
              "       'Medium performer', 'Low Performer', 'Medium performer',\n",
              "       'High Performer', 'Medium performer', 'Low Performer',\n",
              "       'High Performer', 'High Performer', 'High Performer',\n",
              "       'High Performer', 'High Performer', 'High Performer',\n",
              "       'High Performer', 'High Performer', 'Low Performer',\n",
              "       'Medium performer', 'Medium performer', 'High Performer',\n",
              "       'High Performer', 'High Performer', 'Medium performer',\n",
              "       'Medium performer', 'High Performer', 'Medium performer',\n",
              "       'Medium performer', 'Medium performer', 'Medium performer',\n",
              "       'High Performer', 'Medium performer', 'Medium performer',\n",
              "       'Low Performer', 'Medium performer', 'Medium performer',\n",
              "       'Low Performer', 'Medium performer', 'Medium performer',\n",
              "       'Medium performer', 'Medium performer', 'High Performer',\n",
              "       'High Performer', 'Medium performer', 'Medium performer',\n",
              "       'Low Performer', 'Medium performer', 'Low Performer',\n",
              "       'Medium performer', 'Medium performer', 'Medium performer',\n",
              "       'Medium performer', 'Medium performer', 'Medium performer',\n",
              "       'High Performer', 'Medium performer', 'Medium performer',\n",
              "       'Medium performer', 'Medium performer', 'Low Performer',\n",
              "       'Low Performer', 'Medium performer', 'Medium performer',\n",
              "       'Medium performer', 'Low Performer', 'Low Performer',\n",
              "       'Medium performer', 'Medium performer', 'High Performer',\n",
              "       'High Performer', 'High Performer', 'High Performer',\n",
              "       'High Performer', 'Low Performer', 'High Performer',\n",
              "       'High Performer', 'Medium performer', 'Medium performer',\n",
              "       'Medium performer', 'Medium performer', 'Medium performer',\n",
              "       'Medium performer', 'High Performer', 'Medium performer',\n",
              "       'High Performer', 'Medium performer', 'Medium performer',\n",
              "       'Medium performer', 'Medium performer', 'Medium performer',\n",
              "       'Medium performer', 'Low Performer', 'Medium performer',\n",
              "       'Low Performer', 'Medium performer', 'Medium performer',\n",
              "       'Medium performer', 'Low Performer', 'Medium performer',\n",
              "       'Medium performer', 'High Performer', 'Medium performer',\n",
              "       'Medium performer', 'Medium performer', 'Medium performer',\n",
              "       'Medium performer', 'Medium performer', 'Medium performer',\n",
              "       'High Performer', 'Medium performer', 'Medium performer',\n",
              "       'High Performer', 'Medium performer', 'Medium performer',\n",
              "       'Medium performer', 'Low Performer', 'High Performer',\n",
              "       'Medium performer', 'High Performer', 'Low Performer',\n",
              "       'High Performer', 'Medium performer', 'High Performer',\n",
              "       'High Performer', 'Medium performer', 'High Performer',\n",
              "       'High Performer', 'Medium performer', 'Medium performer',\n",
              "       'Medium performer', 'Medium performer', 'Dropped',\n",
              "       'Medium performer', 'Medium performer', 'Medium performer',\n",
              "       'Low Performer', 'Medium performer', 'Medium performer',\n",
              "       'Medium performer', 'High Performer', 'High Performer',\n",
              "       'High Performer', 'High Performer', 'Medium performer',\n",
              "       'High Performer', 'Medium performer', 'Medium performer',\n",
              "       'Low Performer', 'Medium performer', 'Low Performer',\n",
              "       'High Performer', 'High Performer', 'High Performer',\n",
              "       'Medium performer', 'High Performer', 'High Performer',\n",
              "       'Medium performer', 'High Performer', 'Medium performer',\n",
              "       'High Performer', 'High Performer', 'Medium performer',\n",
              "       'High Performer', 'High Performer', 'High Performer',\n",
              "       'Low Performer', 'High Performer', 'Medium performer',\n",
              "       'Medium performer', 'Dropped', 'High Performer', 'High Performer',\n",
              "       'Low Performer', 'High Performer', 'Failure', 'Medium performer',\n",
              "       'High Performer', 'High Performer', 'High Performer',\n",
              "       'High Performer', 'Medium performer', 'High Performer',\n",
              "       'High Performer', 'High Performer', 'High Performer',\n",
              "       'Medium performer', 'Medium performer', 'High Performer',\n",
              "       'High Performer', 'High Performer', 'Low Performer', 'Failure',\n",
              "       'Medium performer', 'Medium performer', 'Medium performer',\n",
              "       'High Performer', 'Medium performer', 'Medium performer',\n",
              "       'High Performer', 'High Performer', 'Dropped', 'Medium performer',\n",
              "       'Medium performer', 'Medium performer', 'Medium performer',\n",
              "       'High Performer', 'High Performer', 'Medium performer',\n",
              "       'High Performer', 'Medium performer', 'High Performer',\n",
              "       'Medium performer', 'Medium performer', 'Medium performer',\n",
              "       'High Performer', 'Low Performer', 'Medium performer',\n",
              "       'High Performer', 'High Performer', 'High Performer',\n",
              "       'Medium performer', 'Medium performer', 'Dropped',\n",
              "       'High Performer', 'Medium performer', 'Failure', 'High Performer',\n",
              "       'Medium performer', 'Medium performer', 'High Performer',\n",
              "       'High Performer', 'High Performer', 'High Performer',\n",
              "       'Medium performer', 'High Performer', 'High Performer',\n",
              "       'Medium performer', 'Medium performer', 'Medium performer',\n",
              "       'High Performer', 'Medium performer', 'Medium performer',\n",
              "       'Medium performer', 'High Performer', 'High Performer',\n",
              "       'Medium performer', 'Medium performer', 'Medium performer',\n",
              "       'Medium performer', 'High Performer', 'High Performer',\n",
              "       'High Performer', 'Medium performer', 'High Performer',\n",
              "       'Medium performer', 'Medium performer', 'High Performer',\n",
              "       'High Performer', 'High Performer', 'High Performer',\n",
              "       'Low Performer', 'High Performer', 'High Performer',\n",
              "       'High Performer', 'High Performer', 'Failure', 'Medium performer',\n",
              "       'Medium performer', 'High Performer', 'High Performer',\n",
              "       'Medium performer', 'High Performer', 'High Performer',\n",
              "       'High Performer', 'Medium performer', 'Failure',\n",
              "       'Medium performer', 'High Performer', 'High Performer',\n",
              "       'High Performer', 'High Performer', 'Low Performer',\n",
              "       'High Performer', 'High Performer', 'High Performer',\n",
              "       'High Performer', 'Medium performer', 'High Performer',\n",
              "       'High Performer', 'High Performer', 'High Performer',\n",
              "       'High Performer', 'High Performer', 'Medium performer',\n",
              "       'High Performer', 'High Performer', 'High Performer',\n",
              "       'Medium performer', 'Medium performer', 'Medium performer',\n",
              "       'High Performer', 'High Performer', 'Failure', 'Medium performer',\n",
              "       'High Performer', 'High Performer', 'High Performer',\n",
              "       'High Performer', 'High Performer', 'High Performer',\n",
              "       'High Performer', 'High Performer', 'Medium performer',\n",
              "       'Medium performer', 'Medium performer', 'High Performer',\n",
              "       'High Performer', 'Medium performer', 'Medium performer',\n",
              "       'High Performer', 'High Performer', 'Medium performer',\n",
              "       'Medium performer', 'Medium performer', 'Medium performer',\n",
              "       'High Performer', 'High Performer', 'Medium performer',\n",
              "       'High Performer', 'Failure', 'Medium performer',\n",
              "       'Medium performer', 'High Performer', 'High Performer',\n",
              "       'High Performer', 'High Performer', 'High Performer',\n",
              "       'High Performer', 'Medium performer', 'Medium performer',\n",
              "       'Low Performer', 'Low Performer', 'Dropped', 'Low Performer',\n",
              "       'Medium performer', 'Medium performer', 'Low Performer',\n",
              "       'Medium performer', 'Medium performer', 'Low Performer',\n",
              "       'High Performer', 'Low Performer', 'Medium performer',\n",
              "       'Low Performer', 'Dropped', 'Low Performer', 'Medium performer',\n",
              "       'High Performer', 'Medium performer', 'Medium performer',\n",
              "       'Medium performer', 'Low Performer', 'Low Performer',\n",
              "       'Low Performer', 'Medium performer', 'Medium performer',\n",
              "       'Medium performer', 'High Performer', 'Medium performer',\n",
              "       'Low Performer', 'Medium performer', 'High Performer',\n",
              "       'High Performer', 'Low Performer', 'Low Performer',\n",
              "       'Medium performer', 'Medium performer', 'Low Performer', 'Dropped',\n",
              "       'Dropped', 'Low Performer', 'Low Performer', 'Medium performer',\n",
              "       'Low Performer', 'Medium performer', 'Low Performer',\n",
              "       'High Performer', 'Low Performer', 'Low Performer',\n",
              "       'Medium performer', 'Medium performer', 'High Performer',\n",
              "       'Low Performer', 'High Performer', 'Medium performer',\n",
              "       'Medium performer', 'Medium performer', 'Medium performer',\n",
              "       'High Performer', 'Medium performer', 'Medium performer',\n",
              "       'High Performer', 'Medium performer', 'Low Performer',\n",
              "       'Medium performer', 'Dropped', 'Dropped', 'Low Performer',\n",
              "       'High Performer', 'High Performer', 'High Performer',\n",
              "       'High Performer', 'Low Performer', 'High Performer',\n",
              "       'Low Performer', 'High Performer', 'High Performer',\n",
              "       'Medium performer', 'Medium performer', 'Low Performer',\n",
              "       'Medium performer', 'Dropped', 'Dropped', 'Dropped',\n",
              "       'Low Performer', 'Low Performer', 'Low Performer', 'Low Performer',\n",
              "       'Medium performer', 'Medium performer', 'Low Performer', 'Dropped',\n",
              "       'Medium performer', 'Low Performer', 'Medium performer',\n",
              "       'Low Performer', 'High Performer', 'Low Performer',\n",
              "       'Medium performer', 'High Performer', 'Low Performer',\n",
              "       'Medium performer', 'Low Performer', 'Low Performer',\n",
              "       'Low Performer', 'High Performer', 'High Performer',\n",
              "       'Low Performer', 'Medium performer', 'Medium performer',\n",
              "       'High Performer', 'High Performer', 'Low Performer',\n",
              "       'Medium performer', 'Low Performer', 'High Performer',\n",
              "       'High Performer', 'Medium performer', 'High Performer',\n",
              "       'High Performer', 'Dropped', 'Medium performer', 'Low Performer',\n",
              "       'Medium performer', 'Medium performer', 'High Performer',\n",
              "       'Medium performer', 'Medium performer', 'Medium performer',\n",
              "       'High Performer', 'Medium performer', 'Medium performer',\n",
              "       'High Performer', 'High Performer', 'Medium performer',\n",
              "       'Medium performer', 'High Performer', 'Low Performer',\n",
              "       'Low Performer', 'Medium performer', 'Medium performer',\n",
              "       'Medium performer', 'High Performer', 'Dropped',\n",
              "       'Medium performer', 'Medium performer', 'Dropped', 'Low Performer',\n",
              "       'Medium performer', 'Medium performer', 'Medium performer',\n",
              "       'Medium performer', 'Low Performer', 'Low Performer', 'Dropped',\n",
              "       'Low Performer', 'High Performer', 'Low Performer',\n",
              "       'Low Performer', 'High Performer', 'High Performer',\n",
              "       'Medium performer', 'Low Performer'], dtype=object)"
            ]
          },
          "metadata": {},
          "execution_count": 32
        }
      ]
    },
    {
      "cell_type": "code",
      "source": [
        "from sklearn.compose import ColumnTransformer\n",
        "from sklearn.preprocessing import OneHotEncoder\n",
        "\n",
        "ct = ColumnTransformer(transformers=[('encoder', OneHotEncoder(), [0])], remainder = 'passthrough')\n",
        "X = np.array(ct.fit_transform(X))"
      ],
      "metadata": {
        "id": "q2DUpyGraiOX"
      },
      "execution_count": null,
      "outputs": []
    },
    {
      "cell_type": "code",
      "source": [
        "print(X)"
      ],
      "metadata": {
        "colab": {
          "base_uri": "https://localhost:8080/"
        },
        "id": "ZRYRH5bfaonk",
        "outputId": "5a457ae8-b015-49e5-e18a-4a1516316060"
      },
      "execution_count": null,
      "outputs": [
        {
          "output_type": "stream",
          "name": "stdout",
          "text": [
            "[[1.0 0.0 8.5 1.5 80.0 70.0]\n",
            " [0.0 1.0 5.575 4.425 65.0 65.0]\n",
            " [0.0 1.0 1.55 8.45 60.0 -2.0]\n",
            " ...\n",
            " [0.0 1.0 10.0 0.0 85.0 92.0]\n",
            " [0.0 1.0 8.0 2.0 63.0 72.0]\n",
            " [0.0 1.0 9.0 1.0 57.0 60.0]]\n"
          ]
        }
      ]
    },
    {
      "cell_type": "code",
      "source": [
        "from sklearn.preprocessing import LabelEncoder\n",
        "labelencoder_Y = LabelEncoder()\n",
        "Y = labelencoder_Y.fit_transform(Y)"
      ],
      "metadata": {
        "id": "4PEx1D0xasaj"
      },
      "execution_count": null,
      "outputs": []
    },
    {
      "cell_type": "code",
      "source": [
        "print(Y)"
      ],
      "metadata": {
        "colab": {
          "base_uri": "https://localhost:8080/"
        },
        "id": "BNmpCU3Gauc3",
        "outputId": "85883872-4da0-4fb6-d212-f97e7a9369b9"
      },
      "execution_count": null,
      "outputs": [
        {
          "output_type": "stream",
          "name": "stdout",
          "text": [
            "[4 3 0 2 2 3 4 4 3 4 0 4 4 3 2 4 4 4 3 0 4 4 2 0 0 3 1 3 3 3 3 4 4 4 2 4 4\n",
            " 2 4 4 4 2 3 2 4 4 4 4 4 4 4 2 3 4 3 4 4 3 2 4 4 4 4 4 4 2 2 2 4 2 2 4 2 4\n",
            " 3 2 2 2 4 4 4 4 2 4 4 4 2 4 4 4 3 4 2 4 3 2 2 2 2 2 2 2 2 3 4 4 2 2 2 4 4\n",
            " 2 4 4 4 4 2 4 4 3 4 4 3 4 4 4 4 2 2 4 4 3 4 3 4 4 4 4 4 4 2 4 4 4 4 3 3 4\n",
            " 4 4 3 3 4 4 2 2 2 2 2 3 2 2 4 4 4 4 4 4 2 4 2 4 4 4 4 4 4 3 4 3 4 4 4 3 4\n",
            " 4 2 4 4 4 4 4 4 4 2 4 4 2 4 4 4 3 2 4 2 3 2 4 2 2 4 2 2 4 4 4 4 0 4 4 4 3\n",
            " 4 4 4 2 2 2 2 4 2 4 4 3 4 3 2 2 2 4 2 2 4 2 4 2 2 4 2 2 2 3 2 4 4 0 2 2 3\n",
            " 2 1 4 2 2 2 2 4 2 2 2 2 4 4 2 2 2 3 1 4 4 4 2 4 4 2 2 0 4 4 4 4 2 2 4 2 4\n",
            " 2 4 4 4 2 3 4 2 2 2 4 4 0 2 4 1 2 4 4 2 2 2 2 4 2 2 4 4 4 2 4 4 4 2 2 4 4\n",
            " 4 4 2 2 2 4 2 4 4 2 2 2 2 3 2 2 2 2 1 4 4 2 2 4 2 2 2 4 1 4 2 2 2 2 3 2 2\n",
            " 2 2 4 2 2 2 2 2 2 4 2 2 2 4 4 4 2 2 1 4 2 2 2 2 2 2 2 2 4 4 4 2 2 4 4 2 2\n",
            " 4 4 4 4 2 2 4 2 1 4 4 2 2 2 2 2 2 4 4 3 3 0 3 4 4 3 4 4 3 2 3 4 3 0 3 4 2\n",
            " 4 4 4 3 3 3 4 4 4 2 4 3 4 2 2 3 3 4 4 3 0 0 3 3 4 3 4 3 2 3 3 4 4 2 3 2 4\n",
            " 4 4 4 2 4 4 2 4 3 4 0 0 3 2 2 2 2 3 2 3 2 2 4 4 3 4 0 0 0 3 3 3 3 4 4 3 0\n",
            " 4 3 4 3 2 3 4 2 3 4 3 3 3 2 2 3 4 4 2 2 3 4 3 2 2 4 2 2 0 4 3 4 4 2 4 4 4\n",
            " 2 4 4 2 2 4 4 2 3 3 4 4 4 2 0 4 4 0 3 4 4 4 4 3 3 0 3 2 3 3 2 2 4 3]\n"
          ]
        }
      ]
    },
    {
      "cell_type": "code",
      "source": [
        "from sklearn.model_selection import train_test_split\n",
        "X_train, X_test, Y_train, Y_test = train_test_split(X,Y, test_size = 0.2, random_state= 0)"
      ],
      "metadata": {
        "id": "csK-8vpWayam"
      },
      "execution_count": null,
      "outputs": []
    },
    {
      "cell_type": "code",
      "source": [
        "X_train"
      ],
      "metadata": {
        "colab": {
          "base_uri": "https://localhost:8080/"
        },
        "id": "WtNGFSdTa0oI",
        "outputId": "f7e96642-5ac5-4129-c977-66b6ebe4d41b"
      },
      "execution_count": null,
      "outputs": [
        {
          "output_type": "execute_result",
          "data": {
            "text/plain": [
              "array([[0.0, 1.0, 8.6, 1.4, 82.0, 70.2],\n",
              "       [0.0, 1.0, 10.0, 0.0, 93.0, 85.0],\n",
              "       [1.0, 0.0, 0.0, 10.0, -2.0, -2.0],\n",
              "       ...,\n",
              "       [0.0, 1.0, 10.0, 0.0, 80.0, 90.0],\n",
              "       [1.0, 0.0, 9.45, 0.55, 73.0, 75.0],\n",
              "       [1.0, 0.0, 10.0, 0.0, 75.0, 82.0]], dtype=object)"
            ]
          },
          "metadata": {},
          "execution_count": 38
        }
      ]
    },
    {
      "cell_type": "code",
      "source": [
        "X_test"
      ],
      "metadata": {
        "colab": {
          "base_uri": "https://localhost:8080/"
        },
        "id": "F9tLpxRaa2xj",
        "outputId": "6f882788-5183-41d0-854e-5675280bf31c"
      },
      "execution_count": null,
      "outputs": [
        {
          "output_type": "execute_result",
          "data": {
            "text/plain": [
              "array([[1.0, 0.0, 10.0, 0.0, 86.0, 81.0],\n",
              "       [1.0, 0.0, 8.475, 1.525, 90.0, 85.0],\n",
              "       [0.0, 1.0, 9.55, 0.45, 78.2, 86.4],\n",
              "       [0.0, 1.0, 10.0, 0.0, 85.0, 70.0],\n",
              "       [0.0, 1.0, 6.7, 3.3, 75.0, 80.0],\n",
              "       [0.0, 1.0, 10.0, 0.0, 83.0, 83.0],\n",
              "       [0.0, 1.0, 10.0, 0.0, 90.0, 80.0],\n",
              "       [0.0, 1.0, 10.0, 0.0, 95.0, 86.0],\n",
              "       [0.0, 1.0, 7.15, 2.85, 66.0, 35.0],\n",
              "       [0.0, 1.0, 10.0, 0.0, 80.0, 95.0],\n",
              "       [0.0, 1.0, 10.0, 0.0, 76.0, 71.0],\n",
              "       [0.0, 1.0, 10.0, 0.0, 65.0, 60.0],\n",
              "       [0.0, 1.0, 10.0, 0.0, 58.0, 88.0],\n",
              "       [1.0, 0.0, 8.0, 2.0, 60.0, 64.0],\n",
              "       [0.0, 1.0, 7.65, 2.35, 71.0, 65.0],\n",
              "       [0.0, 1.0, 6.0, 4.0, 67.0, 54.0],\n",
              "       [1.0, 0.0, 9.05, 0.95, 81.0, 70.0],\n",
              "       [0.0, 1.0, 7.1, 2.9, 80.4, 86.4],\n",
              "       [0.0, 1.0, 10.0, 0.0, 70.0, 57.0],\n",
              "       [0.0, 1.0, 8.25, 1.75, 59.0, 60.0],\n",
              "       [0.0, 1.0, 10.0, 0.0, 77.5, 79.0],\n",
              "       [0.0, 1.0, 7.25, 2.75, 54.0, 66.0],\n",
              "       [0.0, 1.0, 7.25, 2.75, 85.0, 65.0],\n",
              "       [0.0, 1.0, 8.85, 1.15, 70.0, 82.0],\n",
              "       [1.0, 0.0, 10.0, 0.0, 90.0, 80.0],\n",
              "       [1.0, 0.0, 8.6, 1.4, 70.0, 65.0],\n",
              "       [0.0, 1.0, 10.0, 0.0, 87.5, 84.0],\n",
              "       [0.0, 1.0, 10.0, 0.0, 96.0, 93.0],\n",
              "       [0.0, 1.0, 10.0, 0.0, 90.0, 80.0],\n",
              "       [0.0, 1.0, 10.0, 0.0, 82.0, 78.0],\n",
              "       [0.0, 1.0, 10.0, 0.0, 81.0, 72.0],\n",
              "       [0.0, 1.0, 0.0, 10.0, 0.0, 96.0],\n",
              "       [0.0, 1.0, 10.0, 0.0, 77.0, 88.0],\n",
              "       [0.0, 1.0, 10.0, 0.0, 85.0, 87.0],\n",
              "       [0.0, 1.0, 10.0, 0.0, 61.0, 60.0],\n",
              "       [0.0, 1.0, 10.0, 0.0, 85.0, 79.0],\n",
              "       [0.0, 1.0, 9.5, 0.5, 77.0, 83.0],\n",
              "       [0.0, 1.0, 8.75, 1.25, 55.0, 70.0],\n",
              "       [0.0, 1.0, 0.0, 10.0, 90.0, 83.0],\n",
              "       [0.0, 1.0, 9.05, 0.95, 85.0, 93.0],\n",
              "       [0.0, 1.0, 8.1, 1.9, 69.0, 80.0],\n",
              "       [0.0, 1.0, 10.0, 0.0, 76.0, 70.0],\n",
              "       [0.0, 1.0, 9.0, 1.0, 90.0, 90.0],\n",
              "       [1.0, 0.0, 10.0, 0.0, 84.0, 83.0],\n",
              "       [0.0, 1.0, 10.0, 0.0, 85.0, 79.0],\n",
              "       [0.0, 1.0, 8.375, 1.625, 80.0, 90.0],\n",
              "       [1.0, 0.0, 10.0, 0.0, 90.0, 90.0],\n",
              "       [1.0, 0.0, 10.0, 0.0, 72.0, 68.0],\n",
              "       [0.0, 1.0, 9.05, 0.95, 76.0, 82.0],\n",
              "       [0.0, 1.0, 5.575, 4.425, 65.0, 65.0],\n",
              "       [0.0, 1.0, 10.0, 0.0, 90.0, 96.0],\n",
              "       [0.0, 1.0, 10.0, 0.0, 91.0, 85.0],\n",
              "       [0.0, 1.0, 9.55, 0.45, 75.0, 80.0],\n",
              "       [0.0, 1.0, 9.5, 0.5, 66.0, 87.0],\n",
              "       [0.0, 1.0, 10.0, 0.0, 80.0, 90.0],\n",
              "       [0.0, 1.0, 10.0, 0.0, 84.0, 92.0],\n",
              "       [0.0, 1.0, 9.0, 1.0, 57.0, 60.0],\n",
              "       [0.0, 1.0, 10.0, 0.0, 80.0, 76.0],\n",
              "       [0.0, 1.0, 9.45, 0.55, 90.0, 73.0],\n",
              "       [0.0, 1.0, 9.45, 0.55, 80.0, 67.0],\n",
              "       [1.0, 0.0, 7.75, 2.25, 75.0, 70.0],\n",
              "       [0.0, 1.0, 10.0, 0.0, 80.0, 80.0],\n",
              "       [0.0, 1.0, 8.1, 1.9, 78.0, 75.0],\n",
              "       [0.0, 1.0, 10.0, 0.0, 84.0, 81.0],\n",
              "       [1.0, 0.0, 10.0, 0.0, 85.0, 85.0],\n",
              "       [0.0, 1.0, 10.0, 0.0, 75.0, 75.0],\n",
              "       [0.0, 1.0, 7.85, 2.15, 75.0, 75.0],\n",
              "       [1.0, 0.0, 4.25, 5.75, 77.0, 78.0],\n",
              "       [0.0, 1.0, 10.0, 0.0, 56.0, 66.0],\n",
              "       [0.0, 1.0, 10.0, 0.0, 82.5, 91.0],\n",
              "       [0.0, 1.0, 10.0, 0.0, 80.0, 92.0],\n",
              "       [0.0, 1.0, 10.0, 0.0, 40.0, 70.0],\n",
              "       [0.0, 1.0, 9.0, 1.0, 75.0, 50.0],\n",
              "       [1.0, 0.0, 7.0, 3.0, 57.0, 85.0],\n",
              "       [1.0, 0.0, 5.25, 4.75, 60.0, -2.0],\n",
              "       [0.0, 1.0, 7.85, 2.15, 80.0, 75.0],\n",
              "       [0.0, 1.0, 6.75, 3.25, 52.0, -2.0],\n",
              "       [0.0, 1.0, 10.0, 0.0, 80.0, 89.0],\n",
              "       [0.0, 1.0, 10.0, 0.0, 80.0, 85.0],\n",
              "       [1.0, 0.0, 9.5, 0.5, 78.0, 77.0],\n",
              "       [1.0, 0.0, 10.0, 0.0, 95.0, 84.0],\n",
              "       [0.0, 1.0, 10.0, 0.0, 90.0, 90.0],\n",
              "       [1.0, 0.0, 1.925, 8.075, -2.0, -2.0],\n",
              "       [0.0, 1.0, 10.0, 0.0, 86.0, 79.0],\n",
              "       [0.0, 1.0, 10.0, 0.0, 56.0, 52.0],\n",
              "       [0.0, 1.0, 10.0, 0.0, 57.0, 51.0],\n",
              "       [0.0, 1.0, 10.0, 0.0, 72.0, 76.0],\n",
              "       [0.0, 1.0, 10.0, 0.0, 80.0, 90.0],\n",
              "       [0.0, 1.0, 8.0, 2.0, 63.0, 72.0],\n",
              "       [1.0, 0.0, 10.0, 0.0, 80.0, 0.0],\n",
              "       [0.0, 1.0, 7.5, 2.5, 57.0, 60.0],\n",
              "       [0.0, 1.0, 10.0, 0.0, 75.0, 75.0],\n",
              "       [0.0, 1.0, 5.65, 4.35, 58.0, 69.0],\n",
              "       [1.0, 0.0, 10.0, 0.0, 82.0, 82.0],\n",
              "       [0.0, 1.0, 9.05, 0.95, 85.0, 90.0],\n",
              "       [0.0, 1.0, 10.0, 0.0, 80.0, 70.0],\n",
              "       [1.0, 0.0, 9.55, 0.45, 65.0, 65.0],\n",
              "       [0.0, 1.0, 9.5, 0.5, 55.0, 77.0],\n",
              "       [0.0, 1.0, 10.0, 0.0, 80.0, 83.0],\n",
              "       [0.0, 1.0, 7.0, 3.0, 77.0, 75.0],\n",
              "       [0.0, 1.0, 10.0, 0.0, 80.0, 92.0],\n",
              "       [1.0, 0.0, 10.0, 0.0, 88.0, 86.0],\n",
              "       [0.0, 1.0, 8.75, 1.25, 59.0, 68.0],\n",
              "       [0.0, 1.0, 8.5, 1.5, 77.5, 56.0],\n",
              "       [0.0, 1.0, 7.25, 2.75, 52.0, -2.0],\n",
              "       [0.0, 1.0, 10.0, 0.0, 85.0, 85.0],\n",
              "       [1.0, 0.0, 10.0, 0.0, 83.0, 69.0],\n",
              "       [0.0, 1.0, 6.5, 3.5, 67.0, -2.0],\n",
              "       [0.0, 1.0, 7.65, 2.35, 71.0, 75.0],\n",
              "       [0.0, 1.0, 10.0, 0.0, 90.0, 96.0],\n",
              "       [1.0, 0.0, 9.05, 0.95, 75.0, 82.0],\n",
              "       [0.0, 1.0, 10.0, 0.0, 80.0, 80.0],\n",
              "       [0.0, 1.0, 7.85, 2.15, 70.0, 70.0],\n",
              "       [0.0, 1.0, 8.1, 1.9, 76.0, 75.0],\n",
              "       [0.0, 1.0, 7.0, 3.0, -2.0, -2.0],\n",
              "       [0.0, 1.0, 3.55, 6.45, 45.0, 53.0],\n",
              "       [1.0, 0.0, 10.0, 0.0, 87.0, 92.0],\n",
              "       [0.0, 1.0, 8.25, 1.75, 81.0, 67.0]], dtype=object)"
            ]
          },
          "metadata": {},
          "execution_count": 39
        }
      ]
    },
    {
      "cell_type": "code",
      "source": [
        "Y_train"
      ],
      "metadata": {
        "colab": {
          "base_uri": "https://localhost:8080/"
        },
        "id": "sOMeZs4va4Yk",
        "outputId": "59436730-75c4-4eb4-c659-3644e8b729da"
      },
      "execution_count": null,
      "outputs": [
        {
          "output_type": "execute_result",
          "data": {
            "text/plain": [
              "array([4, 2, 0, 2, 3, 2, 3, 4, 2, 4, 0, 4, 2, 3, 4, 0, 4, 4, 4, 2, 4, 2,\n",
              "       2, 2, 2, 4, 4, 4, 4, 2, 2, 2, 2, 4, 2, 4, 2, 4, 0, 4, 1, 4, 4, 4,\n",
              "       3, 2, 4, 4, 4, 4, 2, 3, 2, 4, 2, 0, 2, 2, 4, 2, 4, 3, 2, 2, 2, 4,\n",
              "       4, 2, 3, 3, 2, 2, 4, 2, 2, 4, 4, 4, 1, 4, 2, 3, 4, 3, 4, 2, 2, 4,\n",
              "       2, 4, 4, 4, 0, 4, 3, 3, 2, 2, 3, 3, 4, 2, 3, 4, 2, 2, 4, 4, 3, 3,\n",
              "       2, 4, 2, 4, 2, 2, 2, 4, 4, 4, 2, 2, 2, 2, 2, 4, 2, 3, 4, 2, 4, 2,\n",
              "       2, 4, 4, 1, 2, 4, 4, 1, 4, 2, 4, 4, 2, 4, 2, 4, 2, 2, 2, 4, 3, 2,\n",
              "       2, 4, 4, 3, 3, 4, 3, 4, 2, 2, 2, 3, 4, 2, 4, 4, 4, 4, 4, 4, 4, 2,\n",
              "       2, 4, 2, 4, 2, 4, 4, 2, 2, 4, 4, 2, 4, 4, 4, 2, 4, 4, 4, 4, 4, 4,\n",
              "       2, 2, 4, 3, 3, 4, 3, 2, 4, 4, 0, 2, 0, 3, 3, 3, 4, 2, 2, 3, 4, 2,\n",
              "       4, 3, 4, 3, 2, 4, 3, 3, 4, 4, 4, 4, 2, 2, 2, 3, 0, 4, 3, 4, 4, 4,\n",
              "       4, 4, 4, 4, 4, 4, 4, 4, 4, 2, 4, 4, 4, 4, 4, 4, 4, 3, 2, 2, 3, 2,\n",
              "       4, 0, 3, 4, 0, 2, 3, 4, 4, 2, 4, 4, 2, 4, 4, 3, 4, 4, 2, 2, 4, 2,\n",
              "       2, 0, 2, 4, 2, 3, 4, 4, 2, 2, 4, 2, 4, 4, 2, 2, 4, 3, 2, 4, 3, 4,\n",
              "       4, 4, 3, 2, 4, 3, 2, 4, 4, 2, 4, 3, 4, 4, 4, 4, 4, 4, 4, 4, 3, 0,\n",
              "       4, 2, 1, 4, 2, 2, 4, 2, 2, 4, 4, 4, 4, 0, 4, 2, 3, 2, 2, 2, 3, 2,\n",
              "       2, 4, 4, 0, 2, 4, 4, 2, 3, 4, 2, 2, 2, 4, 4, 4, 4, 3, 4, 4, 2, 2,\n",
              "       4, 4, 4, 2, 2, 2, 2, 4, 2, 4, 3, 3, 4, 4, 4, 4, 2, 4, 2, 2, 4, 0,\n",
              "       0, 2, 3, 4, 3, 2, 2, 2, 2, 2, 2, 4, 4, 2, 2, 2, 4, 4, 3, 4, 4, 4,\n",
              "       4, 4, 4, 2, 4, 3, 2, 3, 2, 2, 3, 4, 3, 1, 2, 2, 4, 4, 4, 4, 2, 3,\n",
              "       3, 3, 3, 3, 4, 4, 2, 2, 4, 2, 4, 3, 2, 3, 4, 4, 2, 2, 4, 4, 2, 4,\n",
              "       4, 2, 2, 2, 1, 4, 2, 4, 2])"
            ]
          },
          "metadata": {},
          "execution_count": 40
        }
      ]
    },
    {
      "cell_type": "code",
      "source": [
        "Y_test"
      ],
      "metadata": {
        "colab": {
          "base_uri": "https://localhost:8080/"
        },
        "id": "ydiTrAuwa6t_",
        "outputId": "104c438e-03e7-4f27-b271-eeb3676be6e6"
      },
      "execution_count": null,
      "outputs": [
        {
          "output_type": "execute_result",
          "data": {
            "text/plain": [
              "array([2, 2, 4, 4, 4, 4, 2, 2, 3, 2, 4, 3, 4, 3, 3, 3, 4, 4, 3, 3, 4, 3,\n",
              "       4, 4, 2, 3, 2, 2, 2, 4, 4, 2, 2, 2, 3, 4, 4, 3, 2, 2, 4, 4, 2, 2,\n",
              "       4, 2, 2, 4, 4, 3, 2, 2, 4, 4, 2, 2, 3, 4, 4, 4, 4, 2, 4, 4, 2, 4,\n",
              "       4, 4, 3, 2, 2, 3, 3, 4, 0, 4, 0, 2, 2, 4, 2, 2, 0, 4, 3, 3, 4, 2,\n",
              "       4, 1, 3, 4, 3, 2, 2, 4, 3, 3, 2, 4, 2, 2, 3, 3, 0, 2, 4, 0, 4, 2,\n",
              "       2, 2, 4, 4, 0, 3, 4, 4])"
            ]
          },
          "metadata": {},
          "execution_count": 41
        }
      ]
    },
    {
      "cell_type": "code",
      "source": [
        "from sklearn.preprocessing import StandardScaler\n",
        "\n",
        "sc_X = StandardScaler()\n",
        "X_train = sc_X.fit_transform(X_train)\n",
        "X_test = sc_X.transform(X_test)"
      ],
      "metadata": {
        "id": "ZzNJ9TH0a89Y"
      },
      "execution_count": null,
      "outputs": []
    },
    {
      "cell_type": "code",
      "source": [
        "X_train"
      ],
      "metadata": {
        "colab": {
          "base_uri": "https://localhost:8080/"
        },
        "id": "czMPpBoZa_jt",
        "outputId": "95ef964a-5c09-4200-f36d-8a0c0bfcf2b2"
      },
      "execution_count": null,
      "outputs": [
        {
          "output_type": "execute_result",
          "data": {
            "text/plain": [
              "array([[-5.48730328e-01,  5.48730328e-01, -1.84547590e-01,\n",
              "         1.84547590e-01,  4.13364619e-01, -1.64546182e-01],\n",
              "       [-5.48730328e-01,  5.48730328e-01,  5.58488166e-01,\n",
              "        -5.58488166e-01,  1.06992739e+00,  5.54768082e-01],\n",
              "       [ 1.82238879e+00, -1.82238879e+00, -4.74891010e+00,\n",
              "         4.74891010e+00, -4.60038743e+00, -3.67363333e+00],\n",
              "       ...,\n",
              "       [-5.48730328e-01,  5.48730328e-01,  5.58488166e-01,\n",
              "        -5.58488166e-01,  2.93989571e-01,  7.97779658e-01],\n",
              "       [ 1.82238879e+00, -1.82238879e+00,  2.66581262e-01,\n",
              "        -2.66581262e-01, -1.23823100e-01,  6.87449307e-02],\n",
              "       [ 1.82238879e+00, -1.82238879e+00,  5.58488166e-01,\n",
              "        -5.58488166e-01, -4.44805118e-03,  4.08961137e-01]])"
            ]
          },
          "metadata": {},
          "execution_count": 43
        }
      ]
    },
    {
      "cell_type": "code",
      "source": [
        "X_test"
      ],
      "metadata": {
        "colab": {
          "base_uri": "https://localhost:8080/"
        },
        "id": "TmbFWPq_bBao",
        "outputId": "a5db6a59-9597-440e-80dc-96dd0f7349d9"
      },
      "execution_count": null,
      "outputs": [
        {
          "output_type": "execute_result",
          "data": {
            "text/plain": [
              "array([[ 1.82238879e+00, -1.82238879e+00,  5.58488166e-01,\n",
              "        -5.58488166e-01,  6.52114717e-01,  3.60358821e-01],\n",
              "       [ 1.82238879e+00, -1.82238879e+00, -2.50890069e-01,\n",
              "         2.50890069e-01,  8.90864814e-01,  5.54768082e-01],\n",
              "       [-5.48730328e-01,  5.48730328e-01,  3.19655245e-01,\n",
              "        -3.19655245e-01,  1.86552027e-01,  6.22811323e-01],\n",
              "       [-5.48730328e-01,  5.48730328e-01,  5.58488166e-01,\n",
              "        -5.58488166e-01,  5.92427193e-01, -1.74266645e-01],\n",
              "       [-5.48730328e-01,  5.48730328e-01, -1.19295326e+00,\n",
              "         1.19295326e+00, -4.44805118e-03,  3.11756506e-01],\n",
              "       [-5.48730328e-01,  5.48730328e-01,  5.58488166e-01,\n",
              "        -5.58488166e-01,  4.73052144e-01,  4.57563452e-01],\n",
              "       [-5.48730328e-01,  5.48730328e-01,  5.58488166e-01,\n",
              "        -5.58488166e-01,  8.90864814e-01,  3.11756506e-01],\n",
              "       [-5.48730328e-01,  5.48730328e-01,  5.58488166e-01,\n",
              "        -5.58488166e-01,  1.18930244e+00,  6.03370397e-01],\n",
              "       [-5.48730328e-01,  5.48730328e-01, -9.54120338e-01,\n",
              "         9.54120338e-01, -5.41635771e-01, -1.87534767e+00],\n",
              "       [-5.48730328e-01,  5.48730328e-01,  5.58488166e-01,\n",
              "        -5.58488166e-01,  2.93989571e-01,  1.04079123e+00],\n",
              "       [-5.48730328e-01,  5.48730328e-01,  5.58488166e-01,\n",
              "        -5.58488166e-01,  5.52394732e-02, -1.25664330e-01],\n",
              "       [-5.48730328e-01,  5.48730328e-01,  5.58488166e-01,\n",
              "        -5.58488166e-01, -6.01323295e-01, -6.60289796e-01],\n",
              "       [-5.48730328e-01,  5.48730328e-01,  5.58488166e-01,\n",
              "        -5.58488166e-01, -1.01913597e+00,  7.00575027e-01],\n",
              "       [ 1.82238879e+00, -1.82238879e+00, -5.02991486e-01,\n",
              "         5.02991486e-01, -8.99760917e-01, -4.65880536e-01],\n",
              "       [-5.48730328e-01,  5.48730328e-01, -6.88750425e-01,\n",
              "         6.88750425e-01, -2.43198149e-01, -4.17278221e-01],\n",
              "       [-5.48730328e-01,  5.48730328e-01, -1.56447114e+00,\n",
              "         1.56447114e+00, -4.81948246e-01, -9.51903687e-01],\n",
              "       [ 1.82238879e+00, -1.82238879e+00,  5.42853315e-02,\n",
              "        -5.42853315e-02,  3.53677095e-01, -1.74266645e-01],\n",
              "       [-5.48730328e-01,  5.48730328e-01, -9.80657330e-01,\n",
              "         9.80657330e-01,  3.17864580e-01,  6.22811323e-01],\n",
              "       [-5.48730328e-01,  5.48730328e-01,  5.58488166e-01,\n",
              "        -5.58488166e-01, -3.02885673e-01, -8.06096742e-01],\n",
              "       [-5.48730328e-01,  5.48730328e-01, -3.70306529e-01,\n",
              "         3.70306529e-01, -9.59448441e-01, -6.60289796e-01],\n",
              "       [-5.48730328e-01,  5.48730328e-01,  5.58488166e-01,\n",
              "        -5.58488166e-01,  1.44770760e-01,  2.63154191e-01],\n",
              "       [-5.48730328e-01,  5.48730328e-01, -9.01046356e-01,\n",
              "         9.01046356e-01, -1.25788606e+00, -3.68675906e-01],\n",
              "       [-5.48730328e-01,  5.48730328e-01, -9.01046356e-01,\n",
              "         9.01046356e-01,  5.92427193e-01, -4.17278221e-01],\n",
              "       [-5.48730328e-01,  5.48730328e-01, -5.18626338e-02,\n",
              "         5.18626338e-02, -3.02885673e-01,  4.08961137e-01],\n",
              "       [ 1.82238879e+00, -1.82238879e+00,  5.58488166e-01,\n",
              "        -5.58488166e-01,  8.90864814e-01,  3.11756506e-01],\n",
              "       [ 1.82238879e+00, -1.82238879e+00, -1.84547590e-01,\n",
              "         1.84547590e-01, -3.02885673e-01, -4.17278221e-01],\n",
              "       [-5.48730328e-01,  5.48730328e-01,  5.58488166e-01,\n",
              "        -5.58488166e-01,  7.41646003e-01,  5.06165767e-01],\n",
              "       [-5.48730328e-01,  5.48730328e-01,  5.58488166e-01,\n",
              "        -5.58488166e-01,  1.24898996e+00,  9.43586603e-01],\n",
              "       [-5.48730328e-01,  5.48730328e-01,  5.58488166e-01,\n",
              "        -5.58488166e-01,  8.90864814e-01,  3.11756506e-01],\n",
              "       [-5.48730328e-01,  5.48730328e-01,  5.58488166e-01,\n",
              "        -5.58488166e-01,  4.13364619e-01,  2.14551876e-01],\n",
              "       [-5.48730328e-01,  5.48730328e-01,  5.58488166e-01,\n",
              "        -5.58488166e-01,  3.53677095e-01, -7.70620147e-02],\n",
              "       [-5.48730328e-01,  5.48730328e-01, -4.74891010e+00,\n",
              "         4.74891010e+00, -4.48101238e+00,  1.08939355e+00],\n",
              "       [-5.48730328e-01,  5.48730328e-01,  5.58488166e-01,\n",
              "        -5.58488166e-01,  1.14926998e-01,  7.00575027e-01],\n",
              "       [-5.48730328e-01,  5.48730328e-01,  5.58488166e-01,\n",
              "        -5.58488166e-01,  5.92427193e-01,  6.51972712e-01],\n",
              "       [-5.48730328e-01,  5.48730328e-01,  5.58488166e-01,\n",
              "        -5.58488166e-01, -8.40073392e-01, -6.60289796e-01],\n",
              "       [-5.48730328e-01,  5.48730328e-01,  5.58488166e-01,\n",
              "        -5.58488166e-01,  5.92427193e-01,  2.63154191e-01],\n",
              "       [-5.48730328e-01,  5.48730328e-01,  2.93118253e-01,\n",
              "        -2.93118253e-01,  1.14926998e-01,  4.57563452e-01],\n",
              "       [-5.48730328e-01,  5.48730328e-01, -1.04936616e-01,\n",
              "         1.04936616e-01, -1.19819854e+00, -1.74266645e-01],\n",
              "       [-5.48730328e-01,  5.48730328e-01, -4.74891010e+00,\n",
              "         4.74891010e+00,  8.90864814e-01,  4.57563452e-01],\n",
              "       [-5.48730328e-01,  5.48730328e-01,  5.42853315e-02,\n",
              "        -5.42853315e-02,  5.92427193e-01,  9.43586603e-01],\n",
              "       [-5.48730328e-01,  5.48730328e-01, -4.49917503e-01,\n",
              "         4.49917503e-01, -3.62573197e-01,  3.11756506e-01],\n",
              "       [-5.48730328e-01,  5.48730328e-01,  5.58488166e-01,\n",
              "        -5.58488166e-01,  5.52394732e-02, -1.74266645e-01],\n",
              "       [-5.48730328e-01,  5.48730328e-01,  2.77483402e-02,\n",
              "        -2.77483402e-02,  8.90864814e-01,  7.97779658e-01],\n",
              "       [ 1.82238879e+00, -1.82238879e+00,  5.58488166e-01,\n",
              "        -5.58488166e-01,  5.32739668e-01,  4.57563452e-01],\n",
              "       [-5.48730328e-01,  5.48730328e-01,  5.58488166e-01,\n",
              "        -5.58488166e-01,  5.92427193e-01,  2.63154191e-01],\n",
              "       [-5.48730328e-01,  5.48730328e-01, -3.03964051e-01,\n",
              "         3.03964051e-01,  2.93989571e-01,  7.97779658e-01],\n",
              "       [ 1.82238879e+00, -1.82238879e+00,  5.58488166e-01,\n",
              "        -5.58488166e-01,  8.90864814e-01,  7.97779658e-01],\n",
              "       [ 1.82238879e+00, -1.82238879e+00,  5.58488166e-01,\n",
              "        -5.58488166e-01, -1.83510624e-01, -2.71471275e-01],\n",
              "       [-5.48730328e-01,  5.48730328e-01,  5.42853315e-02,\n",
              "        -5.42853315e-02,  5.52394732e-02,  4.08961137e-01],\n",
              "       [-5.48730328e-01,  5.48730328e-01, -1.79003556e+00,\n",
              "         1.79003556e+00, -6.01323295e-01, -4.17278221e-01],\n",
              "       [-5.48730328e-01,  5.48730328e-01,  5.58488166e-01,\n",
              "        -5.58488166e-01,  8.90864814e-01,  1.08939355e+00],\n",
              "       [-5.48730328e-01,  5.48730328e-01,  5.58488166e-01,\n",
              "        -5.58488166e-01,  9.50552339e-01,  5.54768082e-01],\n",
              "       [-5.48730328e-01,  5.48730328e-01,  3.19655245e-01,\n",
              "        -3.19655245e-01, -4.44805118e-03,  3.11756506e-01],\n",
              "       [-5.48730328e-01,  5.48730328e-01,  2.93118253e-01,\n",
              "        -2.93118253e-01, -5.41635771e-01,  6.51972712e-01],\n",
              "       [-5.48730328e-01,  5.48730328e-01,  5.58488166e-01,\n",
              "        -5.58488166e-01,  2.93989571e-01,  7.97779658e-01],\n",
              "       [-5.48730328e-01,  5.48730328e-01,  5.58488166e-01,\n",
              "        -5.58488166e-01,  5.32739668e-01,  8.94984288e-01],\n",
              "       [-5.48730328e-01,  5.48730328e-01,  2.77483402e-02,\n",
              "        -2.77483402e-02, -1.07882349e+00, -6.60289796e-01],\n",
              "       [-5.48730328e-01,  5.48730328e-01,  5.58488166e-01,\n",
              "        -5.58488166e-01,  2.93989571e-01,  1.17347246e-01],\n",
              "       [-5.48730328e-01,  5.48730328e-01,  2.66581262e-01,\n",
              "        -2.66581262e-01,  8.90864814e-01, -2.84596996e-02],\n",
              "       [-5.48730328e-01,  5.48730328e-01,  2.66581262e-01,\n",
              "        -2.66581262e-01,  2.93989571e-01, -3.20073590e-01],\n",
              "       [ 1.82238879e+00, -1.82238879e+00, -6.35676443e-01,\n",
              "         6.35676443e-01, -4.44805118e-03, -1.74266645e-01],\n",
              "       [-5.48730328e-01,  5.48730328e-01,  5.58488166e-01,\n",
              "        -5.58488166e-01,  2.93989571e-01,  3.11756506e-01],\n",
              "       [-5.48730328e-01,  5.48730328e-01, -4.49917503e-01,\n",
              "         4.49917503e-01,  1.74614522e-01,  6.87449307e-02],\n",
              "       [-5.48730328e-01,  5.48730328e-01,  5.58488166e-01,\n",
              "        -5.58488166e-01,  5.32739668e-01,  3.60358821e-01],\n",
              "       [ 1.82238879e+00, -1.82238879e+00,  5.58488166e-01,\n",
              "        -5.58488166e-01,  5.92427193e-01,  5.54768082e-01],\n",
              "       [-5.48730328e-01,  5.48730328e-01,  5.58488166e-01,\n",
              "        -5.58488166e-01, -4.44805118e-03,  6.87449307e-02],\n",
              "       [-5.48730328e-01,  5.48730328e-01, -5.82602460e-01,\n",
              "         5.82602460e-01, -4.44805118e-03,  6.87449307e-02],\n",
              "       [ 1.82238879e+00, -1.82238879e+00, -2.49326583e+00,\n",
              "         2.49326583e+00,  1.14926998e-01,  2.14551876e-01],\n",
              "       [-5.48730328e-01,  5.48730328e-01,  5.58488166e-01,\n",
              "        -5.58488166e-01, -1.13851101e+00, -3.68675906e-01],\n",
              "       [-5.48730328e-01,  5.48730328e-01,  5.58488166e-01,\n",
              "        -5.58488166e-01,  4.43208382e-01,  8.46381973e-01],\n",
              "       [-5.48730328e-01,  5.48730328e-01,  5.58488166e-01,\n",
              "        -5.58488166e-01,  2.93989571e-01,  8.94984288e-01],\n",
              "       [-5.48730328e-01,  5.48730328e-01,  5.58488166e-01,\n",
              "        -5.58488166e-01, -2.09351140e+00, -1.74266645e-01],\n",
              "       [-5.48730328e-01,  5.48730328e-01,  2.77483402e-02,\n",
              "        -2.77483402e-02, -4.44805118e-03, -1.14631295e+00],\n",
              "       [ 1.82238879e+00, -1.82238879e+00, -1.03373131e+00,\n",
              "         1.03373131e+00, -1.07882349e+00,  5.54768082e-01],\n",
              "       [ 1.82238879e+00, -1.82238879e+00, -1.96252601e+00,\n",
              "         1.96252601e+00, -8.99760917e-01, -3.67363333e+00],\n",
              "       [-5.48730328e-01,  5.48730328e-01, -5.82602460e-01,\n",
              "         5.82602460e-01,  2.93989571e-01,  6.87449307e-02],\n",
              "       [-5.48730328e-01,  5.48730328e-01, -1.16641627e+00,\n",
              "         1.16641627e+00, -1.37726111e+00, -3.67363333e+00],\n",
              "       [-5.48730328e-01,  5.48730328e-01,  5.58488166e-01,\n",
              "        -5.58488166e-01,  2.93989571e-01,  7.49177343e-01],\n",
              "       [-5.48730328e-01,  5.48730328e-01,  5.58488166e-01,\n",
              "        -5.58488166e-01,  2.93989571e-01,  5.54768082e-01],\n",
              "       [ 1.82238879e+00, -1.82238879e+00,  2.93118253e-01,\n",
              "        -2.93118253e-01,  1.74614522e-01,  1.65949561e-01],\n",
              "       [ 1.82238879e+00, -1.82238879e+00,  5.58488166e-01,\n",
              "        -5.58488166e-01,  1.18930244e+00,  5.06165767e-01],\n",
              "       [-5.48730328e-01,  5.48730328e-01,  5.58488166e-01,\n",
              "        -5.58488166e-01,  8.90864814e-01,  7.97779658e-01],\n",
              "       [ 1.82238879e+00, -1.82238879e+00, -3.72723593e+00,\n",
              "         3.72723593e+00, -4.60038743e+00, -3.67363333e+00],\n",
              "       [-5.48730328e-01,  5.48730328e-01,  5.58488166e-01,\n",
              "        -5.58488166e-01,  6.52114717e-01,  2.63154191e-01],\n",
              "       [-5.48730328e-01,  5.48730328e-01,  5.58488166e-01,\n",
              "        -5.58488166e-01, -1.13851101e+00, -1.04910832e+00],\n",
              "       [-5.48730328e-01,  5.48730328e-01,  5.58488166e-01,\n",
              "        -5.58488166e-01, -1.07882349e+00, -1.09771063e+00],\n",
              "       [-5.48730328e-01,  5.48730328e-01,  5.58488166e-01,\n",
              "        -5.58488166e-01, -1.83510624e-01,  1.17347246e-01],\n",
              "       [-5.48730328e-01,  5.48730328e-01,  5.58488166e-01,\n",
              "        -5.58488166e-01,  2.93989571e-01,  7.97779658e-01],\n",
              "       [-5.48730328e-01,  5.48730328e-01, -5.02991486e-01,\n",
              "         5.02991486e-01, -7.20698344e-01, -7.70620147e-02],\n",
              "       [ 1.82238879e+00, -1.82238879e+00,  5.58488166e-01,\n",
              "        -5.58488166e-01,  2.93989571e-01, -3.57642870e+00],\n",
              "       [-5.48730328e-01,  5.48730328e-01, -7.68361399e-01,\n",
              "         7.68361399e-01, -1.07882349e+00, -6.60289796e-01],\n",
              "       [-5.48730328e-01,  5.48730328e-01,  5.58488166e-01,\n",
              "        -5.58488166e-01, -4.44805118e-03,  6.87449307e-02],\n",
              "       [-5.48730328e-01,  5.48730328e-01, -1.75023008e+00,\n",
              "         1.75023008e+00, -1.01913597e+00, -2.22868960e-01],\n",
              "       [ 1.82238879e+00, -1.82238879e+00,  5.58488166e-01,\n",
              "        -5.58488166e-01,  4.13364619e-01,  4.08961137e-01],\n",
              "       [-5.48730328e-01,  5.48730328e-01,  5.42853315e-02,\n",
              "        -5.42853315e-02,  5.92427193e-01,  7.97779658e-01],\n",
              "       [-5.48730328e-01,  5.48730328e-01,  5.58488166e-01,\n",
              "        -5.58488166e-01,  2.93989571e-01, -1.74266645e-01],\n",
              "       [ 1.82238879e+00, -1.82238879e+00,  3.19655245e-01,\n",
              "        -3.19655245e-01, -6.01323295e-01, -4.17278221e-01],\n",
              "       [-5.48730328e-01,  5.48730328e-01,  2.93118253e-01,\n",
              "        -2.93118253e-01, -1.19819854e+00,  1.65949561e-01],\n",
              "       [-5.48730328e-01,  5.48730328e-01,  5.58488166e-01,\n",
              "        -5.58488166e-01,  2.93989571e-01,  4.57563452e-01],\n",
              "       [-5.48730328e-01,  5.48730328e-01, -1.03373131e+00,\n",
              "         1.03373131e+00,  1.14926998e-01,  6.87449307e-02],\n",
              "       [-5.48730328e-01,  5.48730328e-01,  5.58488166e-01,\n",
              "        -5.58488166e-01,  2.93989571e-01,  8.94984288e-01],\n",
              "       [ 1.82238879e+00, -1.82238879e+00,  5.58488166e-01,\n",
              "        -5.58488166e-01,  7.71489766e-01,  6.03370397e-01],\n",
              "       [-5.48730328e-01,  5.48730328e-01, -1.04936616e-01,\n",
              "         1.04936616e-01, -9.59448441e-01, -2.71471275e-01],\n",
              "       [-5.48730328e-01,  5.48730328e-01, -2.37621573e-01,\n",
              "         2.37621573e-01,  1.44770760e-01, -8.54699057e-01],\n",
              "       [-5.48730328e-01,  5.48730328e-01, -9.01046356e-01,\n",
              "         9.01046356e-01, -1.37726111e+00, -3.67363333e+00],\n",
              "       [-5.48730328e-01,  5.48730328e-01,  5.58488166e-01,\n",
              "        -5.58488166e-01,  5.92427193e-01,  5.54768082e-01],\n",
              "       [ 1.82238879e+00, -1.82238879e+00,  5.58488166e-01,\n",
              "        -5.58488166e-01,  4.73052144e-01, -2.22868960e-01],\n",
              "       [-5.48730328e-01,  5.48730328e-01, -1.29910123e+00,\n",
              "         1.29910123e+00, -4.81948246e-01, -3.67363333e+00],\n",
              "       [-5.48730328e-01,  5.48730328e-01, -6.88750425e-01,\n",
              "         6.88750425e-01, -2.43198149e-01,  6.87449307e-02],\n",
              "       [-5.48730328e-01,  5.48730328e-01,  5.58488166e-01,\n",
              "        -5.58488166e-01,  8.90864814e-01,  1.08939355e+00],\n",
              "       [ 1.82238879e+00, -1.82238879e+00,  5.42853315e-02,\n",
              "        -5.42853315e-02, -4.44805118e-03,  4.08961137e-01],\n",
              "       [-5.48730328e-01,  5.48730328e-01,  5.58488166e-01,\n",
              "        -5.58488166e-01,  2.93989571e-01,  3.11756506e-01],\n",
              "       [-5.48730328e-01,  5.48730328e-01, -5.82602460e-01,\n",
              "         5.82602460e-01, -3.02885673e-01, -1.74266645e-01],\n",
              "       [-5.48730328e-01,  5.48730328e-01, -4.49917503e-01,\n",
              "         4.49917503e-01,  5.52394732e-02,  6.87449307e-02],\n",
              "       [-5.48730328e-01,  5.48730328e-01, -1.03373131e+00,\n",
              "         1.03373131e+00, -4.60038743e+00, -3.67363333e+00],\n",
              "       [-5.48730328e-01,  5.48730328e-01, -2.86478371e+00,\n",
              "         2.86478371e+00, -1.79507378e+00, -1.00050600e+00],\n",
              "       [ 1.82238879e+00, -1.82238879e+00,  5.58488166e-01,\n",
              "        -5.58488166e-01,  7.11802241e-01,  8.94984288e-01],\n",
              "       [-5.48730328e-01,  5.48730328e-01, -3.70306529e-01,\n",
              "         3.70306529e-01,  3.53677095e-01, -3.20073590e-01]])"
            ]
          },
          "metadata": {},
          "execution_count": 44
        }
      ]
    },
    {
      "cell_type": "markdown",
      "source": [
        "**Gradient Boosting**"
      ],
      "metadata": {
        "id": "sRTsuEcgbLmq"
      }
    },
    {
      "cell_type": "code",
      "source": [
        "from sklearn.ensemble import GradientBoostingClassifier\n",
        "from sklearn.tree import DecisionTreeClassifier"
      ],
      "metadata": {
        "id": "fNgeh5crbDWg"
      },
      "execution_count": null,
      "outputs": []
    },
    {
      "cell_type": "code",
      "source": [
        "import joblib\n",
        "from  sklearn.utils import parallel_backend \n",
        "gboost = GradientBoostingClassifier(learning_rate=.1, n_estimators=500,max_depth=5 )"
      ],
      "metadata": {
        "id": "jEjDqSaFbTci"
      },
      "execution_count": null,
      "outputs": []
    },
    {
      "cell_type": "code",
      "source": [
        "gboost.fit(X_train, Y_train)\n",
        "gboost_pred = gboost.predict(X_test)"
      ],
      "metadata": {
        "id": "mUy1r0pVbTyK"
      },
      "execution_count": null,
      "outputs": []
    },
    {
      "cell_type": "code",
      "source": [
        "from sklearn.metrics import accuracy_score\n",
        "gboost_acc=accuracy_score(Y_test, gboost_pred)\n",
        "print(gboost_acc)"
      ],
      "metadata": {
        "colab": {
          "base_uri": "https://localhost:8080/"
        },
        "id": "8om7hk73bVYw",
        "outputId": "a0664563-4323-4676-d338-2296c4fa868d"
      },
      "execution_count": null,
      "outputs": [
        {
          "output_type": "stream",
          "name": "stdout",
          "text": [
            "0.9067796610169492\n"
          ]
        }
      ]
    },
    {
      "cell_type": "code",
      "source": [
        "from sklearn.metrics import classification_report\n",
        "print(classification_report(Y_test, gboost_pred))"
      ],
      "metadata": {
        "colab": {
          "base_uri": "https://localhost:8080/"
        },
        "id": "UesVh8t-bZ84",
        "outputId": "c34dc39c-fc69-4b7e-e40c-52b9831cb076"
      },
      "execution_count": null,
      "outputs": [
        {
          "output_type": "stream",
          "name": "stdout",
          "text": [
            "              precision    recall  f1-score   support\n",
            "\n",
            "           0       1.00      1.00      1.00         6\n",
            "           1       0.00      0.00      0.00         1\n",
            "           2       0.86      0.95      0.90        40\n",
            "           3       1.00      0.92      0.96        25\n",
            "           4       0.89      0.87      0.88        46\n",
            "\n",
            "    accuracy                           0.91       118\n",
            "   macro avg       0.75      0.75      0.75       118\n",
            "weighted avg       0.90      0.91      0.90       118\n",
            "\n"
          ]
        },
        {
          "output_type": "stream",
          "name": "stderr",
          "text": [
            "/usr/local/lib/python3.7/dist-packages/sklearn/metrics/_classification.py:1308: UndefinedMetricWarning: Precision and F-score are ill-defined and being set to 0.0 in labels with no predicted samples. Use `zero_division` parameter to control this behavior.\n",
            "  _warn_prf(average, modifier, msg_start, len(result))\n",
            "/usr/local/lib/python3.7/dist-packages/sklearn/metrics/_classification.py:1308: UndefinedMetricWarning: Precision and F-score are ill-defined and being set to 0.0 in labels with no predicted samples. Use `zero_division` parameter to control this behavior.\n",
            "  _warn_prf(average, modifier, msg_start, len(result))\n",
            "/usr/local/lib/python3.7/dist-packages/sklearn/metrics/_classification.py:1308: UndefinedMetricWarning: Precision and F-score are ill-defined and being set to 0.0 in labels with no predicted samples. Use `zero_division` parameter to control this behavior.\n",
            "  _warn_prf(average, modifier, msg_start, len(result))\n"
          ]
        }
      ]
    },
    {
      "cell_type": "code",
      "source": [
        "from sklearn.metrics import confusion_matrix\n",
        "import seaborn as sns\n",
        "from sklearn.metrics import classification_report\n",
        "Ypred = gboost_pred\n",
        "label=['0','1', '2','3','4']\n",
        "Ytrue = Y_test \n",
        "cm = confusion_matrix(Ytrue, Ypred)\n",
        "plt.figure(figsize=(12, 12))\n",
        "plt.title(\"Confusion Matrix for Gradient Boosting\")\n",
        "ax = sns.heatmap(cm, cmap=\"mako\", fmt=\".01f\",annot_kws={'size':16}, annot=True, square=True, xticklabels=label, yticklabels=label)\n",
        "ax.set_ylabel('Actual', fontsize=20)\n",
        "ax.set_xlabel('Predicted', fontsize=20)"
      ],
      "metadata": {
        "colab": {
          "base_uri": "https://localhost:8080/",
          "height": 710
        },
        "id": "Fe6VbGHLby4y",
        "outputId": "03b598bc-7b18-4d71-a4fa-7dc814d68b44"
      },
      "execution_count": null,
      "outputs": [
        {
          "output_type": "execute_result",
          "data": {
            "text/plain": [
              "Text(0.5, 145.31999999999996, 'Predicted')"
            ]
          },
          "metadata": {},
          "execution_count": 56
        },
        {
          "output_type": "display_data",
          "data": {
            "image/png": "[encoded data removed]",
            "text/plain": [
              "<Figure size 864x864 with 2 Axes>"
            ]
          },
          "metadata": {
            "needs_background": "light"
          }
        }
      ]
    },
    {
      "cell_type": "markdown",
      "source": [
        "**AdaBoost**"
      ],
      "metadata": {
        "id": "qDFwrU02cYLq"
      }
    },
    {
      "cell_type": "code",
      "source": [
        "from sklearn.ensemble import RandomForestClassifier\n",
        "from sklearn.tree import DecisionTreeClassifier\n",
        "randomf = RandomForestClassifier(n_jobs=-1)\n",
        "dtree = DecisionTreeClassifier( criterion='entropy')\n",
        "from sklearn.ensemble import AdaBoostClassifier\n",
        "ab = AdaBoostClassifier(randomf, n_estimators=500000, learning_rate=.5)\n",
        "ab.fit(X_train, Y_train)\n",
        "ab_pred = ab.predict(X_test)\n",
        "ab_acc=accuracy_score(Y_test, ab_pred)\n",
        "print(ab_acc)"
      ],
      "metadata": {
        "id": "T0iHJMeZcDjm"
      },
      "execution_count": null,
      "outputs": []
    },
    {
      "cell_type": "code",
      "source": [
        "print(classification_report(Y_test, ab_pred))"
      ],
      "metadata": {
        "id": "-L3BhCuqcoYl"
      },
      "execution_count": null,
      "outputs": []
    },
    {
      "cell_type": "code",
      "source": [
        "from sklearn.metrics import confusion_matrix\n",
        "import seaborn as sns\n",
        "from sklearn.metrics import classification_report\n",
        "Ypred = ab_pred\n",
        "label=['0','1', '2','3','4']\n",
        "Ytrue = Y_test \n",
        "cm = confusion_matrix(Ytrue, Ypred)\n",
        "plt.figure(figsize=(12, 12))\n",
        "plt.title(\"Confusion Matrix for AdaBoost\")\n",
        "ax = sns.heatmap(cm, cmap=\"mako\", fmt=\".01f\",annot_kws={'size':16}, annot=True, square=True, xticklabels=label, yticklabels=label)\n",
        "ax.set_ylabel('Actual', fontsize=20)\n",
        "ax.set_xlabel('Predicted', fontsize=20)"
      ],
      "metadata": {
        "id": "JuVzNOjnc0wT"
      },
      "execution_count": null,
      "outputs": []
    },
    {
      "cell_type": "markdown",
      "source": [
        "**XGBoost**"
      ],
      "metadata": {
        "id": "zqSGN7YidEWz"
      }
    },
    {
      "cell_type": "code",
      "source": [
        "import xgboost as xgb\n",
        "xgbd = xgb.XGBClassifier(max_depth=10, n_estimators=5000 , learning_rate=.1, n_jobs=-1)"
      ],
      "metadata": {
        "id": "rRZpMoy8dMi3"
      },
      "execution_count": null,
      "outputs": []
    },
    {
      "cell_type": "code",
      "source": [
        "xgbd.fit(X_train, Y_train)\n",
        "xgb_pred = xgbd.predict(X_test)\n",
        "xgb_acc=accuracy_score(Y_test, xgb_pred)\n",
        "print(xgb_acc)"
      ],
      "metadata": {
        "id": "zPcITLZBdPUN"
      },
      "execution_count": null,
      "outputs": []
    },
    {
      "cell_type": "code",
      "source": [
        "print(classification_report(Y_test, xgb_pred))"
      ],
      "metadata": {
        "id": "l9f9SNOWdSa8"
      },
      "execution_count": null,
      "outputs": []
    },
    {
      "cell_type": "code",
      "source": [
        "from sklearn.metrics import confusion_matrix\n",
        "import seaborn as sns\n",
        "from sklearn.metrics import classification_report\n",
        "Ypred = xgb_pred\n",
        "label=['0','1', '2','3','4']\n",
        "Ytrue = Y_test  \n",
        "cm = confusion_matrix(Ytrue, Ypred)\n",
        "plt.figure(figsize=(12, 12))\n",
        "plt.title(\"Confusion Matrix for XGBoost\")\n",
        "ax = sns.heatmap(cm, cmap=\"mako\", fmt=\".01f\",annot_kws={'size':16}, annot=True, square=True, xticklabels=label, yticklabels=label)\n",
        "ax.set_ylabel('Actual', fontsize=20)\n",
        "ax.set_xlabel('Predicted', fontsize=20)"
      ],
      "metadata": {
        "id": "kDSyayK7dVWB"
      },
      "execution_count": null,
      "outputs": []
    },
    {
      "cell_type": "markdown",
      "source": [
        "**Stacking Classifier - RF-KNN-NN**"
      ],
      "metadata": {
        "id": "2FFEVYURdoNE"
      }
    },
    {
      "cell_type": "code",
      "source": [
        "from sklearn.neural_network import MLPClassifier\n",
        "nnc = MLPClassifier(hidden_layer_sizes=(9),activation=\"relu\",max_iter=1000)"
      ],
      "metadata": {
        "id": "5uxfauVPdumF"
      },
      "execution_count": null,
      "outputs": []
    },
    {
      "cell_type": "code",
      "source": [
        "from sklearn.ensemble import RandomForestClassifier\n",
        "from sklearn.tree import DecisionTreeClassifier\n",
        "randomf = RandomForestClassifier(n_jobs=-1)"
      ],
      "metadata": {
        "id": "0NQgG9wSd0Sl"
      },
      "execution_count": null,
      "outputs": []
    },
    {
      "cell_type": "code",
      "source": [
        "from sklearn.neighbors import KNeighborsClassifier\n",
        "knn = KNeighborsClassifier(n_neighbors=5)"
      ],
      "metadata": {
        "id": "UXhc5JF-d9rD"
      },
      "execution_count": null,
      "outputs": []
    },
    {
      "cell_type": "code",
      "source": [
        "from sklearn.model_selection import GridSearchCV\n",
        "estimators = [('rf', randomf),('neural', nnc),\n",
        "        ('knn',knn)\n",
        "        ]\n",
        "from sklearn.ensemble import StackingClassifier\n",
        "final_estimator = {'final_estimator':[randomf,knn,nnc,None]}"
      ],
      "metadata": {
        "id": "AnD5NwP0em0L"
      },
      "execution_count": null,
      "outputs": []
    },
    {
      "cell_type": "code",
      "source": [
        "from sklearn.metrics import confusion_matrix\n",
        "from sklearn.preprocessing import LabelBinarizer\n",
        "from sklearn.model_selection import train_test_split"
      ],
      "metadata": {
        "id": "XdnZKwyrk7zz"
      },
      "execution_count": null,
      "outputs": []
    },
    {
      "cell_type": "code",
      "source": [
        "newgsearchrandom =  StackingClassifier(estimators=estimators, n_jobs=-1,final_estimator=randomf)"
      ],
      "metadata": {
        "id": "dx4YAN7-k85j"
      },
      "execution_count": null,
      "outputs": []
    },
    {
      "cell_type": "code",
      "source": [
        "newgsearchrandom.fit(X_train, Y_train)"
      ],
      "metadata": {
        "id": "JLuSd_IblAlE"
      },
      "execution_count": null,
      "outputs": []
    },
    {
      "cell_type": "code",
      "source": [
        "newgsearchrandom_pred = newgsearchrandom.predict(X_test)\n",
        "newgsearchrandom_acc=accuracy_score(Y_test, newgsearchrandom_pred)\n",
        "print(newgsearchrandom_acc)"
      ],
      "metadata": {
        "id": "bC-QiKGblExE"
      },
      "execution_count": null,
      "outputs": []
    },
    {
      "cell_type": "code",
      "source": [
        "print(classification_report(Y_test, newgsearchrandom_pred))"
      ],
      "metadata": {
        "id": "PwFgGcp5lIjz"
      },
      "execution_count": null,
      "outputs": []
    },
    {
      "cell_type": "code",
      "source": [
        "from sklearn.metrics import confusion_matrix\n",
        "import seaborn as sns\n",
        "from sklearn.metrics import classification_report\n",
        "Ypred = newgsearchrandom_pred\n",
        "label=['0','1', '2','3','4']\n",
        "Ytrue = Y_test\n",
        "cm = confusion_matrix(Ytrue, Ypred)\n",
        "plt.figure(figsize=(12, 12))\n",
        "plt.title(\"Confusion Matrix for Random Forest as Final Estimator\")\n",
        "ax = sns.heatmap(cm, cmap=\"rocket_r\", fmt=\".01f\",annot_kws={'size':16}, annot=True, square=True, xticklabels=label, yticklabels=label)\n",
        "ax.set_ylabel('Actual', fontsize=20)\n",
        "ax.set_xlabel('Predicted', fontsize=20)"
      ],
      "metadata": {
        "id": "Ou18Ka3HlKUd"
      },
      "execution_count": null,
      "outputs": []
    },
    {
      "cell_type": "markdown",
      "source": [
        "**Stacking Classifier - Neural Network**"
      ],
      "metadata": {
        "id": "ulR3YDApewgW"
      }
    },
    {
      "cell_type": "code",
      "source": [
        "newgsearchnnc =  StackingClassifier(estimators=estimators, n_jobs=-1,final_estimator=nnc)\n",
        "newgsearchnnc.fit(X_train, Y_train)\n",
        "newgsearchnnc_pred = newgsearchnnc.predict(X_test)\n",
        "newgsearchnnc_acc=accuracy_score(Y_test, newgsearchnnc_pred)\n",
        "print(newgsearchnnc_acc)"
      ],
      "metadata": {
        "id": "_ekdYBn_ev9s"
      },
      "execution_count": null,
      "outputs": []
    },
    {
      "cell_type": "code",
      "source": [
        "print(classification_report(Y_test, newgsearchnnc_pred))"
      ],
      "metadata": {
        "id": "XH6wYh5Ve0i6"
      },
      "execution_count": null,
      "outputs": []
    },
    {
      "cell_type": "code",
      "source": [
        "from sklearn.metrics import confusion_matrix\n",
        "import seaborn as sns\n",
        "from sklearn.metrics import classification_report\n",
        "Ypred = newgsearchnnc_pred\n",
        "label=['0','1', '2','3','4']\n",
        "Ytrue = Y_test\n",
        "cm = confusion_matrix(Ytrue, Ypred)\n",
        "plt.figure(figsize=(12, 12))\n",
        "plt.title(\"Confusion Matrix for Neural Network as Final Estimator\")\n",
        "ax = sns.heatmap(cm, cmap=\"rocket_r\", fmt=\".01f\",annot_kws={'size':16}, annot=True, square=True, xticklabels=label, yticklabels=label)\n",
        "ax.set_ylabel('Actual', fontsize=20)\n",
        "ax.set_xlabel('Predicted', fontsize=20)"
      ],
      "metadata": {
        "id": "_AlEElr-mfkC"
      },
      "execution_count": null,
      "outputs": []
    },
    {
      "cell_type": "markdown",
      "source": [
        "**Stacking - Final estimator KNN**"
      ],
      "metadata": {
        "id": "H0Y5Oo6akgOF"
      }
    },
    {
      "cell_type": "code",
      "source": [
        "newgsearchknn =  StackingClassifier(estimators=estimators, n_jobs=-1,final_estimator=knn)\n",
        "newgsearchknn.fit(X_train, Y_train)\n",
        "newgsearchknn_pred = newgsearchknn.predict(X_test)\n",
        "newgsearchknn_acc=accuracy_score(Y_test, newgsearchknn_pred)\n",
        "print(newgsearchknn_acc)"
      ],
      "metadata": {
        "id": "XrqcrL25kfmr"
      },
      "execution_count": null,
      "outputs": []
    },
    {
      "cell_type": "code",
      "source": [
        "print(classification_report(Y_test, newgsearchknn_pred))"
      ],
      "metadata": {
        "id": "n4-CTOpWmH1j"
      },
      "execution_count": null,
      "outputs": []
    },
    {
      "cell_type": "code",
      "source": [
        "from sklearn.metrics import confusion_matrix\n",
        "import seaborn as sns\n",
        "from sklearn.metrics import classification_report\n",
        "Ypred = newgsearchknn_pred \n",
        "label=['0','1', '2','3','4']\n",
        "Ytrue = Y_test\n",
        "cm = confusion_matrix(Ytrue, Ypred)\n",
        "plt.figure(figsize=(12, 12))\n",
        "plt.title(\"Confusion Matrix for KNN as Final Estimator\")\n",
        "ax = sns.heatmap(cm, cmap=\"rocket_r\", fmt=\".01f\",annot_kws={'size':16}, annot=True, square=True, xticklabels=label, yticklabels=label)\n",
        "ax.set_ylabel('Actual', fontsize=20)\n",
        "ax.set_xlabel('Predicted', fontsize=20)"
      ],
      "metadata": {
        "id": "FJELJwHFmKAa"
      },
      "execution_count": null,
      "outputs": []
    }
  ]
}