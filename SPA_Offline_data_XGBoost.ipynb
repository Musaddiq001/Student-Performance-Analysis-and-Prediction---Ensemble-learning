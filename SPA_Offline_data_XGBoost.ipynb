{
  "nbformat": 4,
  "nbformat_minor": 0,
  "metadata": {
    "colab": {
      "provenance": []
    },
    "kernelspec": {
      "name": "python3",
      "display_name": "Python 3"
    },
    "language_info": {
      "name": "python"
    }
  },
  "cells": [
    {
      "cell_type": "code",
      "execution_count": null,
      "metadata": {
        "id": "NAvVSMzR6kOI"
      },
      "outputs": [],
      "source": [
        "import numpy as np\n",
        "import matplotlib.pyplot as plt\n",
        "import pandas as pd"
      ]
    },
    {
      "cell_type": "code",
      "source": [
        "from google.colab import drive\n",
        "drive.mount('/content/drive')"
      ],
      "metadata": {
        "id": "CI-vtSm663Jl",
        "colab": {
          "base_uri": "https://localhost:8080/"
        },
        "outputId": "1b07b05c-ef68-4892-e866-7bdb0d6757cb"
      },
      "execution_count": null,
      "outputs": [
        {
          "output_type": "stream",
          "name": "stdout",
          "text": [
            "Drive already mounted at /content/drive; to attempt to forcibly remount, call drive.mount(\"/content/drive\", force_remount=True).\n"
          ]
        }
      ]
    },
    {
      "cell_type": "code",
      "source": [
        "dataset = pd.read_csv('/content/drive/MyDrive/OFFLINE DATA/OFFLINE DATASETS/Final Dataset.csv')"
      ],
      "metadata": {
        "id": "hQ5fb6Cy72qA"
      },
      "execution_count": null,
      "outputs": []
    },
    {
      "cell_type": "code",
      "source": [
        "dataset.head()"
      ],
      "metadata": {
        "colab": {
          "base_uri": "https://localhost:8080/",
          "height": 206
        },
        "id": "pAD-7WDZ8KD_",
        "outputId": "c717ce40-cca7-4d81-cb46-eebbc5fc5e11"
      },
      "execution_count": null,
      "outputs": [
        {
          "output_type": "execute_result",
          "data": {
            "text/html": [
              "\n",
              "  <div id=\"df-200a7bf2-0eca-402f-84fb-1a4d06207a30\">\n",
              "    <div class=\"colab-df-container\">\n",
              "      <div>\n",
              "<style scoped>\n",
              "    .dataframe tbody tr th:only-of-type {\n",
              "        vertical-align: middle;\n",
              "    }\n",
              "\n",
              "    .dataframe tbody tr th {\n",
              "        vertical-align: top;\n",
              "    }\n",
              "\n",
              "    .dataframe thead th {\n",
              "        text-align: right;\n",
              "    }\n",
              "</style>\n",
              "<table border=\"1\" class=\"dataframe\">\n",
              "  <thead>\n",
              "    <tr style=\"text-align: right;\">\n",
              "      <th></th>\n",
              "      <th>Gender</th>\n",
              "      <th>Attendance</th>\n",
              "      <th>Absence</th>\n",
              "      <th>Midterm for 2019-2020, Fall [ 100 / 40% ]</th>\n",
              "      <th>Finalterm for 2019-2020, Fall [ 100 / 60% ]</th>\n",
              "      <th>Total</th>\n",
              "      <th>Class</th>\n",
              "    </tr>\n",
              "  </thead>\n",
              "  <tbody>\n",
              "    <tr>\n",
              "      <th>0</th>\n",
              "      <td>Male</td>\n",
              "      <td>5.0</td>\n",
              "      <td>5.0</td>\n",
              "      <td>90</td>\n",
              "      <td>73.0</td>\n",
              "      <td>81.5</td>\n",
              "      <td>Medium performer</td>\n",
              "    </tr>\n",
              "    <tr>\n",
              "      <th>1</th>\n",
              "      <td>Female</td>\n",
              "      <td>4.0</td>\n",
              "      <td>6.0</td>\n",
              "      <td>70</td>\n",
              "      <td>78.0</td>\n",
              "      <td>74.0</td>\n",
              "      <td>Medium performer</td>\n",
              "    </tr>\n",
              "    <tr>\n",
              "      <th>2</th>\n",
              "      <td>Male</td>\n",
              "      <td>6.0</td>\n",
              "      <td>4.0</td>\n",
              "      <td>-2</td>\n",
              "      <td>-2.0</td>\n",
              "      <td>-2.0</td>\n",
              "      <td>Dropped</td>\n",
              "    </tr>\n",
              "    <tr>\n",
              "      <th>3</th>\n",
              "      <td>Male</td>\n",
              "      <td>8.0</td>\n",
              "      <td>2.0</td>\n",
              "      <td>45</td>\n",
              "      <td>73.0</td>\n",
              "      <td>59.0</td>\n",
              "      <td>Low Performer</td>\n",
              "    </tr>\n",
              "    <tr>\n",
              "      <th>4</th>\n",
              "      <td>Female</td>\n",
              "      <td>9.0</td>\n",
              "      <td>1.0</td>\n",
              "      <td>83</td>\n",
              "      <td>97.0</td>\n",
              "      <td>90.0</td>\n",
              "      <td>High Performer</td>\n",
              "    </tr>\n",
              "  </tbody>\n",
              "</table>\n",
              "</div>\n",
              "      <button class=\"colab-df-convert\" onclick=\"convertToInteractive('df-200a7bf2-0eca-402f-84fb-1a4d06207a30')\"\n",
              "              title=\"Convert this dataframe to an interactive table.\"\n",
              "              style=\"display:none;\">\n",
              "        \n",
              "  <svg xmlns=\"http://www.w3.org/2000/svg\" height=\"24px\"viewBox=\"0 0 24 24\"\n",
              "       width=\"24px\">\n",
              "    <path d=\"M0 0h24v24H0V0z\" fill=\"none\"/>\n",
              "    <path d=\"M18.56 5.44l.94 2.06.94-2.06 2.06-.94-2.06-.94-.94-2.06-.94 2.06-2.06.94zm-11 1L8.5 8.5l.94-2.06 2.06-.94-2.06-.94L8.5 2.5l-.94 2.06-2.06.94zm10 10l.94 2.06.94-2.06 2.06-.94-2.06-.94-.94-2.06-.94 2.06-2.06.94z\"/><path d=\"M17.41 7.96l-1.37-1.37c-.4-.4-.92-.59-1.43-.59-.52 0-1.04.2-1.43.59L10.3 9.45l-7.72 7.72c-.78.78-.78 2.05 0 2.83L4 21.41c.39.39.9.59 1.41.59.51 0 1.02-.2 1.41-.59l7.78-7.78 2.81-2.81c.8-.78.8-2.07 0-2.86zM5.41 20L4 18.59l7.72-7.72 1.47 1.35L5.41 20z\"/>\n",
              "  </svg>\n",
              "      </button>\n",
              "      \n",
              "  <style>\n",
              "    .colab-df-container {\n",
              "      display:flex;\n",
              "      flex-wrap:wrap;\n",
              "      gap: 12px;\n",
              "    }\n",
              "\n",
              "    .colab-df-convert {\n",
              "      background-color: #E8F0FE;\n",
              "      border: none;\n",
              "      border-radius: 50%;\n",
              "      cursor: pointer;\n",
              "      display: none;\n",
              "      fill: #1967D2;\n",
              "      height: 32px;\n",
              "      padding: 0 0 0 0;\n",
              "      width: 32px;\n",
              "    }\n",
              "\n",
              "    .colab-df-convert:hover {\n",
              "      background-color: #E2EBFA;\n",
              "      box-shadow: 0px 1px 2px rgba(60, 64, 67, 0.3), 0px 1px 3px 1px rgba(60, 64, 67, 0.15);\n",
              "      fill: #174EA6;\n",
              "    }\n",
              "\n",
              "    [theme=dark] .colab-df-convert {\n",
              "      background-color: #3B4455;\n",
              "      fill: #D2E3FC;\n",
              "    }\n",
              "\n",
              "    [theme=dark] .colab-df-convert:hover {\n",
              "      background-color: #434B5C;\n",
              "      box-shadow: 0px 1px 3px 1px rgba(0, 0, 0, 0.15);\n",
              "      filter: drop-shadow(0px 1px 2px rgba(0, 0, 0, 0.3));\n",
              "      fill: #FFFFFF;\n",
              "    }\n",
              "  </style>\n",
              "\n",
              "      <script>\n",
              "        const buttonEl =\n",
              "          document.querySelector('#df-200a7bf2-0eca-402f-84fb-1a4d06207a30 button.colab-df-convert');\n",
              "        buttonEl.style.display =\n",
              "          google.colab.kernel.accessAllowed ? 'block' : 'none';\n",
              "\n",
              "        async function convertToInteractive(key) {\n",
              "          const element = document.querySelector('#df-200a7bf2-0eca-402f-84fb-1a4d06207a30');\n",
              "          const dataTable =\n",
              "            await google.colab.kernel.invokeFunction('convertToInteractive',\n",
              "                                                     [key], {});\n",
              "          if (!dataTable) return;\n",
              "\n",
              "          const docLinkHtml = 'Like what you see? Visit the ' +\n",
              "            '<a target=\"_blank\" href=https://colab.research.google.com/notebooks/data_table.ipynb>data table notebook</a>'\n",
              "            + ' to learn more about interactive tables.';\n",
              "          element.innerHTML = '';\n",
              "          dataTable['output_type'] = 'display_data';\n",
              "          await google.colab.output.renderOutput(dataTable, element);\n",
              "          const docLink = document.createElement('div');\n",
              "          docLink.innerHTML = docLinkHtml;\n",
              "          element.appendChild(docLink);\n",
              "        }\n",
              "      </script>\n",
              "    </div>\n",
              "  </div>\n",
              "  "
            ],
            "text/plain": [
              "   Gender  Attendance  ...  Total             Class\n",
              "0    Male         5.0  ...   81.5  Medium performer\n",
              "1  Female         4.0  ...   74.0  Medium performer\n",
              "2    Male         6.0  ...   -2.0           Dropped\n",
              "3    Male         8.0  ...   59.0     Low Performer\n",
              "4  Female         9.0  ...   90.0    High Performer\n",
              "\n",
              "[5 rows x 7 columns]"
            ]
          },
          "metadata": {},
          "execution_count": 31
        }
      ]
    },
    {
      "cell_type": "code",
      "source": [
        "dataset.info()"
      ],
      "metadata": {
        "colab": {
          "base_uri": "https://localhost:8080/"
        },
        "id": "ER3nwc2C8Ow0",
        "outputId": "d8d7b049-9c37-4f08-b339-427e21b82521"
      },
      "execution_count": null,
      "outputs": [
        {
          "output_type": "stream",
          "name": "stdout",
          "text": [
            "<class 'pandas.core.frame.DataFrame'>\n",
            "RangeIndex: 384 entries, 0 to 383\n",
            "Data columns (total 7 columns):\n",
            " #   Column                                       Non-Null Count  Dtype  \n",
            "---  ------                                       --------------  -----  \n",
            " 0   Gender                                       384 non-null    object \n",
            " 1   Attendance                                   384 non-null    float64\n",
            " 2   Absence                                      384 non-null    float64\n",
            " 3   Midterm for 2019-2020, Fall [ 100 / 40% ]    384 non-null    int64  \n",
            " 4   Finalterm for 2019-2020, Fall [ 100 / 60% ]  383 non-null    float64\n",
            " 5   Total                                        384 non-null    float64\n",
            " 6   Class                                        384 non-null    object \n",
            "dtypes: float64(4), int64(1), object(2)\n",
            "memory usage: 21.1+ KB\n"
          ]
        }
      ]
    },
    {
      "cell_type": "code",
      "source": [
        "dataset['Class'].value_counts()"
      ],
      "metadata": {
        "colab": {
          "base_uri": "https://localhost:8080/"
        },
        "id": "OhjHEI_F8Sug",
        "outputId": "bf6f04c7-efd6-40ea-aa04-81688a69d8d4"
      },
      "execution_count": null,
      "outputs": [
        {
          "output_type": "execute_result",
          "data": {
            "text/plain": [
              "Low Performer       126\n",
              "Medium performer    107\n",
              "High Performer       96\n",
              "Failure              48\n",
              "Dropped               7\n",
              "Name: Class, dtype: int64"
            ]
          },
          "metadata": {},
          "execution_count": 33
        }
      ]
    },
    {
      "cell_type": "code",
      "source": [
        "X = dataset.iloc[:,:-2].values"
      ],
      "metadata": {
        "id": "qf5Ob4Gi8WhN"
      },
      "execution_count": null,
      "outputs": []
    },
    {
      "cell_type": "code",
      "source": [
        "Y = dataset.iloc[:, 6].values"
      ],
      "metadata": {
        "id": "ewWkYsFU8aCC"
      },
      "execution_count": null,
      "outputs": []
    },
    {
      "cell_type": "code",
      "source": [
        "X"
      ],
      "metadata": {
        "colab": {
          "base_uri": "https://localhost:8080/"
        },
        "id": "-Qj9ODIk8faW",
        "outputId": "61fdb35e-eb37-4ec9-c302-9016e4e7b1cf"
      },
      "execution_count": null,
      "outputs": [
        {
          "output_type": "execute_result",
          "data": {
            "text/plain": [
              "array([['Male', 5.0, 5.0, 90, 73.0],\n",
              "       ['Female', 4.0, 6.0, 70, 78.0],\n",
              "       ['Male', 6.0, 4.0, -2, -2.0],\n",
              "       ...,\n",
              "       ['Male', 7.0, 3.0, 60, 55.0],\n",
              "       ['Female', 7.0, 3.0, 52, 37.0],\n",
              "       ['Female', 8.5, 1.5, 55, 40.0]], dtype=object)"
            ]
          },
          "metadata": {},
          "execution_count": 36
        }
      ]
    },
    {
      "cell_type": "code",
      "source": [
        "Y"
      ],
      "metadata": {
        "colab": {
          "base_uri": "https://localhost:8080/"
        },
        "id": "2RtcNw818jnV",
        "outputId": "ebed5e0d-845c-463a-9f10-100c0d197c4f"
      },
      "execution_count": null,
      "outputs": [
        {
          "output_type": "execute_result",
          "data": {
            "text/plain": [
              "array(['Medium performer', 'Medium performer', 'Dropped', 'Low Performer',\n",
              "       'High Performer', 'High Performer', 'Medium performer',\n",
              "       'High Performer', 'Medium performer', 'Medium performer',\n",
              "       'High Performer', 'High Performer', 'High Performer',\n",
              "       'Medium performer', 'High Performer', 'High Performer',\n",
              "       'High Performer', 'Medium performer', 'Medium performer',\n",
              "       'High Performer', 'Low Performer', 'Low Performer',\n",
              "       'High Performer', 'Medium performer', 'Low Performer',\n",
              "       'Medium performer', 'Medium performer', 'High Performer',\n",
              "       'High Performer', 'Medium performer', 'High Performer',\n",
              "       'Low Performer', 'Medium performer', 'Medium performer',\n",
              "       'High Performer', 'High Performer', 'High Performer',\n",
              "       'High Performer', 'High Performer', 'Medium performer',\n",
              "       'Medium performer', 'Medium performer', 'Medium performer',\n",
              "       'High Performer', 'Medium performer', 'High Performer',\n",
              "       'High Performer', 'High Performer', 'Low Performer',\n",
              "       'High Performer', 'High Performer', 'High Performer',\n",
              "       'High Performer', 'High Performer', 'High Performer',\n",
              "       'High Performer', 'Medium performer', 'Medium performer',\n",
              "       'High Performer', 'High Performer', 'High Performer',\n",
              "       'Medium performer', 'High Performer', 'High Performer',\n",
              "       'Medium performer', 'Medium performer', 'Medium performer',\n",
              "       'High Performer', 'High Performer', 'Medium performer',\n",
              "       'High Performer', 'Low Performer', 'Medium performer',\n",
              "       'Medium performer', 'High Performer', 'High Performer',\n",
              "       'High Performer', 'High Performer', 'High Performer',\n",
              "       'Medium performer', 'Medium performer', 'Medium performer',\n",
              "       'Medium performer', 'High Performer', 'Medium performer',\n",
              "       'Medium performer', 'High Performer', 'High Performer',\n",
              "       'Medium performer', 'High Performer', 'High Performer',\n",
              "       'High Performer', 'High Performer', 'Medium performer',\n",
              "       'Medium performer', 'Medium performer', 'Medium performer',\n",
              "       'Medium performer', 'Failure', 'Medium performer', 'Failure',\n",
              "       'Medium performer', 'Low Performer', 'Medium performer', 'Failure',\n",
              "       'Low Performer', 'Low Performer', 'High Performer',\n",
              "       'Medium performer', 'High Performer', 'Failure', 'Low Performer',\n",
              "       'Low Performer', 'Low Performer', 'Low Performer', 'Low Performer',\n",
              "       'Low Performer', 'Medium performer', 'Low Performer', 'Failure',\n",
              "       'High Performer', 'High Performer', 'Failure', 'Medium performer',\n",
              "       'Failure', 'Low Performer', 'Medium performer', 'Low Performer',\n",
              "       'Low Performer', 'Low Performer', 'High Performer',\n",
              "       'Low Performer', 'Failure', 'Low Performer', 'Low Performer',\n",
              "       'Low Performer', 'Failure', 'Low Performer', 'Low Performer',\n",
              "       'Dropped', 'High Performer', 'High Performer', 'Failure',\n",
              "       'Low Performer', 'Low Performer', 'Medium performer',\n",
              "       'High Performer', 'Low Performer', 'Low Performer', 'Failure',\n",
              "       'High Performer', 'High Performer', 'High Performer',\n",
              "       'Low Performer', 'Low Performer', 'Low Performer', 'Low Performer',\n",
              "       'Medium performer', 'High Performer', 'Failure',\n",
              "       'Medium performer', 'Failure', 'Medium performer', 'Low Performer',\n",
              "       'Failure', 'High Performer', 'Failure', 'Low Performer',\n",
              "       'Low Performer', 'High Performer', 'Low Performer', 'Failure',\n",
              "       'Failure', 'Failure', 'Failure', 'Low Performer', 'Dropped',\n",
              "       'Low Performer', 'Low Performer', 'Failure', 'Dropped',\n",
              "       'Low Performer', 'Low Performer', 'Failure', 'High Performer',\n",
              "       'Low Performer', 'Low Performer', 'Low Performer', 'Low Performer',\n",
              "       'Medium performer', 'Low Performer', 'Low Performer',\n",
              "       'Low Performer', 'Low Performer', 'Medium performer',\n",
              "       'High Performer', 'Medium performer', 'High Performer',\n",
              "       'Medium performer', 'Low Performer', 'Failure', 'Medium performer',\n",
              "       'Low Performer', 'Failure', 'Low Performer', 'Medium performer',\n",
              "       'Low Performer', 'Low Performer', 'Low Performer', 'Low Performer',\n",
              "       'Failure', 'Low Performer', 'Low Performer', 'Medium performer',\n",
              "       'Medium performer', 'Failure', 'Medium performer',\n",
              "       'Medium performer', 'Low Performer', 'Failure', 'Medium performer',\n",
              "       'High Performer', 'Low Performer', 'Medium performer',\n",
              "       'Medium performer', 'Medium performer', 'Medium performer',\n",
              "       'High Performer', 'Medium performer', 'High Performer',\n",
              "       'Medium performer', 'High Performer', 'Low Performer', 'Failure',\n",
              "       'Failure', 'Failure', 'Medium performer', 'Medium performer',\n",
              "       'Low Performer', 'Failure', 'Low Performer', 'Medium performer',\n",
              "       'Low Performer', 'Medium performer', 'Low Performer',\n",
              "       'Low Performer', 'Medium performer', 'High Performer',\n",
              "       'Medium performer', 'High Performer', 'Medium performer',\n",
              "       'Low Performer', 'Failure', 'High Performer', 'Medium performer',\n",
              "       'Low Performer', 'Low Performer', 'High Performer',\n",
              "       'Low Performer', 'Medium performer', 'Low Performer',\n",
              "       'Low Performer', 'Medium performer', 'Low Performer',\n",
              "       'High Performer', 'High Performer', 'Failure', 'Low Performer',\n",
              "       'Failure', 'High Performer', 'Low Performer', 'Failure', 'Failure',\n",
              "       'Failure', 'Low Performer', 'Medium performer', 'Low Performer',\n",
              "       'Low Performer', 'Low Performer', 'Low Performer', 'Low Performer',\n",
              "       'Low Performer', 'Low Performer', 'Medium performer',\n",
              "       'Low Performer', 'Dropped', 'Low Performer', 'Medium performer',\n",
              "       'Low Performer', 'Failure', 'Medium performer', 'Medium performer',\n",
              "       'Medium performer', 'Low Performer', 'Medium performer',\n",
              "       'Low Performer', 'Low Performer', 'Low Performer',\n",
              "       'Medium performer', 'Low Performer', 'Low Performer',\n",
              "       'Medium performer', 'Low Performer', 'Failure', 'High Performer',\n",
              "       'High Performer', 'Low Performer', 'Low Performer', 'Failure',\n",
              "       'Low Performer', 'Medium performer', 'Low Performer',\n",
              "       'Low Performer', 'Medium performer', 'Low Performer', 'Dropped',\n",
              "       'Medium performer', 'High Performer', 'Failure', 'Low Performer',\n",
              "       'Low Performer', 'High Performer', 'High Performer',\n",
              "       'Medium performer', 'Low Performer', 'Low Performer',\n",
              "       'High Performer', 'High Performer', 'High Performer', 'Failure',\n",
              "       'High Performer', 'Low Performer', 'Medium performer', 'Dropped',\n",
              "       'High Performer', 'High Performer', 'Failure', 'Medium performer',\n",
              "       'Low Performer', 'High Performer', 'Medium performer',\n",
              "       'Low Performer', 'High Performer', 'Low Performer',\n",
              "       'Medium performer', 'Low Performer', 'High Performer',\n",
              "       'High Performer', 'Low Performer', 'Medium performer',\n",
              "       'Low Performer', 'Low Performer', 'Low Performer',\n",
              "       'Medium performer', 'Low Performer', 'High Performer',\n",
              "       'Medium performer', 'High Performer', 'Low Performer',\n",
              "       'Medium performer', 'Low Performer', 'Medium performer',\n",
              "       'Low Performer', 'Low Performer', 'Medium performer',\n",
              "       'Medium performer', 'Failure', 'Failure', 'Low Performer',\n",
              "       'Medium performer', 'High Performer', 'Failure', 'Low Performer',\n",
              "       'Failure', 'Medium performer', 'Medium performer', 'Low Performer',\n",
              "       'Low Performer', 'Medium performer', 'Medium performer',\n",
              "       'Low Performer', 'Low Performer', 'Failure', 'Failure'],\n",
              "      dtype=object)"
            ]
          },
          "metadata": {},
          "execution_count": 37
        }
      ]
    },
    {
      "cell_type": "code",
      "source": [
        "from sklearn.compose import ColumnTransformer\n",
        "from sklearn.preprocessing import OneHotEncoder\n",
        "\n",
        "ct = ColumnTransformer(transformers=[('encoder', OneHotEncoder(), [0])], remainder = 'passthrough')\n",
        "X = np.array(ct.fit_transform(X))"
      ],
      "metadata": {
        "id": "UhsnS8iB8owO"
      },
      "execution_count": null,
      "outputs": []
    },
    {
      "cell_type": "code",
      "source": [
        "print(X)"
      ],
      "metadata": {
        "colab": {
          "base_uri": "https://localhost:8080/"
        },
        "id": "WSNMs7gU8sHr",
        "outputId": "9ffe85ef-1aa2-4f50-9eb9-e8dad33a2665"
      },
      "execution_count": null,
      "outputs": [
        {
          "output_type": "stream",
          "name": "stdout",
          "text": [
            "[[0.0 1.0 5.0 5.0 90 73.0]\n",
            " [1.0 0.0 4.0 6.0 70 78.0]\n",
            " [0.0 1.0 6.0 4.0 -2 -2.0]\n",
            " ...\n",
            " [0.0 1.0 7.0 3.0 60 55.0]\n",
            " [1.0 0.0 7.0 3.0 52 37.0]\n",
            " [1.0 0.0 8.5 1.5 55 40.0]]\n"
          ]
        }
      ]
    },
    {
      "cell_type": "code",
      "source": [
        "from sklearn.preprocessing import LabelEncoder\n",
        "labelencoder_Y = LabelEncoder()\n",
        "Y = labelencoder_Y.fit_transform(Y)"
      ],
      "metadata": {
        "id": "rNTCSpz18vrS"
      },
      "execution_count": null,
      "outputs": []
    },
    {
      "cell_type": "code",
      "source": [
        "print(Y)"
      ],
      "metadata": {
        "colab": {
          "base_uri": "https://localhost:8080/"
        },
        "id": "Kgf8BFMS8y6k",
        "outputId": "e028e6a0-17c9-4041-9d4f-b6eca1ab9a2d"
      },
      "execution_count": null,
      "outputs": [
        {
          "output_type": "stream",
          "name": "stdout",
          "text": [
            "[4 4 0 3 2 2 4 2 4 4 2 2 2 4 2 2 2 4 4 2 3 3 2 4 3 4 4 2 2 4 2 3 4 4 2 2 2\n",
            " 2 2 4 4 4 4 2 4 2 2 2 3 2 2 2 2 2 2 2 4 4 2 2 2 4 2 2 4 4 4 2 2 4 2 3 4 4\n",
            " 2 2 2 2 2 4 4 4 4 2 4 4 2 2 4 2 2 2 2 4 4 4 4 4 1 4 1 4 3 4 1 3 3 2 4 2 1\n",
            " 3 3 3 3 3 3 4 3 1 2 2 1 4 1 3 4 3 3 3 2 3 1 3 3 3 1 3 3 0 2 2 1 3 3 4 2 3\n",
            " 3 1 2 2 2 3 3 3 3 4 2 1 4 1 4 3 1 2 1 3 3 2 3 1 1 1 1 3 0 3 3 1 0 3 3 1 2\n",
            " 3 3 3 3 4 3 3 3 3 4 2 4 2 4 3 1 4 3 1 3 4 3 3 3 3 1 3 3 4 4 1 4 4 3 1 4 2\n",
            " 3 4 4 4 4 2 4 2 4 2 3 1 1 1 4 4 3 1 3 4 3 4 3 3 4 2 4 2 4 3 1 2 4 3 3 2 3\n",
            " 4 3 3 4 3 2 2 1 3 1 2 3 1 1 1 3 4 3 3 3 3 3 3 3 4 3 0 3 4 3 1 4 4 4 3 4 3\n",
            " 3 3 4 3 3 4 3 1 2 2 3 3 1 3 4 3 3 4 3 0 4 2 1 3 3 2 2 4 3 3 2 2 2 1 2 3 4\n",
            " 0 2 2 1 4 3 2 4 3 2 3 4 3 2 2 3 4 3 3 3 4 3 2 4 2 3 4 3 4 3 3 4 4 1 1 3 4\n",
            " 2 1 3 1 4 4 3 3 4 4 3 3 1 1]\n"
          ]
        }
      ]
    },
    {
      "cell_type": "code",
      "source": [
        "from sklearn.model_selection import train_test_split\n",
        "X_train, X_test, Y_train, Y_test = train_test_split(X,Y, test_size = 0.2, random_state= 0)"
      ],
      "metadata": {
        "id": "ghwkfEk783lA"
      },
      "execution_count": null,
      "outputs": []
    },
    {
      "cell_type": "code",
      "source": [
        "X_train"
      ],
      "metadata": {
        "colab": {
          "base_uri": "https://localhost:8080/"
        },
        "id": "r3_caq_s87wi",
        "outputId": "c922d6e5-4094-4e56-a053-f24fdd636b77"
      },
      "execution_count": null,
      "outputs": [
        {
          "output_type": "execute_result",
          "data": {
            "text/plain": [
              "array([[0.0, 1.0, 10.0, 0.0, 77, 69.0],\n",
              "       [0.0, 1.0, 8.5, 1.5, 82, 87.0],\n",
              "       [0.0, 1.0, 9.5, 0.5, 57, 81.0],\n",
              "       ...,\n",
              "       [1.0, 0.0, 8.5, 1.5, 77, 65.0],\n",
              "       [0.0, 1.0, 10.0, 0.0, 90, 100.0],\n",
              "       [0.0, 1.0, 5.5, 4.5, 29, 35.0]], dtype=object)"
            ]
          },
          "metadata": {},
          "execution_count": 43
        }
      ]
    },
    {
      "cell_type": "code",
      "source": [
        "X_test"
      ],
      "metadata": {
        "colab": {
          "base_uri": "https://localhost:8080/"
        },
        "id": "seBoNhhM89ap",
        "outputId": "5d95ff43-5d93-4a2b-a182-8d897f431665"
      },
      "execution_count": null,
      "outputs": [
        {
          "output_type": "execute_result",
          "data": {
            "text/plain": [
              "array([[0.0, 1.0, 9.0, 1.0, 58, 89.0],\n",
              "       [1.0, 0.0, 8.0, 2.0, 33, 41.0],\n",
              "       [0.0, 1.0, 9.0, 1.0, 55, 56.0],\n",
              "       [1.0, 0.0, 10.0, 0.0, 86, 99.0],\n",
              "       [0.0, 1.0, 8.5, 1.5, 68, 90.0],\n",
              "       [0.0, 1.0, 10.0, 0.0, 100, 97.0],\n",
              "       [0.0, 1.0, 8.75, 1.25, 71, 28.0],\n",
              "       [0.0, 1.0, 3.0, 7.0, 30, -2.0],\n",
              "       [0.0, 1.0, 10.0, 0.0, 63, 39.0],\n",
              "       [0.0, 1.0, 10.0, 0.0, 85, 69.0],\n",
              "       [1.0, 0.0, 9.0, 1.0, 73, 99.0],\n",
              "       [0.0, 1.0, 9.0, 1.0, 31, 45.0],\n",
              "       [0.0, 1.0, 10.0, 0.0, 79, 51.0],\n",
              "       [0.0, 1.0, 9.0, 1.0, 41, 30.0],\n",
              "       [0.0, 1.0, 9.5, 0.5, 88, 88.0],\n",
              "       [0.0, 1.0, 10.0, 0.0, 88, 86.0],\n",
              "       [0.0, 1.0, 10.0, 0.0, 86, 42.0],\n",
              "       [1.0, 0.0, 3.5, 6.5, 81, 27.0],\n",
              "       [0.0, 1.0, 9.0, 1.0, 48, 57.0],\n",
              "       [0.0, 1.0, 10.0, 0.0, 88, 52.0],\n",
              "       [0.0, 1.0, 6.5, 3.5, 71, 73.0],\n",
              "       [0.0, 1.0, 10.0, 0.0, 48, 49.0],\n",
              "       [0.0, 1.0, 10.0, 0.0, 97, 94.0],\n",
              "       [1.0, 0.0, 8.5, 1.5, 46, 55.0],\n",
              "       [1.0, 0.0, 9.0, 1.0, 72, 82.0],\n",
              "       [0.0, 1.0, 8.0, 2.0, 64, 73.0],\n",
              "       [0.0, 1.0, 10.0, 0.0, 93, 63.0],\n",
              "       [0.0, 1.0, 10.0, 0.0, 87, 92.0],\n",
              "       [1.0, 0.0, 8.75, 1.25, 65, 39.0],\n",
              "       [0.0, 1.0, 9.0, 1.0, 42, 48.0],\n",
              "       [0.0, 1.0, 8.75, 1.25, 52, 46.5],\n",
              "       [0.0, 1.0, 6.5, 3.5, 33, 10.0],\n",
              "       [0.0, 1.0, 9.5, 0.5, 86, 100.0],\n",
              "       [0.0, 1.0, 8.0, 2.0, 68, 97.0],\n",
              "       [1.0, 0.0, 4.0, 6.0, 70, 78.0],\n",
              "       [0.0, 1.0, 9.0, 1.0, 88, 82.0],\n",
              "       [0.0, 1.0, 10.0, 0.0, 83, 100.0],\n",
              "       [0.0, 1.0, 9.0, 1.0, 63, 46.0],\n",
              "       [0.0, 1.0, 9.5, 0.5, 34, 43.0],\n",
              "       [0.0, 1.0, 10.0, 0.0, 85, 100.0],\n",
              "       [0.0, 1.0, 7.5, 2.5, 76, 55.0],\n",
              "       [1.0, 0.0, 10.0, 0.0, 51, 61.0],\n",
              "       [1.0, 0.0, 10.0, 0.0, 86, 92.0],\n",
              "       [1.0, 0.0, 9.5, 0.5, 78, 77.0],\n",
              "       [0.0, 1.0, 7.75, 2.25, 69, 35.0],\n",
              "       [0.0, 1.0, 9.5, 0.5, 85, 89.0],\n",
              "       [0.0, 1.0, 10.0, 0.0, 82, 100.0],\n",
              "       [0.0, 1.0, 9.5, 0.5, 53, 51.0],\n",
              "       [0.0, 1.0, 10.5, -0.5, 85, 92.0],\n",
              "       [1.0, 0.0, 9.0, 1.0, 83, 96.0],\n",
              "       [0.0, 1.0, 10.0, 0.0, 93, 83.0],\n",
              "       [0.0, 1.0, 10.0, 0.0, 84, 88.0],\n",
              "       [0.0, 1.0, 10.0, 0.0, 88, 87.0],\n",
              "       [0.0, 1.0, 8.5, 1.5, 76, 100.0],\n",
              "       [1.0, 0.0, 10.0, 0.0, 88, 86.0],\n",
              "       [1.0, 0.0, 9.0, 1.0, 90, 92.0],\n",
              "       [1.0, 0.0, 9.5, 0.5, 78, 90.0],\n",
              "       [0.0, 1.0, 8.5, 1.5, 56, 72.0],\n",
              "       [1.0, 0.0, 10.0, 0.0, 72, 56.5],\n",
              "       [0.0, 1.0, 10.0, 0.0, 74, 43.0],\n",
              "       [1.0, 0.0, 9.5, 0.5, 73, 79.0],\n",
              "       [0.0, 1.0, 9.5, 0.5, 73, 64.0],\n",
              "       [0.0, 1.0, 9.0, 1.0, 44, 43.0],\n",
              "       [0.0, 1.0, 8.0, 2.0, 59, 66.0],\n",
              "       [0.0, 1.0, 7.0, 3.0, 58, 30.0],\n",
              "       [0.0, 1.0, 9.5, 0.5, 83, 90.0],\n",
              "       [0.0, 1.0, 8.5, 1.5, 78, 100.0],\n",
              "       [0.0, 1.0, 10.0, 0.0, 58, 95.0],\n",
              "       [0.0, 1.0, 10.0, 0.0, 69, 44.0],\n",
              "       [0.0, 1.0, 9.0, 1.0, 91, 77.0],\n",
              "       [0.0, 1.0, 10.0, 0.0, 90, 83.0],\n",
              "       [0.0, 1.0, 10.0, 0.0, 87, 69.0],\n",
              "       [1.0, 0.0, 9.0, 1.0, 67, 60.0],\n",
              "       [1.0, 0.0, 9.5, 0.5, 45, 73.0],\n",
              "       [1.0, 0.0, 9.5, 0.5, 61, 83.0],\n",
              "       [0.0, 1.0, 9.0, 1.0, 67, 34.0],\n",
              "       [0.0, 1.0, 9.0, 1.0, 60, 84.0]], dtype=object)"
            ]
          },
          "metadata": {},
          "execution_count": 44
        }
      ]
    },
    {
      "cell_type": "code",
      "source": [
        "Y_train"
      ],
      "metadata": {
        "colab": {
          "base_uri": "https://localhost:8080/"
        },
        "id": "Szj91CM99BZg",
        "outputId": "a40dd55a-7d01-4b9c-929f-63fbfddf817d"
      },
      "execution_count": null,
      "outputs": [
        {
          "output_type": "execute_result",
          "data": {
            "text/plain": [
              "array([4, 4, 3, 4, 1, 3, 1, 4, 2, 2, 1, 4, 3, 1, 2, 3, 3, 1, 3, 4, 2, 4,\n",
              "       2, 2, 1, 4, 3, 3, 2, 2, 4, 2, 3, 1, 3, 3, 4, 4, 2, 4, 4, 4, 3, 3,\n",
              "       4, 4, 2, 3, 3, 3, 3, 4, 4, 3, 3, 3, 3, 0, 2, 1, 4, 3, 1, 3, 4, 3,\n",
              "       4, 2, 3, 4, 3, 2, 3, 4, 4, 1, 1, 1, 4, 4, 2, 4, 2, 3, 1, 3, 4, 3,\n",
              "       4, 3, 3, 4, 3, 2, 4, 1, 2, 1, 2, 3, 4, 3, 3, 4, 2, 3, 1, 2, 4, 4,\n",
              "       4, 2, 4, 4, 3, 4, 3, 1, 3, 3, 3, 4, 1, 4, 3, 4, 3, 2, 4, 4, 1, 4,\n",
              "       1, 1, 2, 4, 3, 3, 1, 3, 3, 3, 1, 1, 4, 2, 2, 2, 2, 2, 3, 4, 2, 0,\n",
              "       3, 2, 4, 2, 4, 4, 2, 2, 4, 3, 2, 3, 2, 2, 4, 3, 4, 2, 4, 3, 3, 0,\n",
              "       3, 3, 2, 2, 2, 1, 3, 2, 3, 4, 4, 3, 2, 3, 2, 1, 2, 1, 2, 4, 3, 2,\n",
              "       3, 1, 3, 4, 4, 3, 2, 4, 2, 3, 4, 2, 4, 4, 3, 1, 3, 3, 4, 4, 4, 3,\n",
              "       2, 4, 3, 3, 3, 2, 3, 3, 0, 3, 3, 1, 4, 1, 4, 2, 1, 3, 2, 4, 3, 1,\n",
              "       4, 4, 2, 2, 2, 4, 3, 1, 4, 2, 2, 3, 3, 4, 2, 1, 3, 2, 3, 3, 3, 4,\n",
              "       3, 3, 4, 3, 2, 3, 0, 3, 3, 4, 3, 2, 2, 4, 3, 2, 4, 0, 4, 2, 4, 3,\n",
              "       1, 2, 4, 3, 3, 4, 2, 2, 4, 3, 3, 3, 4, 4, 2, 3, 4, 3, 4, 2, 1])"
            ]
          },
          "metadata": {},
          "execution_count": 45
        }
      ]
    },
    {
      "cell_type": "code",
      "source": [
        "Y_test"
      ],
      "metadata": {
        "colab": {
          "base_uri": "https://localhost:8080/"
        },
        "id": "0njr0Wen9Ezf",
        "outputId": "981289c1-f276-481c-d2a1-41c3d6db50c7"
      },
      "execution_count": null,
      "outputs": [
        {
          "output_type": "execute_result",
          "data": {
            "text/plain": [
              "array([4, 1, 3, 2, 4, 2, 1, 0, 3, 4, 2, 1, 3, 1, 2, 2, 3, 3, 3, 4, 4, 1,\n",
              "       2, 3, 4, 3, 4, 2, 3, 1, 1, 1, 2, 4, 4, 2, 2, 3, 1, 2, 3, 3, 2, 4,\n",
              "       3, 2, 2, 3, 2, 2, 2, 2, 2, 2, 2, 2, 4, 3, 3, 3, 4, 3, 1, 3, 1, 2,\n",
              "       2, 4, 3, 4, 2, 4, 3, 3, 4, 3, 4])"
            ]
          },
          "metadata": {},
          "execution_count": 46
        }
      ]
    },
    {
      "cell_type": "code",
      "source": [
        "from sklearn.preprocessing import StandardScaler\n",
        "\n",
        "sc_X = StandardScaler()\n",
        "X_train = sc_X.fit_transform(X_train)\n",
        "X_test = sc_X.transform(X_test)"
      ],
      "metadata": {
        "id": "a--XujhP9H_J"
      },
      "execution_count": null,
      "outputs": []
    },
    {
      "cell_type": "code",
      "source": [
        "X_train"
      ],
      "metadata": {
        "colab": {
          "base_uri": "https://localhost:8080/"
        },
        "id": "Yutk2mhC9L3R",
        "outputId": "2ea938fe-cf8b-4651-a26c-e34038b4dd11"
      },
      "execution_count": null,
      "outputs": [
        {
          "output_type": "execute_result",
          "data": {
            "text/plain": [
              "array([[-0.58863506,  0.58863506,  0.87734233, -0.87734233,  0.37204979,\n",
              "         0.03794829],\n",
              "       [-0.58863506,  0.58863506, -0.4072877 ,  0.4072877 ,  0.64941572,\n",
              "         0.82226034],\n",
              "       [-0.58863506,  0.58863506,  0.44913232, -0.44913232, -0.7374139 ,\n",
              "         0.56082299],\n",
              "       ...,\n",
              "       [ 1.69884548, -1.69884548, -0.4072877 ,  0.4072877 ,  0.37204979,\n",
              "        -0.13634328],\n",
              "       [-0.58863506,  0.58863506,  0.87734233, -0.87734233,  1.09320119,\n",
              "         1.38870794],\n",
              "       [-0.58863506,  0.58863506, -2.97654776,  2.97654776, -2.29066306,\n",
              "        -1.44353004]])"
            ]
          },
          "metadata": {},
          "execution_count": 48
        }
      ]
    },
    {
      "cell_type": "code",
      "source": [
        "X_test"
      ],
      "metadata": {
        "colab": {
          "base_uri": "https://localhost:8080/"
        },
        "id": "yxbC3yut9Oxu",
        "outputId": "3a5c513a-ca8c-4749-ad85-04830f3e53e3"
      },
      "execution_count": null,
      "outputs": [
        {
          "output_type": "execute_result",
          "data": {
            "text/plain": [
              "array([[-0.58863506,  0.58863506,  0.02092231, -0.02092231, -0.68194071,\n",
              "         0.90940613],\n",
              "       [ 1.69884548, -1.69884548, -0.83549771,  0.83549771, -2.06877032,\n",
              "        -1.18209269],\n",
              "       [-0.58863506,  0.58863506,  0.02092231, -0.02092231, -0.84836026,\n",
              "        -0.52849931],\n",
              "       [ 1.69884548, -1.69884548,  0.87734233, -0.87734233,  0.87130845,\n",
              "         1.34513505],\n",
              "       [-0.58863506,  0.58863506, -0.4072877 ,  0.4072877 , -0.12720887,\n",
              "         0.95297902],\n",
              "       [-0.58863506,  0.58863506,  0.87734233, -0.87734233,  1.64793304,\n",
              "         1.25798926],\n",
              "       [-0.58863506,  0.58863506, -0.19318269,  0.19318269,  0.03921069,\n",
              "        -1.74854029],\n",
              "       [-0.58863506,  0.58863506, -5.11759781,  5.11759781, -2.23518988,\n",
              "        -3.05572705],\n",
              "       [-0.58863506,  0.58863506,  0.87734233, -0.87734233, -0.40457479,\n",
              "        -1.26923847],\n",
              "       [-0.58863506,  0.58863506,  0.87734233, -0.87734233,  0.81583527,\n",
              "         0.03794829],\n",
              "       [ 1.69884548, -1.69884548,  0.02092231, -0.02092231,  0.15015706,\n",
              "         1.34513505],\n",
              "       [-0.58863506,  0.58863506,  0.02092231, -0.02092231, -2.17971669,\n",
              "        -1.00780112],\n",
              "       [-0.58863506,  0.58863506,  0.87734233, -0.87734233,  0.48299616,\n",
              "        -0.74636377],\n",
              "       [-0.58863506,  0.58863506,  0.02092231, -0.02092231, -1.62498485,\n",
              "        -1.6613945 ],\n",
              "       [-0.58863506,  0.58863506,  0.44913232, -0.44913232,  0.98225482,\n",
              "         0.86583323],\n",
              "       [-0.58863506,  0.58863506,  0.87734233, -0.87734233,  0.98225482,\n",
              "         0.77868745],\n",
              "       [-0.58863506,  0.58863506,  0.87734233, -0.87734233,  0.87130845,\n",
              "        -1.1385198 ],\n",
              "       [ 1.69884548, -1.69884548, -4.6893878 ,  4.6893878 ,  0.59394253,\n",
              "        -1.79211318],\n",
              "       [-0.58863506,  0.58863506,  0.02092231, -0.02092231, -1.23667256,\n",
              "        -0.48492642],\n",
              "       [-0.58863506,  0.58863506,  0.87734233, -0.87734233,  0.98225482,\n",
              "        -0.70279088],\n",
              "       [-0.58863506,  0.58863506, -2.12012774,  2.12012774,  0.03921069,\n",
              "         0.21223985],\n",
              "       [-0.58863506,  0.58863506,  0.87734233, -0.87734233, -1.23667256,\n",
              "        -0.83350955],\n",
              "       [-0.58863506,  0.58863506,  0.87734233, -0.87734233,  1.48151348,\n",
              "         1.12727059],\n",
              "       [ 1.69884548, -1.69884548, -0.4072877 ,  0.4072877 , -1.34761892,\n",
              "        -0.5720722 ],\n",
              "       [ 1.69884548, -1.69884548,  0.02092231, -0.02092231,  0.09468387,\n",
              "         0.60439588],\n",
              "       [-0.58863506,  0.58863506, -0.83549771,  0.83549771, -0.3491016 ,\n",
              "         0.21223985],\n",
              "       [-0.58863506,  0.58863506,  0.87734233, -0.87734233,  1.25962075,\n",
              "        -0.22348907],\n",
              "       [-0.58863506,  0.58863506,  0.87734233, -0.87734233,  0.92678164,\n",
              "         1.0401248 ],\n",
              "       [ 1.69884548, -1.69884548, -0.19318269,  0.19318269, -0.29362842,\n",
              "        -1.26923847],\n",
              "       [-0.58863506,  0.58863506,  0.02092231, -0.02092231, -1.56951166,\n",
              "        -0.87708245],\n",
              "       [-0.58863506,  0.58863506, -0.19318269,  0.19318269, -1.01477982,\n",
              "        -0.94244178],\n",
              "       [-0.58863506,  0.58863506, -2.12012774,  2.12012774, -2.06877032,\n",
              "        -2.53285234],\n",
              "       [-0.58863506,  0.58863506,  0.44913232, -0.44913232,  0.87130845,\n",
              "         1.38870794],\n",
              "       [-0.58863506,  0.58863506, -0.83549771,  0.83549771, -0.12720887,\n",
              "         1.25798926],\n",
              "       [ 1.69884548, -1.69884548, -4.26117779,  4.26117779, -0.0162625 ,\n",
              "         0.43010431],\n",
              "       [-0.58863506,  0.58863506,  0.02092231, -0.02092231,  0.98225482,\n",
              "         0.60439588],\n",
              "       [-0.58863506,  0.58863506,  0.87734233, -0.87734233,  0.7048889 ,\n",
              "         1.38870794],\n",
              "       [-0.58863506,  0.58863506,  0.02092231, -0.02092231, -0.40457479,\n",
              "        -0.96422823],\n",
              "       [-0.58863506,  0.58863506,  0.44913232, -0.44913232, -2.01329714,\n",
              "        -1.09494691],\n",
              "       [-0.58863506,  0.58863506,  0.87734233, -0.87734233,  0.81583527,\n",
              "         1.38870794],\n",
              "       [-0.58863506,  0.58863506, -1.26370772,  1.26370772,  0.31657661,\n",
              "        -0.5720722 ],\n",
              "       [ 1.69884548, -1.69884548,  0.87734233, -0.87734233, -1.070253  ,\n",
              "        -0.31063485],\n",
              "       [ 1.69884548, -1.69884548,  0.87734233, -0.87734233,  0.87130845,\n",
              "         1.0401248 ],\n",
              "       [ 1.69884548, -1.69884548,  0.44913232, -0.44913232,  0.42752298,\n",
              "         0.38653142],\n",
              "       [-0.58863506,  0.58863506, -1.04960271,  1.04960271, -0.07173568,\n",
              "        -1.44353004],\n",
              "       [-0.58863506,  0.58863506,  0.44913232, -0.44913232,  0.81583527,\n",
              "         0.90940613],\n",
              "       [-0.58863506,  0.58863506,  0.87734233, -0.87734233,  0.64941572,\n",
              "         1.38870794],\n",
              "       [-0.58863506,  0.58863506,  0.44913232, -0.44913232, -0.95930663,\n",
              "        -0.74636377],\n",
              "       [-0.58863506,  0.58863506,  1.30555235, -1.30555235,  0.81583527,\n",
              "         1.0401248 ],\n",
              "       [ 1.69884548, -1.69884548,  0.02092231, -0.02092231,  0.7048889 ,\n",
              "         1.21441637],\n",
              "       [-0.58863506,  0.58863506,  0.87734233, -0.87734233,  1.25962075,\n",
              "         0.64796877],\n",
              "       [-0.58863506,  0.58863506,  0.87734233, -0.87734233,  0.76036209,\n",
              "         0.86583323],\n",
              "       [-0.58863506,  0.58863506,  0.87734233, -0.87734233,  0.98225482,\n",
              "         0.82226034],\n",
              "       [-0.58863506,  0.58863506, -0.4072877 ,  0.4072877 ,  0.31657661,\n",
              "         1.38870794],\n",
              "       [ 1.69884548, -1.69884548,  0.87734233, -0.87734233,  0.98225482,\n",
              "         0.77868745],\n",
              "       [ 1.69884548, -1.69884548,  0.02092231, -0.02092231,  1.09320119,\n",
              "         1.0401248 ],\n",
              "       [ 1.69884548, -1.69884548,  0.44913232, -0.44913232,  0.42752298,\n",
              "         0.95297902],\n",
              "       [-0.58863506,  0.58863506, -0.4072877 ,  0.4072877 , -0.79288708,\n",
              "         0.16866696],\n",
              "       [ 1.69884548, -1.69884548,  0.87734233, -0.87734233,  0.09468387,\n",
              "        -0.50671286],\n",
              "       [-0.58863506,  0.58863506,  0.87734233, -0.87734233,  0.20563024,\n",
              "        -1.09494691],\n",
              "       [ 1.69884548, -1.69884548,  0.44913232, -0.44913232,  0.15015706,\n",
              "         0.47367721],\n",
              "       [-0.58863506,  0.58863506,  0.44913232, -0.44913232,  0.15015706,\n",
              "        -0.17991617],\n",
              "       [-0.58863506,  0.58863506,  0.02092231, -0.02092231, -1.45856529,\n",
              "        -1.09494691],\n",
              "       [-0.58863506,  0.58863506, -0.83549771,  0.83549771, -0.62646753,\n",
              "        -0.09277039],\n",
              "       [-0.58863506,  0.58863506, -1.69191773,  1.69191773, -0.68194071,\n",
              "        -1.6613945 ],\n",
              "       [-0.58863506,  0.58863506,  0.44913232, -0.44913232,  0.7048889 ,\n",
              "         0.95297902],\n",
              "       [-0.58863506,  0.58863506, -0.4072877 ,  0.4072877 ,  0.42752298,\n",
              "         1.38870794],\n",
              "       [-0.58863506,  0.58863506,  0.87734233, -0.87734233, -0.68194071,\n",
              "         1.17084348],\n",
              "       [-0.58863506,  0.58863506,  0.87734233, -0.87734233, -0.07173568,\n",
              "        -1.05137401],\n",
              "       [-0.58863506,  0.58863506,  0.02092231, -0.02092231,  1.14867438,\n",
              "         0.38653142],\n",
              "       [-0.58863506,  0.58863506,  0.87734233, -0.87734233,  1.09320119,\n",
              "         0.64796877],\n",
              "       [-0.58863506,  0.58863506,  0.87734233, -0.87734233,  0.92678164,\n",
              "         0.03794829],\n",
              "       [ 1.69884548, -1.69884548,  0.02092231, -0.02092231, -0.18268205,\n",
              "        -0.35420774],\n",
              "       [ 1.69884548, -1.69884548,  0.44913232, -0.44913232, -1.40309211,\n",
              "         0.21223985],\n",
              "       [ 1.69884548, -1.69884548,  0.44913232, -0.44913232, -0.51552116,\n",
              "         0.64796877],\n",
              "       [-0.58863506,  0.58863506,  0.02092231, -0.02092231, -0.18268205,\n",
              "        -1.48710293],\n",
              "       [-0.58863506,  0.58863506,  0.02092231, -0.02092231, -0.57099434,\n",
              "         0.69154167]])"
            ]
          },
          "metadata": {},
          "execution_count": 49
        }
      ]
    },
    {
      "cell_type": "markdown",
      "source": [
        "XGBoost"
      ],
      "metadata": {
        "id": "TJdmsmfN9W5e"
      }
    },
    {
      "cell_type": "code",
      "source": [
        "import xgboost as xgb\n",
        "from sklearn.metrics import accuracy_score\n",
        "xgbd = xgb.XGBClassifier(max_depth=10, n_estimators=5000 , learning_rate=.1, n_jobs=-1)"
      ],
      "metadata": {
        "id": "UqXqQrvu9Re9"
      },
      "execution_count": null,
      "outputs": []
    },
    {
      "cell_type": "code",
      "source": [
        "xgbd.fit(X_train, Y_train)\n",
        "xgb_pred = xgbd.predict(X_test)\n",
        "xgb_acc=accuracy_score(Y_test, xgb_pred)\n",
        "print(xgb_acc)"
      ],
      "metadata": {
        "colab": {
          "base_uri": "https://localhost:8080/"
        },
        "id": "4cW4nohd9auQ",
        "outputId": "77c69046-2d5a-4803-f3bf-49aa22df9123"
      },
      "execution_count": null,
      "outputs": [
        {
          "output_type": "stream",
          "name": "stdout",
          "text": [
            "0.9090909090909091\n"
          ]
        }
      ]
    },
    {
      "cell_type": "code",
      "source": [
        "from sklearn.metrics import classification_report\n",
        "print(classification_report(Y_test, xgb_pred))"
      ],
      "metadata": {
        "colab": {
          "base_uri": "https://localhost:8080/"
        },
        "id": "dGCzKmhk9hC3",
        "outputId": "dda6f648-7e23-4d07-c038-0538692b2b60"
      },
      "execution_count": null,
      "outputs": [
        {
          "output_type": "stream",
          "name": "stdout",
          "text": [
            "              precision    recall  f1-score   support\n",
            "\n",
            "           0       1.00      1.00      1.00         1\n",
            "           1       0.90      0.82      0.86        11\n",
            "           2       0.96      0.96      0.96        25\n",
            "           3       0.88      0.91      0.89        23\n",
            "           4       0.88      0.88      0.88        17\n",
            "\n",
            "    accuracy                           0.91        77\n",
            "   macro avg       0.92      0.91      0.92        77\n",
            "weighted avg       0.91      0.91      0.91        77\n",
            "\n"
          ]
        }
      ]
    },
    {
      "cell_type": "code",
      "source": [
        "from sklearn.metrics import confusion_matrix\n",
        "import seaborn as sns\n",
        "from sklearn.metrics import classification_report\n",
        "Ypred = xgb_pred\n",
        "label=['0','1', '2','3','4']\n",
        "Ytrue = Y_test  \n",
        "cm = confusion_matrix(Ytrue, Ypred)\n",
        "plt.figure(figsize=(12, 12))\n",
        "plt.title(\"Confusion Matrix for XGBoost\")\n",
        "ax = sns.heatmap(cm, cmap=\"rocket_r\", fmt=\".01f\",annot_kws={'size':16}, annot=True, square=True, xticklabels=label, yticklabels=label)\n",
        "ax.set_ylabel('Actual', fontsize=20)\n",
        "ax.set_xlabel('Predicted', fontsize=20)"
      ],
      "metadata": {
        "colab": {
          "base_uri": "https://localhost:8080/",
          "height": 706
        },
        "id": "8LO8qKKK9mQ9",
        "outputId": "4843a3cb-080c-45bc-e60a-e393130c267b"
      },
      "execution_count": null,
      "outputs": [
        {
          "output_type": "execute_result",
          "data": {
            "text/plain": [
              "Text(0.5, 145.31999999999996, 'Predicted')"
            ]
          },
          "metadata": {},
          "execution_count": 53
        },
        {
          "output_type": "display_data",
          "data": {
            "image/png": "[encoded data removed]",
            "text/plain": [
              "<Figure size 864x864 with 2 Axes>"
            ]
          },
          "metadata": {
            "needs_background": "light"
          }
        }
      ]
    },
    {
      "cell_type": "code",
      "source": [],
      "metadata": {
        "id": "Rp5hz1_F9pvQ"
      },
      "execution_count": null,
      "outputs": []
    }
  ]
}